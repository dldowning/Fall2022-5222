{
  "nbformat": 4,
  "nbformat_minor": 0,
  "metadata": {
    "colab": {
      "provenance": [],
      "machine_shape": "hm"
    },
    "kernelspec": {
      "name": "python3",
      "display_name": "Python 3"
    },
    "language_info": {
      "name": "python"
    }
  },
  "cells": [
    {
      "cell_type": "markdown",
      "metadata": {
        "id": "view-in-github"
      },
      "source": [
        "<a href=\"https://colab.research.google.com/github/dldowning/Fall2022-5222/blob/main/All_Features_Downing_Roberts_5222_Project_2.ipynb\" target=\"_parent\"><img src=\"https://colab.research.google.com/assets/colab-badge.svg\" alt=\"Open In Colab\"/></a>"
      ]
    },
    {
      "cell_type": "markdown",
      "source": [
        "#Imports"
      ],
      "metadata": {
        "id": "2Fg7eZRAlOgy"
      }
    },
    {
      "cell_type": "code",
      "execution_count": null,
      "metadata": {
        "id": "y0gm-p1OwcOs",
        "colab": {
          "base_uri": "https://localhost:8080/"
        },
        "outputId": "df0538b7-a92b-4f10-ba5a-d3dccdb3ef27"
      },
      "outputs": [
        {
          "output_type": "stream",
          "name": "stdout",
          "text": [
            "Looking in indexes: https://pypi.org/simple, https://us-python.pkg.dev/colab-wheels/public/simple/\n",
            "Collecting emoji\n",
            "  Downloading emoji-2.2.0.tar.gz (240 kB)\n",
            "\u001b[K     |████████████████████████████████| 240 kB 4.9 MB/s \n",
            "\u001b[?25hBuilding wheels for collected packages: emoji\n",
            "  Building wheel for emoji (setup.py) ... \u001b[?25l\u001b[?25hdone\n",
            "  Created wheel for emoji: filename=emoji-2.2.0-py3-none-any.whl size=234926 sha256=50e7d39fe89825500741de3538f274167dff5f630e23967b2e58d1b417f7a5ee\n",
            "  Stored in directory: /root/.cache/pip/wheels/f3/e3/f2/1de1c2e3ed742e1df73e0f15d58864e50c7e64f607b548d6cf\n",
            "Successfully built emoji\n",
            "Installing collected packages: emoji\n",
            "Successfully installed emoji-2.2.0\n"
          ]
        },
        {
          "output_type": "stream",
          "name": "stderr",
          "text": [
            "[nltk_data] Downloading package stopwords to /root/nltk_data...\n",
            "[nltk_data]   Unzipping corpora/stopwords.zip.\n",
            "[nltk_data] Downloading package punkt to /root/nltk_data...\n",
            "[nltk_data]   Unzipping tokenizers/punkt.zip.\n",
            "[nltk_data] Downloading package averaged_perceptron_tagger to\n",
            "[nltk_data]     /root/nltk_data...\n",
            "[nltk_data]   Unzipping taggers/averaged_perceptron_tagger.zip.\n"
          ]
        }
      ],
      "source": [
        "%pip install emoji\n",
        "import pandas as pd\n",
        "import numpy as np\n",
        "from statistics import mean\n",
        "import nltk\n",
        "from google.colab import files\n",
        "import matplotlib as plt\n",
        "import matplotlib.pyplot as plt\n",
        "import seaborn as sns\n",
        "import math\n",
        "import requests\n",
        "import string\n",
        "import random\n",
        "import seaborn as sns\n",
        "from nltk.corpus import stopwords\n",
        "import csv\n",
        "nltk.download('stopwords')\n",
        "nltk.download('punkt')\n",
        "from sklearn.preprocessing import MinMaxScaler\n",
        "from sklearn.model_selection import train_test_split\n",
        "from sklearn.feature_selection import SelectFromModel\n",
        "from sklearn.ensemble import RandomForestClassifier\n",
        "import re\n",
        "import emoji\n",
        "import plotly.graph_objects as go\n",
        "nltk.download('averaged_perceptron_tagger')\n",
        "stop_words = set(stopwords.words('english'))"
      ]
    },
    {
      "cell_type": "markdown",
      "source": [
        "#Creating dataframe"
      ],
      "metadata": {
        "id": "ki0KdvZFk91C"
      }
    },
    {
      "cell_type": "code",
      "source": [
        "!gdown 1ubIaCqJnOzG-m_ns7VmdV87Ecs349BbG"
      ],
      "metadata": {
        "colab": {
          "base_uri": "https://localhost:8080/"
        },
        "id": "JMr-smqMOwym",
        "outputId": "588c39db-0878-43ad-fb08-3487a89cf5d4"
      },
      "execution_count": null,
      "outputs": [
        {
          "output_type": "stream",
          "name": "stdout",
          "text": [
            "Downloading...\n",
            "From: https://drive.google.com/uc?id=1ubIaCqJnOzG-m_ns7VmdV87Ecs349BbG\n",
            "To: /content/tweets_extracted.csv\n",
            "\r  0% 0.00/18.3M [00:00<?, ?B/s]\r 66% 12.1M/18.3M [00:00<00:00, 118MB/s]\r100% 18.3M/18.3M [00:00<00:00, 154MB/s]\n"
          ]
        }
      ]
    },
    {
      "cell_type": "code",
      "source": [
        "URL = \"https://drive.google.com/uc?export=download&id=1C8ARH_yok3uOvirD_oKvgEmAR22SuC9R\"\n",
        "response = requests.get(URL)\n",
        "open(\"train_text_labels.csv\", \"wb\").write(response.content)"
      ],
      "metadata": {
        "colab": {
          "base_uri": "https://localhost:8080/"
        },
        "id": "QpuC3U1RnsOJ",
        "outputId": "5de4f662-9374-43db-f2cc-ca76a472bb24"
      },
      "execution_count": null,
      "outputs": [
        {
          "output_type": "execute_result",
          "data": {
            "text/plain": [
              "5123208"
            ]
          },
          "metadata": {},
          "execution_count": 3
        }
      ]
    },
    {
      "cell_type": "code",
      "source": [
        "URL = \"https://drive.google.com/uc?export=download&id=1z0URnDJ8ck38mQ4CvHi5TUkly8e46glP\"\n",
        "response = requests.get(URL)\n",
        "open(\"test_text.txt\", \"wb\").write(response.content)"
      ],
      "metadata": {
        "colab": {
          "base_uri": "https://localhost:8080/"
        },
        "id": "Zv3I3RB99McR",
        "outputId": "35207752-4cc3-4f34-d18d-3113f0e8207b"
      },
      "execution_count": null,
      "outputs": [
        {
          "output_type": "execute_result",
          "data": {
            "text/plain": [
              "1156877"
            ]
          },
          "metadata": {},
          "execution_count": 4
        }
      ]
    },
    {
      "cell_type": "code",
      "source": [
        "URL = \"https://drive.google.com/uc?export=download&id=1xWQ2Lpf866Be4OR8J-cJHuY1S25dWppf\"\n",
        "response = requests.get(URL)\n",
        "open(\"test_labels.txt\", \"wb\").write(response.content)"
      ],
      "metadata": {
        "colab": {
          "base_uri": "https://localhost:8080/"
        },
        "id": "jCzr8I-pCtIh",
        "outputId": "a594ec19-f429-43eb-a638-e196d0cb151b"
      },
      "execution_count": null,
      "outputs": [
        {
          "output_type": "execute_result",
          "data": {
            "text/plain": [
              "36850"
            ]
          },
          "metadata": {},
          "execution_count": 5
        }
      ]
    },
    {
      "cell_type": "code",
      "source": [
        "df0 = pd.read_csv(\"/content/train_text_labels.csv\", header=None)\n",
        "df0.columns = ['Twitter', 'Label']\n",
        "len(df0)"
      ],
      "metadata": {
        "colab": {
          "base_uri": "https://localhost:8080/"
        },
        "id": "dpaK7zlWlYbh",
        "outputId": "05ca8cb4-ae60-4ea1-bf7c-dc86a7fbcdf9"
      },
      "execution_count": null,
      "outputs": [
        {
          "output_type": "execute_result",
          "data": {
            "text/plain": [
              "45615"
            ]
          },
          "metadata": {},
          "execution_count": 6
        }
      ]
    },
    {
      "cell_type": "code",
      "source": [
        "dft = pd.read_csv(\"/content/test_text.txt\", sep=\"\\n\", header=None, quoting=csv.QUOTE_NONE)\n",
        "dft.columns = ['Twitter']\n",
        "len(dft)\n"
      ],
      "metadata": {
        "colab": {
          "base_uri": "https://localhost:8080/"
        },
        "id": "jrWP7cBN67Gj",
        "outputId": "d747ea4e-bbfa-476e-fe8d-805e0eae2de4"
      },
      "execution_count": null,
      "outputs": [
        {
          "output_type": "execute_result",
          "data": {
            "text/plain": [
              "12284"
            ]
          },
          "metadata": {},
          "execution_count": 7
        }
      ]
    },
    {
      "cell_type": "code",
      "source": [
        "dftl = pd.read_csv(\"/content/test_labels.txt\", sep=\"\\n\", header=None)\n",
        "dftl.columns = ['Label']\n",
        "len(dftl)\n"
      ],
      "metadata": {
        "colab": {
          "base_uri": "https://localhost:8080/"
        },
        "id": "hAyC71rtA_xv",
        "outputId": "3210863f-e037-4bd3-c4bd-875e4ec1ef39"
      },
      "execution_count": null,
      "outputs": [
        {
          "output_type": "execute_result",
          "data": {
            "text/plain": [
              "12284"
            ]
          },
          "metadata": {},
          "execution_count": 8
        }
      ]
    },
    {
      "cell_type": "code",
      "source": [
        "dft['Label']=dftl['Label']\n",
        "dft.head()"
      ],
      "metadata": {
        "colab": {
          "base_uri": "https://localhost:8080/",
          "height": 206
        },
        "id": "4v2zs-HKFrQL",
        "outputId": "1ff4e617-81a9-4565-c02c-7a66c420f0e1"
      },
      "execution_count": null,
      "outputs": [
        {
          "output_type": "execute_result",
          "data": {
            "text/plain": [
              "                                             Twitter  Label\n",
              "0  @user @user what do these '1/2 naked pics' hav...      1\n",
              "1  OH: “I had a blue penis while I was this” [pla...      1\n",
              "2  @user @user That's coming, but I think the vic...      1\n",
              "3  I think I may be finally in with the in crowd ...      2\n",
              "4  @user Wow,first Hugo Chavez and now Fidel Cast...      0"
            ],
            "text/html": [
              "\n",
              "  <div id=\"df-f787b5c6-d1e8-4211-b457-f39dfb5acafc\">\n",
              "    <div class=\"colab-df-container\">\n",
              "      <div>\n",
              "<style scoped>\n",
              "    .dataframe tbody tr th:only-of-type {\n",
              "        vertical-align: middle;\n",
              "    }\n",
              "\n",
              "    .dataframe tbody tr th {\n",
              "        vertical-align: top;\n",
              "    }\n",
              "\n",
              "    .dataframe thead th {\n",
              "        text-align: right;\n",
              "    }\n",
              "</style>\n",
              "<table border=\"1\" class=\"dataframe\">\n",
              "  <thead>\n",
              "    <tr style=\"text-align: right;\">\n",
              "      <th></th>\n",
              "      <th>Twitter</th>\n",
              "      <th>Label</th>\n",
              "    </tr>\n",
              "  </thead>\n",
              "  <tbody>\n",
              "    <tr>\n",
              "      <th>0</th>\n",
              "      <td>@user @user what do these '1/2 naked pics' hav...</td>\n",
              "      <td>1</td>\n",
              "    </tr>\n",
              "    <tr>\n",
              "      <th>1</th>\n",
              "      <td>OH: “I had a blue penis while I was this” [pla...</td>\n",
              "      <td>1</td>\n",
              "    </tr>\n",
              "    <tr>\n",
              "      <th>2</th>\n",
              "      <td>@user @user That's coming, but I think the vic...</td>\n",
              "      <td>1</td>\n",
              "    </tr>\n",
              "    <tr>\n",
              "      <th>3</th>\n",
              "      <td>I think I may be finally in with the in crowd ...</td>\n",
              "      <td>2</td>\n",
              "    </tr>\n",
              "    <tr>\n",
              "      <th>4</th>\n",
              "      <td>@user Wow,first Hugo Chavez and now Fidel Cast...</td>\n",
              "      <td>0</td>\n",
              "    </tr>\n",
              "  </tbody>\n",
              "</table>\n",
              "</div>\n",
              "      <button class=\"colab-df-convert\" onclick=\"convertToInteractive('df-f787b5c6-d1e8-4211-b457-f39dfb5acafc')\"\n",
              "              title=\"Convert this dataframe to an interactive table.\"\n",
              "              style=\"display:none;\">\n",
              "        \n",
              "  <svg xmlns=\"http://www.w3.org/2000/svg\" height=\"24px\"viewBox=\"0 0 24 24\"\n",
              "       width=\"24px\">\n",
              "    <path d=\"M0 0h24v24H0V0z\" fill=\"none\"/>\n",
              "    <path d=\"M18.56 5.44l.94 2.06.94-2.06 2.06-.94-2.06-.94-.94-2.06-.94 2.06-2.06.94zm-11 1L8.5 8.5l.94-2.06 2.06-.94-2.06-.94L8.5 2.5l-.94 2.06-2.06.94zm10 10l.94 2.06.94-2.06 2.06-.94-2.06-.94-.94-2.06-.94 2.06-2.06.94z\"/><path d=\"M17.41 7.96l-1.37-1.37c-.4-.4-.92-.59-1.43-.59-.52 0-1.04.2-1.43.59L10.3 9.45l-7.72 7.72c-.78.78-.78 2.05 0 2.83L4 21.41c.39.39.9.59 1.41.59.51 0 1.02-.2 1.41-.59l7.78-7.78 2.81-2.81c.8-.78.8-2.07 0-2.86zM5.41 20L4 18.59l7.72-7.72 1.47 1.35L5.41 20z\"/>\n",
              "  </svg>\n",
              "      </button>\n",
              "      \n",
              "  <style>\n",
              "    .colab-df-container {\n",
              "      display:flex;\n",
              "      flex-wrap:wrap;\n",
              "      gap: 12px;\n",
              "    }\n",
              "\n",
              "    .colab-df-convert {\n",
              "      background-color: #E8F0FE;\n",
              "      border: none;\n",
              "      border-radius: 50%;\n",
              "      cursor: pointer;\n",
              "      display: none;\n",
              "      fill: #1967D2;\n",
              "      height: 32px;\n",
              "      padding: 0 0 0 0;\n",
              "      width: 32px;\n",
              "    }\n",
              "\n",
              "    .colab-df-convert:hover {\n",
              "      background-color: #E2EBFA;\n",
              "      box-shadow: 0px 1px 2px rgba(60, 64, 67, 0.3), 0px 1px 3px 1px rgba(60, 64, 67, 0.15);\n",
              "      fill: #174EA6;\n",
              "    }\n",
              "\n",
              "    [theme=dark] .colab-df-convert {\n",
              "      background-color: #3B4455;\n",
              "      fill: #D2E3FC;\n",
              "    }\n",
              "\n",
              "    [theme=dark] .colab-df-convert:hover {\n",
              "      background-color: #434B5C;\n",
              "      box-shadow: 0px 1px 3px 1px rgba(0, 0, 0, 0.15);\n",
              "      filter: drop-shadow(0px 1px 2px rgba(0, 0, 0, 0.3));\n",
              "      fill: #FFFFFF;\n",
              "    }\n",
              "  </style>\n",
              "\n",
              "      <script>\n",
              "        const buttonEl =\n",
              "          document.querySelector('#df-f787b5c6-d1e8-4211-b457-f39dfb5acafc button.colab-df-convert');\n",
              "        buttonEl.style.display =\n",
              "          google.colab.kernel.accessAllowed ? 'block' : 'none';\n",
              "\n",
              "        async function convertToInteractive(key) {\n",
              "          const element = document.querySelector('#df-f787b5c6-d1e8-4211-b457-f39dfb5acafc');\n",
              "          const dataTable =\n",
              "            await google.colab.kernel.invokeFunction('convertToInteractive',\n",
              "                                                     [key], {});\n",
              "          if (!dataTable) return;\n",
              "\n",
              "          const docLinkHtml = 'Like what you see? Visit the ' +\n",
              "            '<a target=\"_blank\" href=https://colab.research.google.com/notebooks/data_table.ipynb>data table notebook</a>'\n",
              "            + ' to learn more about interactive tables.';\n",
              "          element.innerHTML = '';\n",
              "          dataTable['output_type'] = 'display_data';\n",
              "          await google.colab.output.renderOutput(dataTable, element);\n",
              "          const docLink = document.createElement('div');\n",
              "          docLink.innerHTML = docLinkHtml;\n",
              "          element.appendChild(docLink);\n",
              "        }\n",
              "      </script>\n",
              "    </div>\n",
              "  </div>\n",
              "  "
            ]
          },
          "metadata": {},
          "execution_count": 9
        }
      ]
    },
    {
      "cell_type": "code",
      "source": [
        "df0['Label'].value_counts()\n",
        "#0\tnegative\n",
        "#1\tneutral\n",
        "#2\tpositive"
      ],
      "metadata": {
        "colab": {
          "base_uri": "https://localhost:8080/"
        },
        "id": "peakGoADUHke",
        "outputId": "e2a3769a-0b4a-4540-d66c-6d3025838ea1"
      },
      "execution_count": null,
      "outputs": [
        {
          "output_type": "execute_result",
          "data": {
            "text/plain": [
              "1    20673\n",
              "2    17849\n",
              "0     7093\n",
              "Name: Label, dtype: int64"
            ]
          },
          "metadata": {},
          "execution_count": 10
        }
      ]
    },
    {
      "cell_type": "code",
      "source": [
        "#dropping the neutrals\n",
        "df = df0[df0['Label'] != 1]\n",
        "df.loc[df.Label == 2, 'Label'] = 1\n",
        "df=df.reset_index(drop=True)\n",
        "len(df)"
      ],
      "metadata": {
        "id": "47HFm_YlozWE",
        "colab": {
          "base_uri": "https://localhost:8080/"
        },
        "outputId": "0d283ff1-50b4-4560-c1a0-8df91113a5a8"
      },
      "execution_count": null,
      "outputs": [
        {
          "output_type": "stream",
          "name": "stderr",
          "text": [
            "/usr/local/lib/python3.7/dist-packages/pandas/core/indexing.py:1817: SettingWithCopyWarning: \n",
            "A value is trying to be set on a copy of a slice from a DataFrame.\n",
            "Try using .loc[row_indexer,col_indexer] = value instead\n",
            "\n",
            "See the caveats in the documentation: https://pandas.pydata.org/pandas-docs/stable/user_guide/indexing.html#returning-a-view-versus-a-copy\n",
            "  self._setitem_single_column(loc, value, pi)\n"
          ]
        },
        {
          "output_type": "execute_result",
          "data": {
            "text/plain": [
              "24942"
            ]
          },
          "metadata": {},
          "execution_count": 11
        }
      ]
    },
    {
      "cell_type": "code",
      "source": [
        "dft = dft[dft['Label'] != 1]\n",
        "dft=dft.reset_index(drop=True)\n",
        "dft.loc[dft.Label == 2, 'Label'] = 1\n",
        "len(df)\n",
        "len(dft)"
      ],
      "metadata": {
        "colab": {
          "base_uri": "https://localhost:8080/"
        },
        "id": "J6dIwcfpF97G",
        "outputId": "c0ca0d38-4f23-4cfe-ad49-d3614352daa9"
      },
      "execution_count": null,
      "outputs": [
        {
          "output_type": "execute_result",
          "data": {
            "text/plain": [
              "6347"
            ]
          },
          "metadata": {},
          "execution_count": 12
        }
      ]
    },
    {
      "cell_type": "code",
      "source": [
        "df_original_Tweets = df[['Twitter']].copy()\n",
        "dft_original_Tweets = dft[['Twitter']].copy()"
      ],
      "metadata": {
        "id": "Aan79blBBlii"
      },
      "execution_count": null,
      "outputs": []
    },
    {
      "cell_type": "code",
      "source": [
        "def tweetcleanandtoke(dataframe,colname,newcolname):\n",
        "  stop = stopwords.words('english')\n",
        "  pattern_a = r'[^A-Za-z0-9]+' #non-alphanumeric\n",
        "  pattern_b = r'\\b\\w{1,1}\\b' #repeated words\n",
        "  emoji_pattern = re.compile(\"[\"\n",
        "        u\"\\U0001F600-\\U0001F64F\"  # emoticons\n",
        "        u\"\\U0001F300-\\U0001F5FF\"  # symbols & pictographs\n",
        "        u\"\\U0001F680-\\U0001F6FF\"  # transport & map symbols\n",
        "        u\"\\U0001F1E0-\\U0001F1FF\"  # flags (iOS)\n",
        "                            \"]+\", flags=re.UNICODE)\n",
        "\n",
        "  for i in range(0, len(dataframe.index)):                       \n",
        "    dataframe[colname].values[i] = dataframe[colname].values[i].lower()\n",
        "    dataframe[colname].values[i] = dataframe[colname].values[i].replace('@user', '')\n",
        "    dataframe[colname].values[i] = re.sub(emoji_pattern, '', dataframe[colname].values[i])\n",
        "    dataframe[colname].values[i] = re.sub(pattern_a, ' ', dataframe[colname].values[i])\n",
        "    dataframe[colname].values[i] = re.sub(pattern_b, '', dataframe[colname].values[i])\n",
        "    \n",
        "\n",
        "  dataframe[colname] = dataframe[colname].apply(lambda x: ' '.join([word for word in x.split() if word not in (stop)]))\n",
        "\n",
        "  rowname = dataframe[colname].name\n",
        "  dataframe[newcolname]=0\n",
        "  dataframe[newcolname] = dataframe.apply(lambda row: nltk.word_tokenize(row[rowname]), axis=1)\n",
        "\n",
        "  return dataframe\n",
        "  "
      ],
      "metadata": {
        "id": "rRU76z3L7Z_y"
      },
      "execution_count": null,
      "outputs": []
    },
    {
      "cell_type": "code",
      "source": [
        "df=tweetcleanandtoke(df,'Twitter','Twitter_tokens')\n",
        "dft=tweetcleanandtoke(dft,'Twitter','Twitter_tokens')"
      ],
      "metadata": {
        "id": "uIgjtTsp9kUf"
      },
      "execution_count": null,
      "outputs": []
    },
    {
      "cell_type": "code",
      "source": [
        "df['Token_len']=df['Twitter_tokens'].apply(len)\n",
        "dft['Token_len']=dft['Twitter_tokens'].apply(len)\n",
        "\n"
      ],
      "metadata": {
        "id": "aoASGVI0tzhU"
      },
      "execution_count": null,
      "outputs": []
    },
    {
      "cell_type": "code",
      "source": [
        "#Evaluating the tokens for some EDA, also verifying I have no length 0\n",
        "list_of_lengths=[]\n",
        "less_than_9_len=[]\n",
        "for i in range (0, len(df)):\n",
        "  try:\n",
        "    list_of_lengths.append(len(df['Twitter_tokens'][i]));\n",
        "  except:\n",
        "    pass\n",
        "  try:\n",
        "    if len(df['Twitter_tokens'][i]) < 9:\n",
        "      less_than_9_len.append(str(i));\n",
        "  except:\n",
        "    pass\n",
        "print(\"These stats are for the training set\")\n",
        "print(\"The min length is: \" + str(min(list_of_lengths)))\n",
        "print(\"The max length is: \" + str(max(list_of_lengths)))\n",
        "print(\"The mean length is: \" + str(mean(list_of_lengths)))\n",
        "print(\"The number of tweets with less than 9 tokens is: \" + str(len(less_than_9_len)))"
      ],
      "metadata": {
        "colab": {
          "base_uri": "https://localhost:8080/"
        },
        "id": "S1ZY4K-nhkIQ",
        "outputId": "ddd7ec28-6bba-48ea-fa83-2c49ca1633f4"
      },
      "execution_count": null,
      "outputs": [
        {
          "output_type": "stream",
          "name": "stdout",
          "text": [
            "These stats are for the training set\n",
            "The min length is: 1\n",
            "The max length is: 26\n",
            "The mean length is: 11.502004650789832\n",
            "The number of tweets with less than 9 tokens is: 4506\n"
          ]
        }
      ]
    },
    {
      "cell_type": "code",
      "source": [
        "list_of_lengths=[]\n",
        "less_than_9_len=[]\n",
        "for i in range (0, len(dft)):\n",
        "  try:\n",
        "    list_of_lengths.append(len(dft['Twitter_tokens'][i]));\n",
        "  except:\n",
        "    pass\n",
        "  try:\n",
        "    if len(dft['Twitter_tokens'][i]) < 9:\n",
        "      less_than_9_len.append(str(i));\n",
        "  except:\n",
        "    pass\n",
        "print(\"These stats are for the testing set\")\n",
        "print(\"The min test length is: \" + str(min(list_of_lengths)))\n",
        "print(\"The max test length is: \" + str(max(list_of_lengths)))\n",
        "print(\"The mean test length is: \" + str(mean(list_of_lengths)))\n",
        "print(\"The number of test tweets with less than 9 tokens is: \" + str(len(less_than_9_len)))"
      ],
      "metadata": {
        "colab": {
          "base_uri": "https://localhost:8080/"
        },
        "id": "wHZq8kCiGd8k",
        "outputId": "02495c5a-bb16-4c26-899f-6f84cd302bfb"
      },
      "execution_count": null,
      "outputs": [
        {
          "output_type": "stream",
          "name": "stdout",
          "text": [
            "These stats are for the testing set\n",
            "The min test length is: 1\n",
            "The max test length is: 20\n",
            "The mean test length is: 9.237277453915235\n",
            "The number of test tweets with less than 9 tokens is: 2587\n"
          ]
        }
      ]
    },
    {
      "cell_type": "markdown",
      "source": [
        "#Loading and extracting TSVs"
      ],
      "metadata": {
        "id": "b7aHvxGWv6n_"
      }
    },
    {
      "cell_type": "code",
      "source": [
        "!wget https://nlp.stanford.edu/projects/socialsent/files/socialsent_hist_freq.zip\n",
        "!echo \"N\"| unzip /content/socialsent_hist_freq.zip"
      ],
      "metadata": {
        "colab": {
          "base_uri": "https://localhost:8080/"
        },
        "id": "UgfBvVXawvI6",
        "outputId": "6b18ad97-b4ee-4d87-8fd2-339565750687"
      },
      "execution_count": null,
      "outputs": [
        {
          "output_type": "stream",
          "name": "stdout",
          "text": [
            "--2022-11-26 20:50:08--  https://nlp.stanford.edu/projects/socialsent/files/socialsent_hist_freq.zip\n",
            "Resolving nlp.stanford.edu (nlp.stanford.edu)... 171.64.67.140\n",
            "Connecting to nlp.stanford.edu (nlp.stanford.edu)|171.64.67.140|:443... connected.\n",
            "HTTP request sent, awaiting response... 200 OK\n",
            "Length: 521987 (510K) [application/zip]\n",
            "Saving to: ‘socialsent_hist_freq.zip’\n",
            "\n",
            "socialsent_hist_fre 100%[===================>] 509.75K   873KB/s    in 0.6s    \n",
            "\n",
            "2022-11-26 20:50:09 (873 KB/s) - ‘socialsent_hist_freq.zip’ saved [521987/521987]\n",
            "\n",
            "Archive:  /content/socialsent_hist_freq.zip\n",
            "   creating: frequent_words/\n",
            "  inflating: frequent_words/1850.tsv  \n",
            "  inflating: frequent_words/1860.tsv  \n",
            "  inflating: frequent_words/1870.tsv  \n",
            "  inflating: frequent_words/1880.tsv  \n",
            "  inflating: frequent_words/1890.tsv  \n",
            "  inflating: frequent_words/1900.tsv  \n",
            "  inflating: frequent_words/1910.tsv  \n",
            "  inflating: frequent_words/1920.tsv  \n",
            "  inflating: frequent_words/1930.tsv  \n",
            "  inflating: frequent_words/1940.tsv  \n",
            "  inflating: frequent_words/1950.tsv  \n",
            "  inflating: frequent_words/1960.tsv  \n",
            "  inflating: frequent_words/1970.tsv  \n",
            "  inflating: frequent_words/1980.tsv  \n",
            "  inflating: frequent_words/1990.tsv  \n",
            "  inflating: frequent_words/2000.tsv  \n",
            "  inflating: frequent_words/README.txt  \n",
            "   creating: __MACOSX/\n",
            "   creating: __MACOSX/frequent_words/\n",
            "  inflating: __MACOSX/frequent_words/._README.txt  \n"
          ]
        }
      ]
    },
    {
      "cell_type": "code",
      "source": [
        "!wget https://nlp.stanford.edu/projects/socialsent/files/socialsent_hist_adj.zip\n",
        "!echo \"N\"| unzip /content/socialsent_hist_adj.zip"
      ],
      "metadata": {
        "colab": {
          "base_uri": "https://localhost:8080/"
        },
        "id": "qAN6g11dv_zh",
        "outputId": "7b2c3bed-2096-4a6a-a55d-aa0e8e251aa4"
      },
      "execution_count": null,
      "outputs": [
        {
          "output_type": "stream",
          "name": "stdout",
          "text": [
            "--2022-11-26 20:50:09--  https://nlp.stanford.edu/projects/socialsent/files/socialsent_hist_adj.zip\n",
            "Resolving nlp.stanford.edu (nlp.stanford.edu)... 171.64.67.140\n",
            "Connecting to nlp.stanford.edu (nlp.stanford.edu)|171.64.67.140|:443... connected.\n",
            "HTTP request sent, awaiting response... 200 OK\n",
            "Length: 201855 (197K) [application/zip]\n",
            "Saving to: ‘socialsent_hist_adj.zip’\n",
            "\n",
            "socialsent_hist_adj 100%[===================>] 197.12K   677KB/s    in 0.3s    \n",
            "\n",
            "2022-11-26 20:50:09 (677 KB/s) - ‘socialsent_hist_adj.zip’ saved [201855/201855]\n",
            "\n",
            "Archive:  /content/socialsent_hist_adj.zip\n",
            "   creating: adjectives/\n",
            "  inflating: adjectives/1850.tsv     \n",
            "  inflating: adjectives/1860.tsv     \n",
            "  inflating: adjectives/1870.tsv     \n",
            "  inflating: adjectives/1880.tsv     \n",
            "  inflating: adjectives/1890.tsv     \n",
            "  inflating: adjectives/1900.tsv     \n",
            "  inflating: adjectives/1910.tsv     \n",
            "  inflating: adjectives/1920.tsv     \n",
            "  inflating: adjectives/1930.tsv     \n",
            "  inflating: adjectives/1940.tsv     \n",
            "  inflating: adjectives/1950.tsv     \n",
            "  inflating: adjectives/1960.tsv     \n",
            "  inflating: adjectives/1970.tsv     \n",
            "  inflating: adjectives/1980.tsv     \n",
            "  inflating: adjectives/1990.tsv     \n",
            "  inflating: adjectives/2000.tsv     \n",
            "  inflating: adjectives/README.txt   \n",
            "   creating: __MACOSX/adjectives/\n",
            "  inflating: __MACOSX/adjectives/._README.txt  \n"
          ]
        }
      ]
    },
    {
      "cell_type": "code",
      "source": [
        "df_2000adj = pd.read_csv(\"/content/adjectives/2000.tsv\", sep=\"\\t\", header=None)\n",
        "df_2000adj.columns = ['Word', 'Sentiment', 'Std']\n",
        "df_2000freq = pd.read_csv(\"/content/frequent_words/2000.tsv\", sep=\"\\t\", header=None)\n",
        "df_2000freq.columns = ['Word', 'Sentiment', 'Std']"
      ],
      "metadata": {
        "id": "EDpyKT1qwTT0"
      },
      "execution_count": null,
      "outputs": []
    },
    {
      "cell_type": "code",
      "source": [
        "!wget https://nlp.stanford.edu/projects/socialsent/files/socialsent_subreddits.zip\n",
        "!echo \"N\"| unzip /content/socialsent_subreddits.zip"
      ],
      "metadata": {
        "colab": {
          "base_uri": "https://localhost:8080/"
        },
        "id": "cqMTZ8gYRgHI",
        "outputId": "eea26534-0519-43e2-c255-9d745a685edf"
      },
      "execution_count": null,
      "outputs": [
        {
          "output_type": "stream",
          "name": "stdout",
          "text": [
            "--2022-11-26 20:50:10--  https://nlp.stanford.edu/projects/socialsent/files/socialsent_subreddits.zip\n",
            "Resolving nlp.stanford.edu (nlp.stanford.edu)... 171.64.67.140\n",
            "Connecting to nlp.stanford.edu (nlp.stanford.edu)|171.64.67.140|:443... connected.\n",
            "HTTP request sent, awaiting response... 200 OK\n",
            "Length: 15659374 (15M) [application/zip]\n",
            "Saving to: ‘socialsent_subreddits.zip’\n",
            "\n",
            "socialsent_subreddi 100%[===================>]  14.93M  6.76MB/s    in 2.2s    \n",
            "\n",
            "2022-11-26 20:50:12 (6.76 MB/s) - ‘socialsent_subreddits.zip’ saved [15659374/15659374]\n",
            "\n",
            "Archive:  /content/socialsent_subreddits.zip\n",
            "   creating: subreddits/\n",
            "  inflating: subreddits/.zip         \n",
            "  inflating: subreddits/2007scape.tsv  \n",
            "  inflating: subreddits/3DS.tsv      \n",
            "  inflating: subreddits/4chan.tsv    \n",
            "  inflating: subreddits/ACTrade.tsv  \n",
            "  inflating: subreddits/AdviceAnimals.tsv  \n",
            "  inflating: subreddits/amiugly.tsv  \n",
            "  inflating: subreddits/Anarcho_Capitalism.tsv  \n",
            "  inflating: subreddits/Android.tsv  \n",
            "  inflating: subreddits/anime.tsv    \n",
            "  inflating: subreddits/apple.tsv    \n",
            "  inflating: subreddits/archeage.tsv  \n",
            "  inflating: subreddits/AskMen.tsv   \n",
            "  inflating: subreddits/askscience.tsv  \n",
            "  inflating: subreddits/AskWomen.tsv  \n",
            "  inflating: subreddits/asoiaf.tsv   \n",
            "  inflating: subreddits/atheism.tsv  \n",
            "  inflating: subreddits/australia.tsv  \n",
            "  inflating: subreddits/aww.tsv      \n",
            "  inflating: subreddits/BabyBumps.tsv  \n",
            "  inflating: subreddits/baseball.tsv  \n",
            "  inflating: subreddits/battlefield_4.tsv  \n",
            "  inflating: subreddits/bestof.tsv   \n",
            "  inflating: subreddits/bicycling.tsv  \n",
            "  inflating: subreddits/BigBrother.tsv  \n",
            "  inflating: subreddits/Bitcoin.tsv  \n",
            "  inflating: subreddits/boardgames.tsv  \n",
            "  inflating: subreddits/bodybuilding.tsv  \n",
            "  inflating: subreddits/books.tsv    \n",
            "  inflating: subreddits/bravefrontier.tsv  \n",
            "  inflating: subreddits/britishproblems.tsv  \n",
            "  inflating: subreddits/buildapc.tsv  \n",
            "  inflating: subreddits/canada.tsv   \n",
            "  inflating: subreddits/cars.tsv     \n",
            "  inflating: subreddits/CasualConversation.tsv  \n",
            "  inflating: subreddits/casualiama.tsv  \n",
            "  inflating: subreddits/CasualPokemonTrades.tsv  \n",
            "  inflating: subreddits/CFB.tsv      \n",
            "  inflating: subreddits/changemyview.tsv  \n",
            "  inflating: subreddits/childfree.tsv  \n",
            "  inflating: subreddits/Christianity.tsv  \n",
            "  inflating: subreddits/cigars.tsv   \n",
            "  inflating: subreddits/circlejerk.tsv  \n",
            "  inflating: subreddits/civ.tsv      \n",
            "  inflating: subreddits/Civcraft.tsv  \n",
            "  inflating: subreddits/ClashOfClans.tsv  \n",
            "  inflating: subreddits/ClubTeen.tsv  \n",
            "  inflating: subreddits/CoDCompetitive.tsv  \n",
            "  inflating: subreddits/CollegeBasketball.tsv  \n",
            "  inflating: subreddits/comicbooks.tsv  \n",
            "  inflating: subreddits/conspiracy.tsv  \n",
            "  inflating: subreddits/Cricket.tsv  \n",
            "  inflating: subreddits/cringe.tsv   \n",
            "  inflating: subreddits/cringepics.tsv  \n",
            "  inflating: subreddits/csgobetting.tsv  \n",
            "  inflating: subreddits/DarkNetMarkets.tsv  \n",
            "  inflating: subreddits/darksouls.tsv  \n",
            "  inflating: subreddits/DarkSouls2.tsv  \n",
            "  inflating: subreddits/dataisbeautiful.tsv  \n",
            "  inflating: subreddits/dayz.tsv     \n",
            "  inflating: subreddits/DebateReligion.tsv  \n",
            "  inflating: subreddits/DestinyTheGame.tsv  \n",
            "  inflating: subreddits/Diablo.tsv   \n",
            "  inflating: subreddits/DIY.tsv      \n",
            "  inflating: subreddits/DnD.tsv      \n",
            "  inflating: subreddits/dogecoin.tsv  \n",
            "  inflating: subreddits/dogemarket.tsv  \n",
            "  inflating: subreddits/DotA2.tsv    \n",
            "  inflating: subreddits/dragonage.tsv  \n",
            "  inflating: subreddits/Drugs.tsv    \n",
            "  inflating: subreddits/elderscrollsonline.tsv  \n",
            "  inflating: subreddits/electronic_cigarette.tsv  \n",
            "  inflating: subreddits/europe.tsv   \n",
            "  inflating: subreddits/Eve.tsv      \n",
            "  inflating: subreddits/exmormon.tsv  \n",
            "  inflating: subreddits/explainlikeimfive.tsv  \n",
            "  inflating: subreddits/Fallout.tsv  \n",
            "  inflating: subreddits/fantasyfootball.tsv  \n",
            "  inflating: subreddits/fatlogic.tsv  \n",
            "  inflating: subreddits/fatpeoplehate.tsv  \n",
            "  inflating: subreddits/fatpeoplestories.tsv  \n",
            "  inflating: subreddits/ffxiv.tsv    \n",
            "  inflating: subreddits/FIFA.tsv     \n",
            "  inflating: subreddits/Fitness.tsv  \n",
            "  inflating: subreddits/food.tsv     \n",
            "  inflating: subreddits/formula1.tsv  \n",
            "  inflating: subreddits/friendsafari.tsv  \n",
            "  inflating: subreddits/Frozen.tsv   \n",
            "  inflating: subreddits/Frugal.tsv   \n",
            "  inflating: subreddits/funny.tsv    \n",
            "  inflating: subreddits/Futurology.tsv  \n",
            "  inflating: subreddits/GameDeals.tsv  \n",
            "  inflating: subreddits/gamegrumps.tsv  \n",
            "  inflating: subreddits/gameofthrones.tsv  \n",
            "  inflating: subreddits/Games.tsv    \n",
            "  inflating: subreddits/gaming.tsv   \n",
            "  inflating: subreddits/gaybros.tsv  \n",
            "  inflating: subreddits/gifs.tsv     \n",
            "  inflating: subreddits/GlobalOffensive.tsv  \n",
            "  inflating: subreddits/GlobalOffensiveTrade.tsv  \n",
            "  inflating: subreddits/gonewild.tsv  \n",
            "  inflating: subreddits/GrandTheftAutoV.tsv  \n",
            "  inflating: subreddits/Guildwars2.tsv  \n",
            "  inflating: subreddits/Guitar.tsv   \n",
            "  inflating: subreddits/Gunners.tsv  \n",
            "  inflating: subreddits/guns.tsv     \n",
            "  inflating: subreddits/halo.tsv     \n",
            "  inflating: subreddits/hearthstone.tsv  \n",
            "  inflating: subreddits/hiphopheads.tsv  \n",
            "  inflating: subreddits/hockey.tsv   \n",
            "  inflating: subreddits/Homebrewing.tsv  \n",
            "  inflating: subreddits/IAmA.tsv     \n",
            "  inflating: subreddits/ImGoingToHellForThis.tsv  \n",
            "  inflating: subreddits/india.tsv    \n",
            "  inflating: subreddits/ireland.tsv  \n",
            "  inflating: subreddits/jailbreak.tsv  \n",
            "  inflating: subreddits/Jokes.tsv    \n",
            "  inflating: subreddits/JusticePorn.tsv  \n",
            "  inflating: subreddits/Justrolledintotheshop.tsv  \n",
            "  inflating: subreddits/KerbalSpaceProgram.tsv  \n",
            "  inflating: subreddits/keto.tsv     \n",
            "  inflating: subreddits/KotakuInAction.tsv  \n",
            "  inflating: subreddits/leagueoflegends.tsv  \n",
            "  inflating: subreddits/legaladvice.tsv  \n",
            "  inflating: subreddits/lewronggeneration.tsv  \n",
            "  inflating: subreddits/Libertarian.tsv  \n",
            "  inflating: subreddits/LifeProTips.tsv  \n",
            "  inflating: subreddits/LiverpoolFC.tsv  \n",
            "  inflating: subreddits/longboarding.tsv  \n",
            "  inflating: subreddits/loseit.tsv   \n",
            "  inflating: subreddits/magicTCG.tsv  \n",
            "  inflating: subreddits/MakeupAddiction.tsv  \n",
            "  inflating: subreddits/malefashionadvice.tsv  \n",
            "  inflating: subreddits/MapPorn.tsv  \n",
            "  inflating: subreddits/MechanicalKeyboards.tsv  \n",
            "  inflating: subreddits/MensRights.tsv  \n",
            "  inflating: subreddits/mildlyinteresting.tsv  \n",
            "  inflating: subreddits/mindcrack.tsv  \n",
            "  inflating: subreddits/Minecraft.tsv  \n",
            "  inflating: subreddits/MLPLounge.tsv  \n",
            "  inflating: subreddits/MLS.tsv      \n",
            "  inflating: subreddits/MMA.tsv      \n",
            "  inflating: subreddits/motorcycles.tsv  \n",
            "  inflating: subreddits/movies.tsv   \n",
            "  inflating: subreddits/Music.tsv    \n",
            "  inflating: subreddits/mylittlepony.tsv  \n",
            "  inflating: subreddits/Naruto.tsv   \n",
            "  inflating: subreddits/NASCAR.tsv   \n",
            "  inflating: subreddits/nba.tsv      \n",
            "  inflating: subreddits/news.tsv     \n",
            "  inflating: subreddits/newzealand.tsv  \n",
            "  inflating: subreddits/nfl.tsv      \n",
            "  inflating: subreddits/NoFap.tsv    \n",
            "  inflating: subreddits/nosleep.tsv  \n",
            "  inflating: subreddits/nottheonion.tsv  \n",
            "  inflating: subreddits/oculus.tsv   \n",
            "  inflating: subreddits/offmychest.tsv  \n",
            "  inflating: subreddits/OkCupid.tsv  \n",
            "  inflating: subreddits/opiates.tsv  \n",
            "  inflating: subreddits/Parenting.tsv  \n",
            "  inflating: subreddits/pathofexile.tsv  \n",
            "  inflating: subreddits/pcgaming.tsv  \n",
            "  inflating: subreddits/pcmasterrace.tsv  \n",
            "  inflating: subreddits/PercyJacksonRP.tsv  \n",
            "  inflating: subreddits/personalfinance.tsv  \n",
            "  inflating: subreddits/photography.tsv  \n",
            "  inflating: subreddits/photoshopbattles.tsv  \n",
            "  inflating: subreddits/pics.tsv     \n",
            "  inflating: subreddits/Planetside.tsv  \n",
            "  inflating: subreddits/pokemon.tsv  \n",
            "  inflating: subreddits/Pokemongiveaway.tsv  \n",
            "  inflating: subreddits/PokemonPlaza.tsv  \n",
            "  inflating: subreddits/pokemontrades.tsv  \n",
            "  inflating: subreddits/polandball.tsv  \n",
            "  inflating: subreddits/politics.tsv  \n",
            "  inflating: subreddits/Portland.tsv  \n",
            "  inflating: subreddits/PotterPlayRP.tsv  \n",
            "  inflating: subreddits/programming.tsv  \n",
            "  inflating: subreddits/PS4.tsv      \n",
            "  inflating: subreddits/raisedbynarcissists.tsv  \n",
            "  inflating: subreddits/Random_Acts_Of_Amazon.tsv  \n",
            "  inflating: subreddits/RandomActsOfGaming.tsv  \n",
            "  inflating: subreddits/randomsuperpowers.tsv  \n",
            "  inflating: subreddits/Rateme.tsv   \n",
            "  inflating: subreddits/reactiongifs.tsv  \n",
            "  inflating: subreddits/README.txt   \n",
            "   creating: __MACOSX/subreddits/\n",
            "  inflating: __MACOSX/subreddits/._README.txt  \n",
            "  inflating: subreddits/reddevils.tsv  \n",
            "  inflating: subreddits/relationship_advice.tsv  \n",
            "  inflating: subreddits/relationships.tsv  \n",
            "  inflating: subreddits/roosterteeth.tsv  \n",
            "  inflating: subreddits/runescape.tsv  \n",
            "  inflating: subreddits/rupaulsdragrace.tsv  \n",
            "  inflating: subreddits/science.tsv  \n",
            "  inflating: subreddits/Seattle.tsv  \n",
            "  inflating: subreddits/sex.tsv      \n",
            "  inflating: subreddits/SFGiants.tsv  \n",
            "  inflating: subreddits/ShinyPokemon.tsv  \n",
            "  inflating: subreddits/Showerthoughts.tsv  \n",
            "  inflating: subreddits/SkincareAddiction.tsv  \n",
            "  inflating: subreddits/skyrim.tsv   \n",
            "  inflating: subreddits/smashbros.tsv  \n",
            "  inflating: subreddits/Smite.tsv    \n",
            "  inflating: subreddits/Sneakers.tsv  \n",
            "  inflating: subreddits/soccer.tsv   \n",
            "  inflating: subreddits/sports.tsv   \n",
            "  inflating: subreddits/SquaredCircle.tsv  \n",
            "  inflating: subreddits/starcitizen.tsv  \n",
            "  inflating: subreddits/starcraft.tsv  \n",
            "  inflating: subreddits/StarWars.tsv  \n",
            "  inflating: subreddits/Steam.tsv    \n",
            "  inflating: subreddits/SteamGameSwap.tsv  \n",
            "  inflating: subreddits/SubredditDrama.tsv  \n",
            "  inflating: subreddits/summonerschool.tsv  \n",
            "  inflating: subreddits/SVExchange.tsv  \n",
            "  inflating: subreddits/sysadmin.tsv  \n",
            "  inflating: subreddits/TalesFromRetail.tsv  \n",
            "  inflating: subreddits/talesfromtechsupport.tsv  \n",
            "  inflating: subreddits/technology.tsv  \n",
            "  inflating: subreddits/techsupport.tsv  \n",
            "  inflating: subreddits/teenagers.tsv  \n",
            "  inflating: subreddits/television.tsv  \n",
            "  inflating: subreddits/tf2.tsv      \n",
            "  inflating: subreddits/thatHappened.tsv  \n",
            "  inflating: subreddits/TheLastAirbender.tsv  \n",
            "  inflating: subreddits/TheRedPill.tsv  \n",
            "  inflating: subreddits/thewalkingdead.tsv  \n",
            "  inflating: subreddits/tifu.tsv     \n",
            "  inflating: subreddits/tipofmytongue.tsv  \n",
            "  inflating: subreddits/titanfall.tsv  \n",
            "  inflating: subreddits/todayilearned.tsv  \n",
            "  inflating: subreddits/toronto.tsv  \n",
            "  inflating: subreddits/trees.tsv    \n",
            "  inflating: subreddits/TrollXChromosomes.tsv  \n",
            "  inflating: subreddits/TumblrInAction.tsv  \n",
            "  inflating: subreddits/twitchplayspokemon.tsv  \n",
            "  inflating: subreddits/TwoXChromosomes.tsv  \n",
            "  inflating: subreddits/ultrahardcore.tsv  \n",
            "  inflating: subreddits/unitedkingdom.tsv  \n",
            "  inflating: subreddits/videos.tsv   \n",
            "  inflating: subreddits/Warthunder.tsv  \n",
            "  inflating: subreddits/whowouldwin.tsv  \n",
            "  inflating: subreddits/wiiu.tsv     \n",
            "  inflating: subreddits/WildStar.tsv  \n",
            "  inflating: subreddits/windowsphone.tsv  \n",
            "  inflating: subreddits/woahdude.tsv  \n",
            "  inflating: subreddits/worldnews.tsv  \n",
            "  inflating: subreddits/WorldofTanks.tsv  \n",
            "  inflating: subreddits/wow.tsv      \n",
            "  inflating: subreddits/WritingPrompts.tsv  \n",
            "  inflating: subreddits/WTF.tsv      \n",
            "  inflating: subreddits/xboxone.tsv  \n",
            "  inflating: subreddits/yugioh.tsv   \n"
          ]
        }
      ]
    },
    {
      "cell_type": "code",
      "source": [
        "list_files = ['3DS.tsv', \n",
        "'4chan.tsv',\n",
        "'2007scape.tsv',\n",
        "'ACTrade.tsv',\n",
        "'amiugly.tsv',\n",
        "'BabyBumps.tsv',\n",
        "'baseball.tsv',\n",
        "'canada.tsv',\n",
        "'CasualConversation.tsv',\n",
        "'DarkNetMarkets.tsv',\n",
        "'darksouls.tsv',\n",
        "'elderscrollsonline.tsv',\n",
        "'Eve.tsv',\n",
        "'Fallout.tsv',\n",
        "'fantasyfootball.tsv',\n",
        "'GameDeals.tsv',\n",
        "'gamegrumps.tsv',\n",
        "'halo.tsv',\n",
        "'Homebrewing.tsv',\n",
        "'IAmA.tsv',\n",
        "'india.tsv',\n",
        "'jailbreak.tsv',\n",
        "'Jokes.tsv',\n",
        "'KerbalSpaceProgram.tsv',\n",
        "'keto.tsv',\n",
        "'leagueoflegends.tsv',\n",
        "'Libertarian.tsv',\n",
        "'magicTCG.tsv',\n",
        "'MakeupAddiction.tsv',\n",
        "'Naruto.tsv',\n",
        "'nba.tsv',\n",
        "'oculus.tsv',\n",
        "'OkCupid.tsv',\n",
        "'Parenting.tsv',\n",
        "'pathofexile.tsv',\n",
        "'raisedbynarcissists.tsv',\n",
        "'Random_Acts_Of_Amazon.tsv',\n",
        "'science.tsv',\n",
        "'Seattle.tsv',\n",
        "'TalesFromRetail.tsv',\n",
        "'talesfromtechsupport.tsv',\n",
        "'ultrahardcore.tsv',\n",
        "'videos.tsv',\n",
        "'Warthunder.tsv',\n",
        "'whowouldwin.tsv',\n",
        "'xboxone.tsv',\n",
        "'yugioh.tsv',\n",
        "]"
      ],
      "metadata": {
        "id": "MlpvD2rmurcT"
      },
      "execution_count": null,
      "outputs": []
    },
    {
      "cell_type": "code",
      "source": [
        "list_dicts=[]\n",
        "for i in range(0,len(list_files)):\n",
        "    dfname='df_'+str(list_files[i])\n",
        "    dfname=dfname.replace('.tsv','')\n",
        "    path=\"/content/subreddits/\" + list_files[i]\n",
        "    dataframe = pd.read_csv(path, sep=\"\\t\", header=None)\n",
        "    dataframe.columns = ['Word', 'Sentiment', 'Std']\n",
        "    dataframe=dataframe.drop(columns=['Std'])\n",
        "    list_dicts.append(dict(dataframe.values))"
      ],
      "metadata": {
        "id": "h9Txu7LuMK_9"
      },
      "execution_count": null,
      "outputs": []
    },
    {
      "cell_type": "code",
      "source": [
        "#combine dictionaries\n",
        "def dict_merger(dict1, dict2):\n",
        "    new_dict = {**dict1, **dict2}\n",
        "    return new_dict"
      ],
      "metadata": {
        "id": "PfBXyR8eHAjj"
      },
      "execution_count": null,
      "outputs": []
    },
    {
      "cell_type": "code",
      "source": [
        "df_2000adj=df_2000adj.drop(columns='Std')\n",
        "feature1=dict(df_2000adj.values)\n",
        "df_2000freq=df_2000freq.drop(columns='Std')\n",
        "feature2=dict(df_2000freq.values)"
      ],
      "metadata": {
        "id": "VDw8BKZox-gH"
      },
      "execution_count": null,
      "outputs": []
    },
    {
      "cell_type": "code",
      "source": [
        "feature3 = {}\n",
        "for i in range(0, 8):\n",
        "  feature3=dict_merger(feature3,list_dicts[i])\n",
        "\n",
        "feature4 = {}\n",
        "for i in range(8, 16):\n",
        "  feature4=dict_merger(feature4,list_dicts[i])\n",
        "\n",
        "feature5 = {}\n",
        "for i in range(16, 23):\n",
        "  feature5=dict_merger(feature5,list_dicts[i])\n",
        "\n",
        "feature6 = {}\n",
        "for i in range(23, 29):\n",
        "  feature6=dict_merger(feature6,list_dicts[i])\n",
        "\n",
        "feature7 = {}\n",
        "for i in range(29, 34):\n",
        "  feature7=dict_merger(feature7,list_dicts[i])\n",
        "\n",
        "feature8 = {}\n",
        "for i in range(34, 41):\n",
        "  feature8=dict_merger(feature8,list_dicts[i])\n",
        "\n",
        "feature9 = {}\n",
        "for i in range(41, 47):\n",
        "  feature9=dict_merger(feature9,list_dicts[i])\n",
        "\n",
        "\n",
        "\n"
      ],
      "metadata": {
        "id": "cb9HByXsIn9Q"
      },
      "execution_count": null,
      "outputs": []
    },
    {
      "cell_type": "markdown",
      "source": [
        "#Extracting features"
      ],
      "metadata": {
        "id": "qh_n5XtflKiw"
      }
    },
    {
      "cell_type": "code",
      "source": [
        "#one thing that boosted my scores was instead of taking one word per feature, I summed 9 words per feature\n",
        "#I took words at random and oversampled shorter tweets. boosted the F1 score by letting randomization try to hit a good token\n",
        "def lookups(row):\n",
        "  lookup_index=row.name\n",
        "  #print(\"This is the lookup_index: \" + str(lookup_index))\n",
        "  range_len=(df['Token_len'][lookup_index])\n",
        "  #print(\"This is the range_len: \" + str(range_len))\n",
        "  score=[]\n",
        "  for i in range(0, 9):\n",
        "    #print(\"Starting the for loop at: \" + str(i))\n",
        "    token=random.randint(0, range_len) \n",
        "    token -= 1\n",
        "    #print(\"The token is: \" + str(token))\n",
        "    word_tok=df.iloc[lookup_index, 2][token]\n",
        "    #print(\"The word_tok is: \" + str(word_tok))\n",
        "    try:\n",
        "      score.append(current_dict[word_tok])\n",
        "    except:\n",
        "      pass\n",
        "  try:\n",
        "      sum_score=sum(score)\n",
        "  except:\n",
        "      sum_score=0\n",
        "  return sum_score\n",
        "\n",
        "def lookupst(row):\n",
        "  lookup_index=row.name\n",
        "  #print(\"This is the lookup_index: \" + str(lookup_index))\n",
        "  range_len=(dft['Token_len'][lookup_index])\n",
        "  #print(\"This is the range_len: \" + str(range_len))\n",
        "  score=[]\n",
        "  for i in range(0, 9):\n",
        "    #print(\"Starting the for loop at: \" + str(i))\n",
        "    token=random.randint(0, range_len) \n",
        "    token -= 1\n",
        "    #print(\"The token is: \" + str(token))\n",
        "    word_tok=dft.iloc[lookup_index, 2][token]\n",
        "    #print(\"The word_tok is: \" + str(word_tok))\n",
        "    try:\n",
        "      score.append(current_dict[word_tok])\n",
        "    except:\n",
        "      pass\n",
        "  try:\n",
        "      sum_score=sum(score)\n",
        "  except:\n",
        "      sum_score=0\n",
        "  return sum_score\n",
        "\n",
        "def wordlengther(row):\n",
        "    index=row.name\n",
        "    token_list=df['Twitter_tokens'][index]\n",
        "    longest_word=1\n",
        "    for word in token_list:\n",
        "        if longest_word<len(word):\n",
        "          longest_word=len(word)\n",
        "    log_long=np.log10(longest_word)\n",
        "    return log_long\n",
        "\n",
        "def wordfiver(row):\n",
        "    index=row.name\n",
        "    token_list=df['Twitter_tokens'][index]\n",
        "    five_counts=1\n",
        "    for word in token_list:\n",
        "        if len(word)>=5:\n",
        "          five_counts+=1\n",
        "    log_five=np.log10(five_counts)\n",
        "    return log_five\n",
        "\n",
        "def wordlengthert(row):\n",
        "    index=row.name\n",
        "    token_list=dft['Twitter_tokens'][index]\n",
        "    longest_word=1\n",
        "    for word in token_list:\n",
        "        if longest_word<len(word):\n",
        "          longest_word=len(word)\n",
        "    log_long=np.log10(longest_word)\n",
        "    return log_long\n",
        "\n",
        "def wordfivert(row):\n",
        "    index=row.name\n",
        "    token_list=dft['Twitter_tokens'][index]\n",
        "    five_counts=1\n",
        "    for word in token_list:\n",
        "        if len(word)>=5:\n",
        "          five_counts+=1\n",
        "    log_five=np.log10(five_counts)\n",
        "    return log_five\n",
        "\n",
        "def mostpos(row):  #need the negative version too, mostneg\n",
        "    index=row.name\n",
        "    token_list=df['Twitter_tokens'][index]\n",
        "    max_value=0\n",
        "    for word in token_list:\n",
        "      try: pos_value=feature3[word]   #replace with super dictionary\n",
        "      except: pos_value=0\n",
        "      if max_value<pos_value:\n",
        "        max_value=pos_value\n",
        "    return max_value"
      ],
      "metadata": {
        "id": "4qSZDlp0N_9R"
      },
      "execution_count": null,
      "outputs": []
    },
    {
      "cell_type": "code",
      "source": [
        "def intersection(lst1, lst2):\n",
        "    return list(set(lst1) & set(lst2))"
      ],
      "metadata": {
        "id": "BXNxohZHMo-P"
      },
      "execution_count": null,
      "outputs": []
    },
    {
      "cell_type": "code",
      "source": [
        "df['feature24']=0\n",
        "df['feature24']=df.apply(mostpos,axis=1)"
      ],
      "metadata": {
        "id": "Rk7jxparlsMV"
      },
      "execution_count": null,
      "outputs": []
    },
    {
      "cell_type": "code",
      "source": [
        "df['feature1']=0\n",
        "df['feature2']=0\n",
        "df['feature3']=0\n",
        "df['feature4']=0\n",
        "df['feature5']=0\n",
        "df['feature6']=0\n",
        "df['feature7']=0\n",
        "df['feature8']=0\n",
        "df['feature9']=0\n",
        "df['feature10']=0\n",
        "df['feature11']=0\n",
        "df['feature12']=0\n"
      ],
      "metadata": {
        "id": "1ZGXMsI8Iu_q"
      },
      "execution_count": null,
      "outputs": []
    },
    {
      "cell_type": "code",
      "source": [
        "features_list=['feature1', 'feature2', 'feature3', 'feature4', 'feature5', 'feature6', 'feature7', 'feature8', 'feature9']\n",
        "for i in range(0, len(features_list)):\n",
        "  current_dict=list_dicts[i]\n",
        "  df[features_list[i]]=df.apply(lookups, axis=1)\n",
        "  dft[features_list[i]]=dft.apply(lookupst, axis=1)"
      ],
      "metadata": {
        "id": "-zF7OHmETgXd",
        "colab": {
          "base_uri": "https://localhost:8080/",
          "height": 363
        },
        "outputId": "61155dc2-ac30-407d-9a43-953f7d176c99"
      },
      "execution_count": null,
      "outputs": [
        {
          "output_type": "error",
          "ename": "KeyboardInterrupt",
          "evalue": "ignored",
          "traceback": [
            "\u001b[0;31m---------------------------------------------------------------------------\u001b[0m",
            "\u001b[0;31mKeyboardInterrupt\u001b[0m                         Traceback (most recent call last)",
            "\u001b[0;32m<ipython-input-32-f837d10a6dc7>\u001b[0m in \u001b[0;36m<module>\u001b[0;34m\u001b[0m\n\u001b[1;32m      2\u001b[0m \u001b[0;32mfor\u001b[0m \u001b[0mi\u001b[0m \u001b[0;32min\u001b[0m \u001b[0mrange\u001b[0m\u001b[0;34m(\u001b[0m\u001b[0;36m0\u001b[0m\u001b[0;34m,\u001b[0m \u001b[0mlen\u001b[0m\u001b[0;34m(\u001b[0m\u001b[0mfeatures_list\u001b[0m\u001b[0;34m)\u001b[0m\u001b[0;34m)\u001b[0m\u001b[0;34m:\u001b[0m\u001b[0;34m\u001b[0m\u001b[0;34m\u001b[0m\u001b[0m\n\u001b[1;32m      3\u001b[0m   \u001b[0mcurrent_dict\u001b[0m\u001b[0;34m=\u001b[0m\u001b[0mlist_dicts\u001b[0m\u001b[0;34m[\u001b[0m\u001b[0mi\u001b[0m\u001b[0;34m]\u001b[0m\u001b[0;34m\u001b[0m\u001b[0;34m\u001b[0m\u001b[0m\n\u001b[0;32m----> 4\u001b[0;31m   \u001b[0mdf\u001b[0m\u001b[0;34m[\u001b[0m\u001b[0mfeatures_list\u001b[0m\u001b[0;34m[\u001b[0m\u001b[0mi\u001b[0m\u001b[0;34m]\u001b[0m\u001b[0;34m]\u001b[0m\u001b[0;34m=\u001b[0m\u001b[0mdf\u001b[0m\u001b[0;34m.\u001b[0m\u001b[0mapply\u001b[0m\u001b[0;34m(\u001b[0m\u001b[0mlookups\u001b[0m\u001b[0;34m,\u001b[0m \u001b[0maxis\u001b[0m\u001b[0;34m=\u001b[0m\u001b[0;36m1\u001b[0m\u001b[0;34m)\u001b[0m\u001b[0;34m\u001b[0m\u001b[0;34m\u001b[0m\u001b[0m\n\u001b[0m\u001b[1;32m      5\u001b[0m   \u001b[0mdft\u001b[0m\u001b[0;34m[\u001b[0m\u001b[0mfeatures_list\u001b[0m\u001b[0;34m[\u001b[0m\u001b[0mi\u001b[0m\u001b[0;34m]\u001b[0m\u001b[0;34m]\u001b[0m\u001b[0;34m=\u001b[0m\u001b[0mdft\u001b[0m\u001b[0;34m.\u001b[0m\u001b[0mapply\u001b[0m\u001b[0;34m(\u001b[0m\u001b[0mlookupst\u001b[0m\u001b[0;34m,\u001b[0m \u001b[0maxis\u001b[0m\u001b[0;34m=\u001b[0m\u001b[0;36m1\u001b[0m\u001b[0;34m)\u001b[0m\u001b[0;34m\u001b[0m\u001b[0;34m\u001b[0m\u001b[0m\n",
            "\u001b[0;32m/usr/local/lib/python3.7/dist-packages/pandas/core/frame.py\u001b[0m in \u001b[0;36mapply\u001b[0;34m(self, func, axis, raw, result_type, args, **kwargs)\u001b[0m\n\u001b[1;32m   8738\u001b[0m             \u001b[0mkwargs\u001b[0m\u001b[0;34m=\u001b[0m\u001b[0mkwargs\u001b[0m\u001b[0;34m,\u001b[0m\u001b[0;34m\u001b[0m\u001b[0;34m\u001b[0m\u001b[0m\n\u001b[1;32m   8739\u001b[0m         )\n\u001b[0;32m-> 8740\u001b[0;31m         \u001b[0;32mreturn\u001b[0m \u001b[0mop\u001b[0m\u001b[0;34m.\u001b[0m\u001b[0mapply\u001b[0m\u001b[0;34m(\u001b[0m\u001b[0;34m)\u001b[0m\u001b[0;34m\u001b[0m\u001b[0;34m\u001b[0m\u001b[0m\n\u001b[0m\u001b[1;32m   8741\u001b[0m \u001b[0;34m\u001b[0m\u001b[0m\n\u001b[1;32m   8742\u001b[0m     def applymap(\n",
            "\u001b[0;32m/usr/local/lib/python3.7/dist-packages/pandas/core/apply.py\u001b[0m in \u001b[0;36mapply\u001b[0;34m(self)\u001b[0m\n\u001b[1;32m    686\u001b[0m             \u001b[0;32mreturn\u001b[0m \u001b[0mself\u001b[0m\u001b[0;34m.\u001b[0m\u001b[0mapply_raw\u001b[0m\u001b[0;34m(\u001b[0m\u001b[0;34m)\u001b[0m\u001b[0;34m\u001b[0m\u001b[0;34m\u001b[0m\u001b[0m\n\u001b[1;32m    687\u001b[0m \u001b[0;34m\u001b[0m\u001b[0m\n\u001b[0;32m--> 688\u001b[0;31m         \u001b[0;32mreturn\u001b[0m \u001b[0mself\u001b[0m\u001b[0;34m.\u001b[0m\u001b[0mapply_standard\u001b[0m\u001b[0;34m(\u001b[0m\u001b[0;34m)\u001b[0m\u001b[0;34m\u001b[0m\u001b[0;34m\u001b[0m\u001b[0m\n\u001b[0m\u001b[1;32m    689\u001b[0m \u001b[0;34m\u001b[0m\u001b[0m\n\u001b[1;32m    690\u001b[0m     \u001b[0;32mdef\u001b[0m \u001b[0magg\u001b[0m\u001b[0;34m(\u001b[0m\u001b[0mself\u001b[0m\u001b[0;34m)\u001b[0m\u001b[0;34m:\u001b[0m\u001b[0;34m\u001b[0m\u001b[0;34m\u001b[0m\u001b[0m\n",
            "\u001b[0;32m/usr/local/lib/python3.7/dist-packages/pandas/core/apply.py\u001b[0m in \u001b[0;36mapply_standard\u001b[0;34m(self)\u001b[0m\n\u001b[1;32m    810\u001b[0m \u001b[0;34m\u001b[0m\u001b[0m\n\u001b[1;32m    811\u001b[0m     \u001b[0;32mdef\u001b[0m \u001b[0mapply_standard\u001b[0m\u001b[0;34m(\u001b[0m\u001b[0mself\u001b[0m\u001b[0;34m)\u001b[0m\u001b[0;34m:\u001b[0m\u001b[0;34m\u001b[0m\u001b[0;34m\u001b[0m\u001b[0m\n\u001b[0;32m--> 812\u001b[0;31m         \u001b[0mresults\u001b[0m\u001b[0;34m,\u001b[0m \u001b[0mres_index\u001b[0m \u001b[0;34m=\u001b[0m \u001b[0mself\u001b[0m\u001b[0;34m.\u001b[0m\u001b[0mapply_series_generator\u001b[0m\u001b[0;34m(\u001b[0m\u001b[0;34m)\u001b[0m\u001b[0;34m\u001b[0m\u001b[0;34m\u001b[0m\u001b[0m\n\u001b[0m\u001b[1;32m    813\u001b[0m \u001b[0;34m\u001b[0m\u001b[0m\n\u001b[1;32m    814\u001b[0m         \u001b[0;31m# wrap results\u001b[0m\u001b[0;34m\u001b[0m\u001b[0;34m\u001b[0m\u001b[0;34m\u001b[0m\u001b[0m\n",
            "\u001b[0;32m/usr/local/lib/python3.7/dist-packages/pandas/core/apply.py\u001b[0m in \u001b[0;36mapply_series_generator\u001b[0;34m(self)\u001b[0m\n\u001b[1;32m    826\u001b[0m             \u001b[0;32mfor\u001b[0m \u001b[0mi\u001b[0m\u001b[0;34m,\u001b[0m \u001b[0mv\u001b[0m \u001b[0;32min\u001b[0m \u001b[0menumerate\u001b[0m\u001b[0;34m(\u001b[0m\u001b[0mseries_gen\u001b[0m\u001b[0;34m)\u001b[0m\u001b[0;34m:\u001b[0m\u001b[0;34m\u001b[0m\u001b[0;34m\u001b[0m\u001b[0m\n\u001b[1;32m    827\u001b[0m                 \u001b[0;31m# ignore SettingWithCopy here in case the user mutates\u001b[0m\u001b[0;34m\u001b[0m\u001b[0;34m\u001b[0m\u001b[0;34m\u001b[0m\u001b[0m\n\u001b[0;32m--> 828\u001b[0;31m                 \u001b[0mresults\u001b[0m\u001b[0;34m[\u001b[0m\u001b[0mi\u001b[0m\u001b[0;34m]\u001b[0m \u001b[0;34m=\u001b[0m \u001b[0mself\u001b[0m\u001b[0;34m.\u001b[0m\u001b[0mf\u001b[0m\u001b[0;34m(\u001b[0m\u001b[0mv\u001b[0m\u001b[0;34m)\u001b[0m\u001b[0;34m\u001b[0m\u001b[0;34m\u001b[0m\u001b[0m\n\u001b[0m\u001b[1;32m    829\u001b[0m                 \u001b[0;32mif\u001b[0m \u001b[0misinstance\u001b[0m\u001b[0;34m(\u001b[0m\u001b[0mresults\u001b[0m\u001b[0;34m[\u001b[0m\u001b[0mi\u001b[0m\u001b[0;34m]\u001b[0m\u001b[0;34m,\u001b[0m \u001b[0mABCSeries\u001b[0m\u001b[0;34m)\u001b[0m\u001b[0;34m:\u001b[0m\u001b[0;34m\u001b[0m\u001b[0;34m\u001b[0m\u001b[0m\n\u001b[1;32m    830\u001b[0m                     \u001b[0;31m# If we have a view on v, we need to make a copy because\u001b[0m\u001b[0;34m\u001b[0m\u001b[0;34m\u001b[0m\u001b[0;34m\u001b[0m\u001b[0m\n",
            "\u001b[0;32m<ipython-input-28-ca9ff02f68cc>\u001b[0m in \u001b[0;36mlookups\u001b[0;34m(row)\u001b[0m\n\u001b[1;32m     12\u001b[0m     \u001b[0mtoken\u001b[0m \u001b[0;34m-=\u001b[0m \u001b[0;36m1\u001b[0m\u001b[0;34m\u001b[0m\u001b[0;34m\u001b[0m\u001b[0m\n\u001b[1;32m     13\u001b[0m     \u001b[0;31m#print(\"The token is: \" + str(token))\u001b[0m\u001b[0;34m\u001b[0m\u001b[0;34m\u001b[0m\u001b[0;34m\u001b[0m\u001b[0m\n\u001b[0;32m---> 14\u001b[0;31m     \u001b[0mword_tok\u001b[0m\u001b[0;34m=\u001b[0m\u001b[0mdf\u001b[0m\u001b[0;34m.\u001b[0m\u001b[0miloc\u001b[0m\u001b[0;34m[\u001b[0m\u001b[0mlookup_index\u001b[0m\u001b[0;34m,\u001b[0m \u001b[0;36m2\u001b[0m\u001b[0;34m]\u001b[0m\u001b[0;34m[\u001b[0m\u001b[0mtoken\u001b[0m\u001b[0;34m]\u001b[0m\u001b[0;34m\u001b[0m\u001b[0;34m\u001b[0m\u001b[0m\n\u001b[0m\u001b[1;32m     15\u001b[0m     \u001b[0;31m#print(\"The word_tok is: \" + str(word_tok))\u001b[0m\u001b[0;34m\u001b[0m\u001b[0;34m\u001b[0m\u001b[0;34m\u001b[0m\u001b[0m\n\u001b[1;32m     16\u001b[0m     \u001b[0;32mtry\u001b[0m\u001b[0;34m:\u001b[0m\u001b[0;34m\u001b[0m\u001b[0;34m\u001b[0m\u001b[0m\n",
            "\u001b[0;32m/usr/local/lib/python3.7/dist-packages/pandas/core/indexing.py\u001b[0m in \u001b[0;36m__getitem__\u001b[0;34m(self, key)\u001b[0m\n\u001b[1;32m    922\u001b[0m             \u001b[0;32mif\u001b[0m \u001b[0mself\u001b[0m\u001b[0;34m.\u001b[0m\u001b[0m_is_scalar_access\u001b[0m\u001b[0;34m(\u001b[0m\u001b[0mkey\u001b[0m\u001b[0;34m)\u001b[0m\u001b[0;34m:\u001b[0m\u001b[0;34m\u001b[0m\u001b[0;34m\u001b[0m\u001b[0m\n\u001b[1;32m    923\u001b[0m                 \u001b[0;32mwith\u001b[0m \u001b[0msuppress\u001b[0m\u001b[0;34m(\u001b[0m\u001b[0mKeyError\u001b[0m\u001b[0;34m,\u001b[0m \u001b[0mIndexError\u001b[0m\u001b[0;34m)\u001b[0m\u001b[0;34m:\u001b[0m\u001b[0;34m\u001b[0m\u001b[0;34m\u001b[0m\u001b[0m\n\u001b[0;32m--> 924\u001b[0;31m                     \u001b[0;32mreturn\u001b[0m \u001b[0mself\u001b[0m\u001b[0;34m.\u001b[0m\u001b[0mobj\u001b[0m\u001b[0;34m.\u001b[0m\u001b[0m_get_value\u001b[0m\u001b[0;34m(\u001b[0m\u001b[0;34m*\u001b[0m\u001b[0mkey\u001b[0m\u001b[0;34m,\u001b[0m \u001b[0mtakeable\u001b[0m\u001b[0;34m=\u001b[0m\u001b[0mself\u001b[0m\u001b[0;34m.\u001b[0m\u001b[0m_takeable\u001b[0m\u001b[0;34m)\u001b[0m\u001b[0;34m\u001b[0m\u001b[0;34m\u001b[0m\u001b[0m\n\u001b[0m\u001b[1;32m    925\u001b[0m             \u001b[0;32mreturn\u001b[0m \u001b[0mself\u001b[0m\u001b[0;34m.\u001b[0m\u001b[0m_getitem_tuple\u001b[0m\u001b[0;34m(\u001b[0m\u001b[0mkey\u001b[0m\u001b[0;34m)\u001b[0m\u001b[0;34m\u001b[0m\u001b[0;34m\u001b[0m\u001b[0m\n\u001b[1;32m    926\u001b[0m         \u001b[0;32melse\u001b[0m\u001b[0;34m:\u001b[0m\u001b[0;34m\u001b[0m\u001b[0;34m\u001b[0m\u001b[0m\n",
            "\u001b[0;32m/usr/local/lib/python3.7/dist-packages/pandas/core/frame.py\u001b[0m in \u001b[0;36m_get_value\u001b[0;34m(self, index, col, takeable)\u001b[0m\n\u001b[1;32m   3563\u001b[0m         \"\"\"\n\u001b[1;32m   3564\u001b[0m         \u001b[0;32mif\u001b[0m \u001b[0mtakeable\u001b[0m\u001b[0;34m:\u001b[0m\u001b[0;34m\u001b[0m\u001b[0;34m\u001b[0m\u001b[0m\n\u001b[0;32m-> 3565\u001b[0;31m             \u001b[0mseries\u001b[0m \u001b[0;34m=\u001b[0m \u001b[0mself\u001b[0m\u001b[0;34m.\u001b[0m\u001b[0m_ixs\u001b[0m\u001b[0;34m(\u001b[0m\u001b[0mcol\u001b[0m\u001b[0;34m,\u001b[0m \u001b[0maxis\u001b[0m\u001b[0;34m=\u001b[0m\u001b[0;36m1\u001b[0m\u001b[0;34m)\u001b[0m\u001b[0;34m\u001b[0m\u001b[0;34m\u001b[0m\u001b[0m\n\u001b[0m\u001b[1;32m   3566\u001b[0m             \u001b[0;32mreturn\u001b[0m \u001b[0mseries\u001b[0m\u001b[0;34m.\u001b[0m\u001b[0m_values\u001b[0m\u001b[0;34m[\u001b[0m\u001b[0mindex\u001b[0m\u001b[0;34m]\u001b[0m\u001b[0;34m\u001b[0m\u001b[0;34m\u001b[0m\u001b[0m\n\u001b[1;32m   3567\u001b[0m \u001b[0;34m\u001b[0m\u001b[0m\n",
            "\u001b[0;32m/usr/local/lib/python3.7/dist-packages/pandas/core/frame.py\u001b[0m in \u001b[0;36m_ixs\u001b[0;34m(self, i, axis)\u001b[0m\n\u001b[1;32m   3398\u001b[0m \u001b[0;34m\u001b[0m\u001b[0m\n\u001b[1;32m   3399\u001b[0m             \u001b[0;31m# this is a cached value, mark it so\u001b[0m\u001b[0;34m\u001b[0m\u001b[0;34m\u001b[0m\u001b[0;34m\u001b[0m\u001b[0m\n\u001b[0;32m-> 3400\u001b[0;31m             \u001b[0mresult\u001b[0m\u001b[0;34m.\u001b[0m\u001b[0m_set_as_cached\u001b[0m\u001b[0;34m(\u001b[0m\u001b[0mlabel\u001b[0m\u001b[0;34m,\u001b[0m \u001b[0mself\u001b[0m\u001b[0;34m)\u001b[0m\u001b[0;34m\u001b[0m\u001b[0;34m\u001b[0m\u001b[0m\n\u001b[0m\u001b[1;32m   3401\u001b[0m             \u001b[0;32mreturn\u001b[0m \u001b[0mresult\u001b[0m\u001b[0;34m\u001b[0m\u001b[0;34m\u001b[0m\u001b[0m\n\u001b[1;32m   3402\u001b[0m \u001b[0;34m\u001b[0m\u001b[0m\n",
            "\u001b[0;32m/usr/local/lib/python3.7/dist-packages/pandas/core/series.py\u001b[0m in \u001b[0;36m_set_as_cached\u001b[0;34m(self, item, cacher)\u001b[0m\n\u001b[1;32m   1192\u001b[0m             \u001b[0;32mdel\u001b[0m \u001b[0mself\u001b[0m\u001b[0;34m.\u001b[0m\u001b[0m_cacher\u001b[0m\u001b[0;34m\u001b[0m\u001b[0;34m\u001b[0m\u001b[0m\n\u001b[1;32m   1193\u001b[0m \u001b[0;34m\u001b[0m\u001b[0m\n\u001b[0;32m-> 1194\u001b[0;31m     \u001b[0;32mdef\u001b[0m \u001b[0m_set_as_cached\u001b[0m\u001b[0;34m(\u001b[0m\u001b[0mself\u001b[0m\u001b[0;34m,\u001b[0m \u001b[0mitem\u001b[0m\u001b[0;34m,\u001b[0m \u001b[0mcacher\u001b[0m\u001b[0;34m)\u001b[0m \u001b[0;34m->\u001b[0m \u001b[0;32mNone\u001b[0m\u001b[0;34m:\u001b[0m\u001b[0;34m\u001b[0m\u001b[0;34m\u001b[0m\u001b[0m\n\u001b[0m\u001b[1;32m   1195\u001b[0m         \"\"\"\n\u001b[1;32m   1196\u001b[0m         \u001b[0mSet\u001b[0m \u001b[0mthe\u001b[0m \u001b[0m_cacher\u001b[0m \u001b[0mattribute\u001b[0m \u001b[0mon\u001b[0m \u001b[0mthe\u001b[0m \u001b[0mcalling\u001b[0m \u001b[0mobject\u001b[0m \u001b[0;32mwith\u001b[0m \u001b[0ma\u001b[0m \u001b[0mweakref\u001b[0m \u001b[0mto\u001b[0m\u001b[0;34m\u001b[0m\u001b[0;34m\u001b[0m\u001b[0m\n",
            "\u001b[0;31mKeyboardInterrupt\u001b[0m: "
          ]
        }
      ]
    },
    {
      "cell_type": "code",
      "source": [
        "df['feature10']=df['Token_len'].apply(np.log10)\n",
        "dft['feature10']=dft['Token_len'].apply(np.log10)\n",
        "df['feature11']=df.apply(wordlengther, axis=1)\n",
        "df['feature12']=df.apply(wordfiver, axis=1)\n",
        "dft['feature11']=dft.apply(wordlengthert, axis=1)\n",
        "dft['feature12']=dft.apply(wordfivert, axis=1)"
      ],
      "metadata": {
        "id": "j0nu5rs9y5gW"
      },
      "execution_count": null,
      "outputs": []
    },
    {
      "cell_type": "code",
      "source": [
        "df['feature11']=df.apply(wordlengther, axis=1)\n",
        "df['feature12']=df.apply(wordfiver, axis=1)\n",
        "dft['feature11']=dft.apply(wordlengthert, axis=1)\n",
        "dft['feature12']=dft.apply(wordfivert, axis=1)"
      ],
      "metadata": {
        "id": "foYumH0w0CZ5"
      },
      "execution_count": null,
      "outputs": []
    },
    {
      "cell_type": "code",
      "source": [
        "df"
      ],
      "metadata": {
        "id": "HzK3S5OACivL"
      },
      "execution_count": null,
      "outputs": []
    },
    {
      "cell_type": "code",
      "source": [
        "dft"
      ],
      "metadata": {
        "id": "Izz5rSqECkbS"
      },
      "execution_count": null,
      "outputs": []
    },
    {
      "cell_type": "code",
      "source": [
        "df_original_Tweets.columns = ['Original Tweet']\n",
        "df['Original Tweet'] = df_original_Tweets['Original Tweet']\n",
        "\n",
        "first_column = df.pop('Original Tweet')\n",
        "# insert column using insert(position,column_name,first_column) function\n",
        "df.insert(0, 'Original Tweet', first_column)"
      ],
      "metadata": {
        "id": "6Eure_atCoVV"
      },
      "execution_count": null,
      "outputs": []
    },
    {
      "cell_type": "code",
      "source": [
        "dft_original_Tweets.columns = ['Original Tweet']\n",
        "dft['Original Tweet'] = dft_original_Tweets['Original Tweet']\n",
        "\n",
        "first_column = dft.pop('Original Tweet')\n",
        "# insert column using insert(position,column_name,first_column) function\n",
        "dft.insert(0, 'Original Tweet', first_column)"
      ],
      "metadata": {
        "id": "nMS3zf_RDNbd"
      },
      "execution_count": null,
      "outputs": []
    },
    {
      "cell_type": "code",
      "source": [
        "df"
      ],
      "metadata": {
        "id": "GsEodv-cFUiP"
      },
      "execution_count": null,
      "outputs": []
    },
    {
      "cell_type": "code",
      "source": [
        "dft"
      ],
      "metadata": {
        "id": "sT1Pcj0dFZVh"
      },
      "execution_count": null,
      "outputs": []
    },
    {
      "cell_type": "code",
      "source": [
        "def feature_extraction13_23(dataframe):  #pass in df or dft \n",
        "\n",
        "  dataframe[\"Feature 13\"] = np.nan # Count: Words in + Lexicon\n",
        "  dataframe[\"Feature 14\"] = np.nan # Count: Words in - Lexicon\n",
        "  dataframe[\"Feature 15\"] = np.nan # Count: Nouns in Tweet\n",
        "  dataframe[\"Feature 16\"] = np.nan # Count: Adjectives\n",
        "  dataframe[\"Feature 17\"] = np.nan # Ratio: Unique words - total words\n",
        "  dataframe[\"Feature 18\"] = np.nan # Ratio: Stop Words - Total Words\n",
        "  dataframe[\"Feature 19\"] = np.nan # Ratio Nouns to total words\n",
        "  dataframe[\"Feature 20\"] = np.nan # Ratio of proper nouns to total words\n",
        "  dataframe[\"Feature 21\"] = np.nan # Ratio Capital letters to lowercase letters\n",
        "  dataframe[\"Feature 22\"] = np.nan # Ratio of punctuation characters to Total Characters\n",
        "  dataframe[\"Feature 23\"] = np.nan # Does Tweet conatin the word 'No'\n",
        "  dataframe[\"Feature 24\"] = np.nan # Mean Length of all words in tweet \n",
        "  dataframe[\"Feature 25\"] = np.nan # Log of Mean Length of all words in tweet \n",
        "  dataframe[\"Feature 26\"] = np.nan # Highest word score of all words in tweet \n",
        "  dataframe[\"Feature 27\"] = np.nan # Lowest word score of all words in tweet\n",
        "  dataframe[\"Feature 28\"] = np.nan # Emoji count  \n",
        "\n",
        "\n",
        "\n",
        "  #CREATE POSITIVE AND NEGATIVE LEXICONS\n",
        "  pos_lexicon = []\n",
        "  neg_lexicon = []\n",
        "\n",
        "  for i in range(0, len(list_dicts)):               \n",
        "    for j in range(0, len(list_dicts[i])):    \n",
        "\n",
        "      if list(list_dicts[i].values())[j] >= 0:         \n",
        "        pos_lexicon.append(list(list_dicts[i].keys())[j])        \n",
        "          \n",
        "      if list(list_dicts[i].values())[j] < 0:         \n",
        "        neg_lexicon.append(list(list_dicts[i].keys())[j]) \n",
        "\n",
        "  pos_lexicon = [*set(pos_lexicon)]   # Remove duplicate values from + lexicon\n",
        "  neg_lexicon = [*set(neg_lexicon)]   # Remove duplicate values from - lexicon\n",
        "\n",
        "  wrds_in_PosNeg = intersection(pos_lexicon, neg_lexicon)\n",
        "  wrds_in_PosNeg.pop(0)\n",
        "\n",
        "\n",
        "  #Look for duplicates across dictionaries \n",
        "  duplicate_dict = {}\n",
        "\n",
        "  for i in range(0, len(wrds_in_PosNeg)):\n",
        "    sent_scores_2sum = []\n",
        "\n",
        "    for j in range(0, len(list_dicts)):\n",
        "      subreddit_wrd_list = list(list_dicts[j].keys())\n",
        "\n",
        "      if wrds_in_PosNeg[i] in subreddit_wrd_list:\n",
        "        sent_scores_2sum.append(list_dicts[j].get(wrds_in_PosNeg[i]))\n",
        "        num_avg = mean(sent_scores_2sum)\n",
        "    \n",
        "    duplicate_dict[wrds_in_PosNeg[i]] =  num_avg\n",
        "\n",
        "  # Remove words that now have a clear positive or negative classification\n",
        "  for w in duplicate_dict.items():        # .items() returns a tuple of (word, score). See Cell above for all words: scores in dict\n",
        "    if w[1] >= 0:                         # if w[1] (the score) is greater than 0...\n",
        "      neg_lexicon.remove(w[0])            # remove it from the negative lexicon\n",
        "    if w[1] < 0:                          # If w[1] (the score) is less than 0...\n",
        "      pos_lexicon.remove(w[0])            # remove the word from the positive lexicon\n",
        "\n",
        "\n",
        "  # COUNT POSITIVE AND NEGATIVE WORDS (13 & 14)\n",
        "  neg_lex_set = set(neg_lexicon)\n",
        "  pos_lex_set = set(pos_lexicon)\n",
        "\n",
        "  for i in range(0, len(dataframe.index)):\n",
        "    x = set(dataframe['Twitter_tokens'][i])\n",
        "    dataframe['Feature 13'].values[i] = len(x.intersection(pos_lex_set))\n",
        "    dataframe['Feature 14'].values[i] = len(x.intersection(neg_lex_set))\n",
        "\n",
        "\n",
        "  # COUNT NOUNS IN TWEET (15)\n",
        "  for i in range(0, len(dataframe.index)):\n",
        "    tokens = dataframe['Twitter_tokens'][i]\n",
        "    tokens = [w for w in tokens if not w in stop_words]\n",
        "    tagged = nltk.pos_tag(tokens)\n",
        "\n",
        "    noun_definitions = ['NN', 'NNS', 'NNP', 'NNPS']\n",
        "    count = 0\n",
        "\n",
        "    for j in range(0, len(tagged)):\n",
        "      if tagged[j][1] in noun_definitions:\n",
        "        count += 1\n",
        "    \n",
        "    dataframe['Feature 15'].values[i] = count  \n",
        "\n",
        "\n",
        "  #COUNT ADJECTIVES IN TWEET (16)\n",
        "  for i in range(0, len(dataframe.index)):\n",
        "    tokens = dataframe['Twitter_tokens'][i]\n",
        "    tokens = [w for w in tokens if not w in stop_words]\n",
        "    tagged = nltk.pos_tag(tokens)\n",
        "\n",
        "    adj_definitions = ['JJ', 'JJR', 'JJS ']\n",
        "    count = 0\n",
        "\n",
        "    for j in range(0, len(tagged)):\n",
        "      if tagged[j][1] in adj_definitions:\n",
        "        count += 1\n",
        "    \n",
        "    dataframe['Feature 16'].values[i] = count\n",
        "\n",
        "  # RATIO: UNIQUE TO TOTAL WORDS (17)\n",
        "  for i in range(0, len(dataframe.index)):                       \n",
        "    tokens = dataframe['Twitter_tokens'][i]\n",
        "    x = np.array(tokens)\n",
        "    ratio = len(np.unique(x)) / len(tokens)\n",
        "    dataframe['Feature 17'].values[i] = ratio\n",
        "\n",
        "\n",
        "  # STOP WORDS TO TOTAL WORDS (18)\n",
        "  for i in range(0, len(dataframe.index)):                       \n",
        "    tokens = dataframe['Twitter_tokens'][i]\n",
        "    x = np.array(tokens)\n",
        "    stop_wrds_count = [w for w in tokens if w in stop_words]\n",
        "    ratio = len(stop_wrds_count) / len(tokens)\n",
        "    dataframe['Feature 18'].values[i] = ratio\n",
        "\n",
        "\n",
        "  # RATIO OF NOUNS TO TOTAL WORDS (19)\n",
        "\n",
        "  for i in range(0, len(dataframe.index)):\n",
        "      tokens = dataframe['Twitter_tokens'][i]\n",
        "      tokens = [w for w in tokens if not w in stop_words]\n",
        "      tagged = nltk.pos_tag(tokens)\n",
        "\n",
        "      noun_definitions = ['NN', 'NNS', 'NNP', 'NNPS']\n",
        "      count = 0\n",
        "\n",
        "      for j in range(0, len(tagged)):\n",
        "        if tagged[j][1] in noun_definitions:\n",
        "          count += 1\n",
        "\n",
        "      ratio = count / len(dataframe['Twitter_tokens'][i])\n",
        "      dataframe['Feature 19'].values[i] = ratio\n",
        "\n",
        "     \n",
        "  # RATIO OF PROPER NOUNS TO TOTAL WORDS (20)\n",
        "\n",
        "  for i in range(0, len(dataframe.index)):\n",
        "      tokens = dataframe['Twitter_tokens'][i]\n",
        "      tokens = [w for w in tokens if not w in stop_words]\n",
        "      tagged = nltk.pos_tag(tokens)\n",
        "\n",
        "      noun_definitions = ['NNP', 'NNPS']\n",
        "      count = 0\n",
        "\n",
        "      for j in range(0, len(tagged)):\n",
        "        if tagged[j][1] in noun_definitions:\n",
        "          count += 1\n",
        "\n",
        "      ratio = count / len(dataframe['Twitter_tokens'][i])\n",
        "      dataframe['Feature 20'].values[i] = ratio\n",
        "\n",
        "  # RATIO OF CAPITAL LETTERS TO LOWERCASE LETERS(21)\n",
        "  for i in range(0, len(dataframe.index)):\n",
        "    upper_count = len(re.findall(r'[A-Z]', dataframe['Original Tweet'].values[i]))\n",
        "    lower_count = len(re.findall(r'[a-z]', dataframe['Original Tweet'].values[i]))\n",
        "\n",
        "    if lower_count == 0:\n",
        "      dataframe['Feature 21'].values[i] = 0 \n",
        "    if lower_count!= 0: \n",
        "      ratio = upper_count / lower_count\n",
        "      dataframe['Feature 21'].values[i] = ratio\n",
        "\n",
        "\n",
        "  # RATIO PUNCTUATION CHARACTERS TO TOTAL CHARACTERS (22)\n",
        "  for i in range(0, len(dataframe.index)):\n",
        "    count = 0\n",
        "\n",
        "    for j in dataframe['Original Tweet'][i]:\n",
        "      if j in string.punctuation:\n",
        "        count += 1\n",
        "\n",
        "    ratio = count / len(dataframe['Original Tweet'][i])\n",
        "    dataframe['Feature 22'].values[i] = ratio\n",
        "\n",
        "\n",
        "  # DOES TWEET CONTAIN NO (23)\n",
        "  for i in range(0, len(dataframe.index)):                       # In the range 0 to length of the tweets dataframe         # Tokenize and lowercase tweets \n",
        "    if 'no' in dataframe['Twitter_tokens'][i]:                                    # If no is in tweet dataframe value is 1 if not value is zero\n",
        "      dataframe['Feature 23'].values[i] = 1\n",
        "    else: \n",
        "      dataframe['Feature 23'].values[i] = 0\n",
        "\n",
        "  # MEAN LENGTH OF WORDS IN TWEET (24)\n",
        "  for i in range(0, len(dataframe.index)):\n",
        "    average = sum(len(token) for token in dataframe['Twitter_tokens'][i]) / len(dataframe['Twitter_tokens'][i])\n",
        "\n",
        "    dataframe['Feature 24'].values[i] = average\n",
        "\n",
        "\n",
        "\n",
        "  # LOG MEAN LENGTH OF WORDS IN TWEET (25)\n",
        "  for i in range(0, len(dataframe.index)):\n",
        "    average = sum(len(token) for token in dataframe['Twitter_tokens'][i]) / len(dataframe['Twitter_tokens'][i])\n",
        "\n",
        "    dataframe['Feature 25'].values[i] = math.log(average)\n",
        "\n",
        "\n",
        "  # HIGHEST SCORE VALUE OF TOKENS (26)\n",
        "  dataframe['Feature 26'] = dataframe['Feature 26'].astype('object')\n",
        "\n",
        "  for i in range(0, len(dataframe.index)):\n",
        "    found_values = []\n",
        "\n",
        "    for j in range(0 , len(dataframe['Twitter_tokens'][i])):\n",
        "      if dataframe['Twitter_tokens'][i][j] in super_dict:\n",
        "        found_values.append(super_dict.get(dataframe['Twitter_tokens'][i][j])) \n",
        "\n",
        "      if not found_values:\n",
        "        found_values.append(0) \n",
        "\n",
        "    dataframe['Feature 26'].values[i] = max(found_values)\n",
        "\n",
        "\n",
        "  # LOWEST SCORE VALUE OF TOKENS (27)\n",
        "  dataframe['Feature 27'] = dataframe['Feature 27'].astype('object')\n",
        "\n",
        "  for i in range(0, len(dataframe.index)):\n",
        "    found_values = []\n",
        "\n",
        "    for j in range(0 , len(dataframe['Twitter_tokens'][i])):\n",
        "      if dataframe['Twitter_tokens'][i][j] in super_dict:\n",
        "        found_values.append(super_dict.get(dataframe['Twitter_tokens'][i][j])) \n",
        "\n",
        "      if not found_values:\n",
        "        found_values.append(0) \n",
        "\n",
        "    dataframe['Feature 27'].values[i] = min(found_values)\n",
        "\n",
        "\n",
        "  # COUNT EMOJIS (28)\n",
        "  for i in range(0, len(dataframe.index)):\n",
        "    count = len(re.findall(r'[\\U0001f600-\\U0001f650]', dataframe['Original Tweet'][i]))\n",
        "\n",
        "    dataframe['Feature 28'].values[i] = count\n",
        "\n",
        "  return(dataframe)"
      ],
      "metadata": {
        "id": "t3AWr_KqH2D2"
      },
      "execution_count": null,
      "outputs": []
    },
    {
      "cell_type": "code",
      "source": [
        "# Combination of all subreddit dict values into one dict \n",
        "super_dict = {}\n",
        "for i in range(0, len(list_dicts)):\n",
        "  super_dict=dict_merger(super_dict,list_dicts[i])"
      ],
      "metadata": {
        "id": "TN1eTNYiNvt8"
      },
      "execution_count": null,
      "outputs": []
    },
    {
      "cell_type": "code",
      "source": [
        "df_updated = feature_extraction13_23(df)\n",
        "dft_updated = feature_extraction13_23(dft)"
      ],
      "metadata": {
        "id": "kjVlqmfwMEVI"
      },
      "execution_count": null,
      "outputs": []
    },
    {
      "cell_type": "code",
      "source": [
        "df = df_updated\n",
        "dft = dft_updated"
      ],
      "metadata": {
        "id": "L_dYyihBReQQ"
      },
      "execution_count": null,
      "outputs": []
    },
    {
      "cell_type": "code",
      "source": [
        "\n",
        "#dfc=pd.concat([df, dft])\n",
        "dfc.to_csv('tweets_extracted.csv')"
      ],
      "metadata": {
        "id": "vqxrhdNsJRef"
      },
      "execution_count": null,
      "outputs": []
    },
    {
      "cell_type": "markdown",
      "source": [
        "#Forward Selection of Features"
      ],
      "metadata": {
        "id": "IvcZXeOtTU6I"
      }
    },
    {
      "cell_type": "code",
      "source": [
        "#!gdown 1ubIaCqJnOzG-m_ns7VmdV87Ecs349BbG\n",
        "#dfc=pd.read_csv('tweets_extracted.csv')\n",
        "#Xc=dfc.drop(columns=['Unnamed: 0', 'Twitter','Label','Twitter_tokens','Token_len','Original Tweet','feature24']) #whats wrong with feature24?\n",
        "#yc=dfc['Label']"
      ],
      "metadata": {
        "id": "KAeXsYHcmc7y",
        "colab": {
          "base_uri": "https://localhost:8080/"
        },
        "outputId": "306f23d5-e9e5-4308-9a3c-32f2846f4ab7"
      },
      "execution_count": null,
      "outputs": [
        {
          "output_type": "stream",
          "name": "stdout",
          "text": [
            "Downloading...\n",
            "From: https://drive.google.com/uc?id=1ubIaCqJnOzG-m_ns7VmdV87Ecs349BbG\n",
            "To: /content/tweets_extracted.csv\n",
            "100% 18.3M/18.3M [00:00<00:00, 132MB/s] \n"
          ]
        }
      ]
    },
    {
      "cell_type": "code",
      "source": [
        "dfc=pd.concat([df, dft])\n",
        "Xc=dfc.drop(columns=['Twitter','Label','Twitter_tokens','Token_len','Original Tweet','feature24']) #whats wrong with feature24?\n",
        "yc=dfc['Label']"
      ],
      "metadata": {
        "id": "3QS-ndW6mk2e"
      },
      "execution_count": null,
      "outputs": []
    },
    {
      "cell_type": "code",
      "source": [
        "def best_feature_maker(x,y):\n",
        "  X_train, X_test, y_train, y_test = train_test_split(x, y, stratify=y, test_size=0.2, shuffle=True, random_state=42)\n",
        "  sel = SelectFromModel(RandomForestClassifier(n_estimators = 50))\n",
        "  sel.fit(X_train, y_train)\n",
        "  print(\"The best features to use are: \")\n",
        "  feature_index = sel.get_support(indices=True)\n",
        "  x_new=x.iloc[:,feature_index]\n",
        "  print(x_new.head())\n",
        "  weights=sel.estimator_.feature_importances_\n",
        "  weights_percent = 100 * (weights/max(weights))\n",
        "  for i in range(0,len(weights)):\n",
        "    print(\"The feature \" + str(X_train.columns[i]) + \" has a relative importance percentage \" + str(weights_percent[i]))\n",
        "  return x_new\n",
        "\n",
        "  #https://scikit-learn.org/stable/modules/generated/sklearn.feature_selection.SelectFromModel.html\n",
        "  #call coefficients for a third ranking"
      ],
      "metadata": {
        "id": "_tNVVetTkQtn"
      },
      "execution_count": null,
      "outputs": []
    },
    {
      "cell_type": "code",
      "source": [
        "Xc_selected=best_feature_maker(Xc,yc)"
      ],
      "metadata": {
        "colab": {
          "base_uri": "https://localhost:8080/"
        },
        "id": "0hsYY-W1mGnP",
        "outputId": "18ea83d7-2312-4bb0-ad55-ca6b2d2200a3"
      },
      "execution_count": null,
      "outputs": [
        {
          "output_type": "stream",
          "name": "stdout",
          "text": [
            "The best features to use are: \n",
            "   feature1  feature2  feature3  feature4  feature5  feature6  feature7  \\\n",
            "0      1.42     -0.23     -0.43     -0.52      0.56     -0.31      2.26   \n",
            "1      5.64      2.17     -0.54      0.54      0.51      1.24      0.57   \n",
            "2      1.82     -2.73     -1.70     -0.09     -0.71      3.65      2.08   \n",
            "3      0.25      0.14      3.65      1.32     -2.67     -5.03      4.65   \n",
            "4      3.48      0.32     -3.09     -1.57     -1.32      2.60      0.46   \n",
            "\n",
            "   feature8  feature9  Feature 13  Feature 14  Feature 21  Feature 22  \\\n",
            "0      0.81      0.83         7.0         1.0    0.130952    0.033898   \n",
            "1      5.02      1.29         8.0         3.0    0.066667    0.034783   \n",
            "2     -0.08      0.11         5.0         4.0    0.238095    0.068627   \n",
            "3      1.78      1.38        14.0         5.0    1.611111    0.121429   \n",
            "4      0.74      4.52         3.0         5.0    0.033898    0.012658   \n",
            "\n",
            "   Feature 26  Feature 27  \n",
            "0        1.57       -0.44  \n",
            "1        1.52       -0.83  \n",
            "2        3.36       -3.12  \n",
            "3        2.65       -0.44  \n",
            "4        1.55       -1.65  \n",
            "The feature feature1 has a relative importance percentage 86.40163468408473\n",
            "The feature feature2 has a relative importance percentage 58.47034172861291\n",
            "The feature feature3 has a relative importance percentage 52.35136295591531\n",
            "The feature feature4 has a relative importance percentage 54.667298886312345\n",
            "The feature feature5 has a relative importance percentage 43.16589301930024\n",
            "The feature feature6 has a relative importance percentage 51.793820864920214\n",
            "The feature feature7 has a relative importance percentage 45.87124158175938\n",
            "The feature feature8 has a relative importance percentage 69.95017570784626\n",
            "The feature feature9 has a relative importance percentage 66.18688252818464\n",
            "The feature feature10 has a relative importance percentage 27.100568860890473\n",
            "The feature feature11 has a relative importance percentage 23.76248645309518\n",
            "The feature feature12 has a relative importance percentage 26.34323571407327\n",
            "The feature Feature 13 has a relative importance percentage 63.77158217368765\n",
            "The feature Feature 14 has a relative importance percentage 100.0\n",
            "The feature Feature 15 has a relative importance percentage 19.93415218412927\n",
            "The feature Feature 16 has a relative importance percentage 18.48951650067179\n",
            "The feature Feature 17 has a relative importance percentage 12.124680833676008\n",
            "The feature Feature 18 has a relative importance percentage 0.29558592654752436\n",
            "The feature Feature 19 has a relative importance percentage 33.31950900754798\n",
            "The feature Feature 20 has a relative importance percentage 1.7483491926022832\n",
            "The feature Feature 21 has a relative importance percentage 60.640364548123436\n",
            "The feature Feature 22 has a relative importance percentage 43.51677324033304\n",
            "The feature Feature 23 has a relative importance percentage 0.0\n",
            "The feature Feature 24 has a relative importance percentage 37.105133477101845\n",
            "The feature Feature 25 has a relative importance percentage 38.83102787782608\n",
            "The feature Feature 26 has a relative importance percentage 56.08875958164439\n",
            "The feature Feature 27 has a relative importance percentage 55.08022606346591\n",
            "The feature Feature 28 has a relative importance percentage 1.0450935757526747\n"
          ]
        }
      ]
    },
    {
      "cell_type": "markdown",
      "source": [
        "#LogReg"
      ],
      "metadata": {
        "id": "JMgubEwbkzGQ"
      }
    },
    {
      "cell_type": "code",
      "source": [
        "class LogRegression:\n",
        "    def __init__(self, feature_number, lr, epochs):      \n",
        "        self.intercept = 0\n",
        "        self.weight = np.zeros(feature_number)\n",
        "        self.lr = lr\n",
        "        self.epochs = epochs\n",
        "\n",
        "\n",
        "    def sigmoid(self, X):\n",
        "        z = np.dot(X, self.weight) + self.intercept\n",
        "        return 1 / (1 + np.exp(-z))\n",
        "    \n",
        "    def loss(self, s, y):\n",
        "        return (-y * np.log(s) - (1 - y) * np.log(1 - s)).mean()\n",
        "    \n",
        "    def gradient_descent(self, X, s, y):\n",
        "        return np.dot(X.T, (s - y)) / y.shape[0]\n",
        "    \n",
        "    def gradient_descent_intercept(self, s, y):\n",
        "        return np.mean(s - y)\n",
        "\n",
        "    def fit(self, X, y):\n",
        "        losses = []\n",
        "        for i in range(self.epochs):\n",
        "            sigma = self.sigmoid(X)\n",
        "\n",
        "            dW = self.gradient_descent(X , sigma, y)\n",
        "            dintercept = self.gradient_descent_intercept(sigma, y)\n",
        "\n",
        "            self.weight -= self.lr * dW\n",
        "            self.intercept -= self.lr * dintercept\n",
        "\n",
        "            loss = self.loss(sigma, y)\n",
        "            if len(losses) % 1000 == 0:\n",
        "                print(\"The iteration is \" + str(i) + \" and the loss is \" +  str(loss))\n",
        "            losses.append(loss)\n",
        "            if i > 1000:\n",
        "              if losses[-1] > losses[-100] - .0001:     #the difference should be an argument\n",
        "                print(\"The weight is \")\n",
        "                print(self.weight)\n",
        "                print(\"The intercept is \")\n",
        "                print(self.intercept)\n",
        "                break\n",
        "        return losses\n",
        "    \n",
        "    def predict(self, train):\n",
        "        x_new = train\n",
        "        result = self.sigmoid(x_new)\n",
        "        y_pred = np.zeros(result.shape[0])\n",
        "        for i in range(len(y_pred)):\n",
        "            if result[i] >= 0.5: \n",
        "                y_pred[i] = 1\n",
        "            else:\n",
        "                y_pred[i] = 0\n",
        "                continue\n",
        "                \n",
        "        return y_pred\n",
        "      \n",
        "    def metrics(self, pred, test):\n",
        "        y_pred=pred\n",
        "        y_test=test\n",
        "        tp=(sum((y_pred == 1) & (y_test==1)))\n",
        "        fp=(sum((y_pred == 1) & (y_test==0)))\n",
        "        fn=(sum((y_pred == 0) & (y_test==1)))\n",
        "        tn=(sum((y_pred == 0) & (y_test==0)))\n",
        "        confusion_matrix=[[tn, fp], [fn, tp]]\n",
        "        print(\"The confusion matrix is: \")\n",
        "        print(confusion_matrix[0])\n",
        "        print(confusion_matrix[1])\n",
        "        print('The accuracy for the Twitter sentiment is {}'.format(sum(y_pred == y_test) / y_test.shape[0]))\n",
        "        print('The precision for the Twitter sentiment is {}'.format((tp/(tp+fp))))\n",
        "        print('The recall for the Twitter sentiment is {}'.format((tp/(tp+fn))))\n",
        "        print('The F1 score for the Twitter sentiment is {}'.format((2*((tp/(tp+fp))*(tp/(tp+fn)))/((tp/(tp+fn))+(tp/(tp+fp))))))\n",
        "        return confusion_matrix"
      ],
      "metadata": {
        "id": "XSwfy98wRmUv"
      },
      "execution_count": null,
      "outputs": []
    },
    {
      "cell_type": "code",
      "source": [
        "df.head()"
      ],
      "metadata": {
        "colab": {
          "base_uri": "https://localhost:8080/",
          "height": 617
        },
        "id": "w_Coim96PYuk",
        "outputId": "7025078d-7863-4f92-c126-0c09f1eb991c"
      },
      "execution_count": null,
      "outputs": [
        {
          "output_type": "execute_result",
          "data": {
            "text/plain": [
              "                                             Twitter  Label  \\\n",
              "0  qt original draft 7th book remus lupin survive...      1   \n",
              "1  alciato bee invest 150 million january another...      1   \n",
              "2  lit mum kerry louboutins wonder many willam ow...      1   \n",
              "3  soul train oct 27 halloween special ft dot fin...      1   \n",
              "4  disappointed wwe summerslam want see john cena...      0   \n",
              "\n",
              "                                      Twitter_tokens  Token_len  feature24  \\\n",
              "0  [qt, original, draft, 7th, book, remus, lupin,...         11       1.39   \n",
              "1  [alciato, bee, invest, 150, million, january, ...         13       3.63   \n",
              "2  [lit, mum, kerry, louboutins, wonder, many, wi...         12       0.73   \n",
              "3  [soul, train, oct, 27, halloween, special, ft,...         21       2.50   \n",
              "4  [disappointed, wwe, summerslam, want, see, joh...         10       1.75   \n",
              "\n",
              "   feature1  feature2  feature3  feature4  feature5  feature6  feature7  \\\n",
              "0      3.28      4.10     -0.72      0.44         0         0         0   \n",
              "1      1.33     -0.26      0.68      0.17         0         0         0   \n",
              "2      0.73     -0.68     -1.67      0.27         0         0         0   \n",
              "3     -1.38      0.10      2.67      2.80         0         0         0   \n",
              "4      0.02      5.23     -5.12     -2.49         0         0         0   \n",
              "\n",
              "   feature8  feature9  feature10  feature11  feature12  \n",
              "0         0         0          0          0          0  \n",
              "1         0         0          0          0          0  \n",
              "2         0         0          0          0          0  \n",
              "3         0         0          0          0          0  \n",
              "4         0         0          0          0          0  "
            ],
            "text/html": [
              "\n",
              "  <div id=\"df-8bb3f0a3-2bf4-494b-9105-3997e41b1730\">\n",
              "    <div class=\"colab-df-container\">\n",
              "      <div>\n",
              "<style scoped>\n",
              "    .dataframe tbody tr th:only-of-type {\n",
              "        vertical-align: middle;\n",
              "    }\n",
              "\n",
              "    .dataframe tbody tr th {\n",
              "        vertical-align: top;\n",
              "    }\n",
              "\n",
              "    .dataframe thead th {\n",
              "        text-align: right;\n",
              "    }\n",
              "</style>\n",
              "<table border=\"1\" class=\"dataframe\">\n",
              "  <thead>\n",
              "    <tr style=\"text-align: right;\">\n",
              "      <th></th>\n",
              "      <th>Twitter</th>\n",
              "      <th>Label</th>\n",
              "      <th>Twitter_tokens</th>\n",
              "      <th>Token_len</th>\n",
              "      <th>feature24</th>\n",
              "      <th>feature1</th>\n",
              "      <th>feature2</th>\n",
              "      <th>feature3</th>\n",
              "      <th>feature4</th>\n",
              "      <th>feature5</th>\n",
              "      <th>feature6</th>\n",
              "      <th>feature7</th>\n",
              "      <th>feature8</th>\n",
              "      <th>feature9</th>\n",
              "      <th>feature10</th>\n",
              "      <th>feature11</th>\n",
              "      <th>feature12</th>\n",
              "    </tr>\n",
              "  </thead>\n",
              "  <tbody>\n",
              "    <tr>\n",
              "      <th>0</th>\n",
              "      <td>qt original draft 7th book remus lupin survive...</td>\n",
              "      <td>1</td>\n",
              "      <td>[qt, original, draft, 7th, book, remus, lupin,...</td>\n",
              "      <td>11</td>\n",
              "      <td>1.39</td>\n",
              "      <td>3.28</td>\n",
              "      <td>4.10</td>\n",
              "      <td>-0.72</td>\n",
              "      <td>0.44</td>\n",
              "      <td>0</td>\n",
              "      <td>0</td>\n",
              "      <td>0</td>\n",
              "      <td>0</td>\n",
              "      <td>0</td>\n",
              "      <td>0</td>\n",
              "      <td>0</td>\n",
              "      <td>0</td>\n",
              "    </tr>\n",
              "    <tr>\n",
              "      <th>1</th>\n",
              "      <td>alciato bee invest 150 million january another...</td>\n",
              "      <td>1</td>\n",
              "      <td>[alciato, bee, invest, 150, million, january, ...</td>\n",
              "      <td>13</td>\n",
              "      <td>3.63</td>\n",
              "      <td>1.33</td>\n",
              "      <td>-0.26</td>\n",
              "      <td>0.68</td>\n",
              "      <td>0.17</td>\n",
              "      <td>0</td>\n",
              "      <td>0</td>\n",
              "      <td>0</td>\n",
              "      <td>0</td>\n",
              "      <td>0</td>\n",
              "      <td>0</td>\n",
              "      <td>0</td>\n",
              "      <td>0</td>\n",
              "    </tr>\n",
              "    <tr>\n",
              "      <th>2</th>\n",
              "      <td>lit mum kerry louboutins wonder many willam ow...</td>\n",
              "      <td>1</td>\n",
              "      <td>[lit, mum, kerry, louboutins, wonder, many, wi...</td>\n",
              "      <td>12</td>\n",
              "      <td>0.73</td>\n",
              "      <td>0.73</td>\n",
              "      <td>-0.68</td>\n",
              "      <td>-1.67</td>\n",
              "      <td>0.27</td>\n",
              "      <td>0</td>\n",
              "      <td>0</td>\n",
              "      <td>0</td>\n",
              "      <td>0</td>\n",
              "      <td>0</td>\n",
              "      <td>0</td>\n",
              "      <td>0</td>\n",
              "      <td>0</td>\n",
              "    </tr>\n",
              "    <tr>\n",
              "      <th>3</th>\n",
              "      <td>soul train oct 27 halloween special ft dot fin...</td>\n",
              "      <td>1</td>\n",
              "      <td>[soul, train, oct, 27, halloween, special, ft,...</td>\n",
              "      <td>21</td>\n",
              "      <td>2.50</td>\n",
              "      <td>-1.38</td>\n",
              "      <td>0.10</td>\n",
              "      <td>2.67</td>\n",
              "      <td>2.80</td>\n",
              "      <td>0</td>\n",
              "      <td>0</td>\n",
              "      <td>0</td>\n",
              "      <td>0</td>\n",
              "      <td>0</td>\n",
              "      <td>0</td>\n",
              "      <td>0</td>\n",
              "      <td>0</td>\n",
              "    </tr>\n",
              "    <tr>\n",
              "      <th>4</th>\n",
              "      <td>disappointed wwe summerslam want see john cena...</td>\n",
              "      <td>0</td>\n",
              "      <td>[disappointed, wwe, summerslam, want, see, joh...</td>\n",
              "      <td>10</td>\n",
              "      <td>1.75</td>\n",
              "      <td>0.02</td>\n",
              "      <td>5.23</td>\n",
              "      <td>-5.12</td>\n",
              "      <td>-2.49</td>\n",
              "      <td>0</td>\n",
              "      <td>0</td>\n",
              "      <td>0</td>\n",
              "      <td>0</td>\n",
              "      <td>0</td>\n",
              "      <td>0</td>\n",
              "      <td>0</td>\n",
              "      <td>0</td>\n",
              "    </tr>\n",
              "  </tbody>\n",
              "</table>\n",
              "</div>\n",
              "      <button class=\"colab-df-convert\" onclick=\"convertToInteractive('df-8bb3f0a3-2bf4-494b-9105-3997e41b1730')\"\n",
              "              title=\"Convert this dataframe to an interactive table.\"\n",
              "              style=\"display:none;\">\n",
              "        \n",
              "  <svg xmlns=\"http://www.w3.org/2000/svg\" height=\"24px\"viewBox=\"0 0 24 24\"\n",
              "       width=\"24px\">\n",
              "    <path d=\"M0 0h24v24H0V0z\" fill=\"none\"/>\n",
              "    <path d=\"M18.56 5.44l.94 2.06.94-2.06 2.06-.94-2.06-.94-.94-2.06-.94 2.06-2.06.94zm-11 1L8.5 8.5l.94-2.06 2.06-.94-2.06-.94L8.5 2.5l-.94 2.06-2.06.94zm10 10l.94 2.06.94-2.06 2.06-.94-2.06-.94-.94-2.06-.94 2.06-2.06.94z\"/><path d=\"M17.41 7.96l-1.37-1.37c-.4-.4-.92-.59-1.43-.59-.52 0-1.04.2-1.43.59L10.3 9.45l-7.72 7.72c-.78.78-.78 2.05 0 2.83L4 21.41c.39.39.9.59 1.41.59.51 0 1.02-.2 1.41-.59l7.78-7.78 2.81-2.81c.8-.78.8-2.07 0-2.86zM5.41 20L4 18.59l7.72-7.72 1.47 1.35L5.41 20z\"/>\n",
              "  </svg>\n",
              "      </button>\n",
              "      \n",
              "  <style>\n",
              "    .colab-df-container {\n",
              "      display:flex;\n",
              "      flex-wrap:wrap;\n",
              "      gap: 12px;\n",
              "    }\n",
              "\n",
              "    .colab-df-convert {\n",
              "      background-color: #E8F0FE;\n",
              "      border: none;\n",
              "      border-radius: 50%;\n",
              "      cursor: pointer;\n",
              "      display: none;\n",
              "      fill: #1967D2;\n",
              "      height: 32px;\n",
              "      padding: 0 0 0 0;\n",
              "      width: 32px;\n",
              "    }\n",
              "\n",
              "    .colab-df-convert:hover {\n",
              "      background-color: #E2EBFA;\n",
              "      box-shadow: 0px 1px 2px rgba(60, 64, 67, 0.3), 0px 1px 3px 1px rgba(60, 64, 67, 0.15);\n",
              "      fill: #174EA6;\n",
              "    }\n",
              "\n",
              "    [theme=dark] .colab-df-convert {\n",
              "      background-color: #3B4455;\n",
              "      fill: #D2E3FC;\n",
              "    }\n",
              "\n",
              "    [theme=dark] .colab-df-convert:hover {\n",
              "      background-color: #434B5C;\n",
              "      box-shadow: 0px 1px 3px 1px rgba(0, 0, 0, 0.15);\n",
              "      filter: drop-shadow(0px 1px 2px rgba(0, 0, 0, 0.3));\n",
              "      fill: #FFFFFF;\n",
              "    }\n",
              "  </style>\n",
              "\n",
              "      <script>\n",
              "        const buttonEl =\n",
              "          document.querySelector('#df-8bb3f0a3-2bf4-494b-9105-3997e41b1730 button.colab-df-convert');\n",
              "        buttonEl.style.display =\n",
              "          google.colab.kernel.accessAllowed ? 'block' : 'none';\n",
              "\n",
              "        async function convertToInteractive(key) {\n",
              "          const element = document.querySelector('#df-8bb3f0a3-2bf4-494b-9105-3997e41b1730');\n",
              "          const dataTable =\n",
              "            await google.colab.kernel.invokeFunction('convertToInteractive',\n",
              "                                                     [key], {});\n",
              "          if (!dataTable) return;\n",
              "\n",
              "          const docLinkHtml = 'Like what you see? Visit the ' +\n",
              "            '<a target=\"_blank\" href=https://colab.research.google.com/notebooks/data_table.ipynb>data table notebook</a>'\n",
              "            + ' to learn more about interactive tables.';\n",
              "          element.innerHTML = '';\n",
              "          dataTable['output_type'] = 'display_data';\n",
              "          await google.colab.output.renderOutput(dataTable, element);\n",
              "          const docLink = document.createElement('div');\n",
              "          docLink.innerHTML = docLinkHtml;\n",
              "          element.appendChild(docLink);\n",
              "        }\n",
              "      </script>\n",
              "    </div>\n",
              "  </div>\n",
              "  "
            ]
          },
          "metadata": {},
          "execution_count": 37
        }
      ]
    },
    {
      "cell_type": "code",
      "source": [
        "dft.head()"
      ],
      "metadata": {
        "id": "hmf3dyfPIbSd",
        "colab": {
          "base_uri": "https://localhost:8080/",
          "height": 250
        },
        "outputId": "cd552cc2-33f0-4de2-85ff-51bfe7d4f4f9"
      },
      "execution_count": null,
      "outputs": [
        {
          "output_type": "execute_result",
          "data": {
            "text/plain": [
              "                                             Twitter  Label  \\\n",
              "0  think may finally crowd mannequinchallenge gra...      1   \n",
              "1  wow first hugo chavez fidel castro danny glove...      0   \n",
              "2  twitter thankyouobama shows heartfelt gratitud...      1   \n",
              "3  take away illegals dead people trump wins popu...      0   \n",
              "4         onedirection harrystyles cute little dance      1   \n",
              "\n",
              "                                      Twitter_tokens  Token_len  feature1  \\\n",
              "0  [think, may, finally, crowd, mannequinchalleng...          6      2.17   \n",
              "1  [wow, first, hugo, chavez, fidel, castro, dann...         16      0.22   \n",
              "2  [twitter, thankyouobama, shows, heartfelt, gra...          6      0.24   \n",
              "3  [take, away, illegals, dead, people, trump, wi...          9     -0.39   \n",
              "4   [onedirection, harrystyles, cute, little, dance]          5      0.18   \n",
              "\n",
              "   feature2  feature3  feature4  \n",
              "0      6.82      3.96      4.46  \n",
              "1     -0.48      0.94      1.78  \n",
              "2      2.78     -0.68     -0.87  \n",
              "3     -3.03     -3.25      1.40  \n",
              "4      1.03      6.25      1.20  "
            ],
            "text/html": [
              "\n",
              "  <div id=\"df-a9ac298c-bb63-440a-ad07-c12959a38d50\">\n",
              "    <div class=\"colab-df-container\">\n",
              "      <div>\n",
              "<style scoped>\n",
              "    .dataframe tbody tr th:only-of-type {\n",
              "        vertical-align: middle;\n",
              "    }\n",
              "\n",
              "    .dataframe tbody tr th {\n",
              "        vertical-align: top;\n",
              "    }\n",
              "\n",
              "    .dataframe thead th {\n",
              "        text-align: right;\n",
              "    }\n",
              "</style>\n",
              "<table border=\"1\" class=\"dataframe\">\n",
              "  <thead>\n",
              "    <tr style=\"text-align: right;\">\n",
              "      <th></th>\n",
              "      <th>Twitter</th>\n",
              "      <th>Label</th>\n",
              "      <th>Twitter_tokens</th>\n",
              "      <th>Token_len</th>\n",
              "      <th>feature1</th>\n",
              "      <th>feature2</th>\n",
              "      <th>feature3</th>\n",
              "      <th>feature4</th>\n",
              "    </tr>\n",
              "  </thead>\n",
              "  <tbody>\n",
              "    <tr>\n",
              "      <th>0</th>\n",
              "      <td>think may finally crowd mannequinchallenge gra...</td>\n",
              "      <td>1</td>\n",
              "      <td>[think, may, finally, crowd, mannequinchalleng...</td>\n",
              "      <td>6</td>\n",
              "      <td>2.17</td>\n",
              "      <td>6.82</td>\n",
              "      <td>3.96</td>\n",
              "      <td>4.46</td>\n",
              "    </tr>\n",
              "    <tr>\n",
              "      <th>1</th>\n",
              "      <td>wow first hugo chavez fidel castro danny glove...</td>\n",
              "      <td>0</td>\n",
              "      <td>[wow, first, hugo, chavez, fidel, castro, dann...</td>\n",
              "      <td>16</td>\n",
              "      <td>0.22</td>\n",
              "      <td>-0.48</td>\n",
              "      <td>0.94</td>\n",
              "      <td>1.78</td>\n",
              "    </tr>\n",
              "    <tr>\n",
              "      <th>2</th>\n",
              "      <td>twitter thankyouobama shows heartfelt gratitud...</td>\n",
              "      <td>1</td>\n",
              "      <td>[twitter, thankyouobama, shows, heartfelt, gra...</td>\n",
              "      <td>6</td>\n",
              "      <td>0.24</td>\n",
              "      <td>2.78</td>\n",
              "      <td>-0.68</td>\n",
              "      <td>-0.87</td>\n",
              "    </tr>\n",
              "    <tr>\n",
              "      <th>3</th>\n",
              "      <td>take away illegals dead people trump wins popu...</td>\n",
              "      <td>0</td>\n",
              "      <td>[take, away, illegals, dead, people, trump, wi...</td>\n",
              "      <td>9</td>\n",
              "      <td>-0.39</td>\n",
              "      <td>-3.03</td>\n",
              "      <td>-3.25</td>\n",
              "      <td>1.40</td>\n",
              "    </tr>\n",
              "    <tr>\n",
              "      <th>4</th>\n",
              "      <td>onedirection harrystyles cute little dance</td>\n",
              "      <td>1</td>\n",
              "      <td>[onedirection, harrystyles, cute, little, dance]</td>\n",
              "      <td>5</td>\n",
              "      <td>0.18</td>\n",
              "      <td>1.03</td>\n",
              "      <td>6.25</td>\n",
              "      <td>1.20</td>\n",
              "    </tr>\n",
              "  </tbody>\n",
              "</table>\n",
              "</div>\n",
              "      <button class=\"colab-df-convert\" onclick=\"convertToInteractive('df-a9ac298c-bb63-440a-ad07-c12959a38d50')\"\n",
              "              title=\"Convert this dataframe to an interactive table.\"\n",
              "              style=\"display:none;\">\n",
              "        \n",
              "  <svg xmlns=\"http://www.w3.org/2000/svg\" height=\"24px\"viewBox=\"0 0 24 24\"\n",
              "       width=\"24px\">\n",
              "    <path d=\"M0 0h24v24H0V0z\" fill=\"none\"/>\n",
              "    <path d=\"M18.56 5.44l.94 2.06.94-2.06 2.06-.94-2.06-.94-.94-2.06-.94 2.06-2.06.94zm-11 1L8.5 8.5l.94-2.06 2.06-.94-2.06-.94L8.5 2.5l-.94 2.06-2.06.94zm10 10l.94 2.06.94-2.06 2.06-.94-2.06-.94-.94-2.06-.94 2.06-2.06.94z\"/><path d=\"M17.41 7.96l-1.37-1.37c-.4-.4-.92-.59-1.43-.59-.52 0-1.04.2-1.43.59L10.3 9.45l-7.72 7.72c-.78.78-.78 2.05 0 2.83L4 21.41c.39.39.9.59 1.41.59.51 0 1.02-.2 1.41-.59l7.78-7.78 2.81-2.81c.8-.78.8-2.07 0-2.86zM5.41 20L4 18.59l7.72-7.72 1.47 1.35L5.41 20z\"/>\n",
              "  </svg>\n",
              "      </button>\n",
              "      \n",
              "  <style>\n",
              "    .colab-df-container {\n",
              "      display:flex;\n",
              "      flex-wrap:wrap;\n",
              "      gap: 12px;\n",
              "    }\n",
              "\n",
              "    .colab-df-convert {\n",
              "      background-color: #E8F0FE;\n",
              "      border: none;\n",
              "      border-radius: 50%;\n",
              "      cursor: pointer;\n",
              "      display: none;\n",
              "      fill: #1967D2;\n",
              "      height: 32px;\n",
              "      padding: 0 0 0 0;\n",
              "      width: 32px;\n",
              "    }\n",
              "\n",
              "    .colab-df-convert:hover {\n",
              "      background-color: #E2EBFA;\n",
              "      box-shadow: 0px 1px 2px rgba(60, 64, 67, 0.3), 0px 1px 3px 1px rgba(60, 64, 67, 0.15);\n",
              "      fill: #174EA6;\n",
              "    }\n",
              "\n",
              "    [theme=dark] .colab-df-convert {\n",
              "      background-color: #3B4455;\n",
              "      fill: #D2E3FC;\n",
              "    }\n",
              "\n",
              "    [theme=dark] .colab-df-convert:hover {\n",
              "      background-color: #434B5C;\n",
              "      box-shadow: 0px 1px 3px 1px rgba(0, 0, 0, 0.15);\n",
              "      filter: drop-shadow(0px 1px 2px rgba(0, 0, 0, 0.3));\n",
              "      fill: #FFFFFF;\n",
              "    }\n",
              "  </style>\n",
              "\n",
              "      <script>\n",
              "        const buttonEl =\n",
              "          document.querySelector('#df-a9ac298c-bb63-440a-ad07-c12959a38d50 button.colab-df-convert');\n",
              "        buttonEl.style.display =\n",
              "          google.colab.kernel.accessAllowed ? 'block' : 'none';\n",
              "\n",
              "        async function convertToInteractive(key) {\n",
              "          const element = document.querySelector('#df-a9ac298c-bb63-440a-ad07-c12959a38d50');\n",
              "          const dataTable =\n",
              "            await google.colab.kernel.invokeFunction('convertToInteractive',\n",
              "                                                     [key], {});\n",
              "          if (!dataTable) return;\n",
              "\n",
              "          const docLinkHtml = 'Like what you see? Visit the ' +\n",
              "            '<a target=\"_blank\" href=https://colab.research.google.com/notebooks/data_table.ipynb>data table notebook</a>'\n",
              "            + ' to learn more about interactive tables.';\n",
              "          element.innerHTML = '';\n",
              "          dataTable['output_type'] = 'display_data';\n",
              "          await google.colab.output.renderOutput(dataTable, element);\n",
              "          const docLink = document.createElement('div');\n",
              "          docLink.innerHTML = docLinkHtml;\n",
              "          element.appendChild(docLink);\n",
              "        }\n",
              "      </script>\n",
              "    </div>\n",
              "  </div>\n",
              "  "
            ]
          },
          "metadata": {},
          "execution_count": 39
        }
      ]
    },
    {
      "cell_type": "code",
      "source": [
        "#experimented with different splits, best performance was to concatenate the train and test sets\n",
        "#and then randomly resample them to create new train and test sets\n",
        "#this gave better variance and improved the score\n",
        "\"\"\"\n",
        "X_train=df.drop(columns=['Twitter','Label','Twitter_tokens','Token_len'])\n",
        "X_test=dft.drop(columns=['Twitter','Label','Twitter_tokens','Token_len'])\n",
        "y_train=df['Label']\n",
        "y_test=dft['Label']\n",
        "X=X_train\n",
        "y=y_train\n",
        "\"\"\""
      ],
      "metadata": {
        "id": "Fj-fW-zITEqm",
        "colab": {
          "base_uri": "https://localhost:8080/",
          "height": 53
        },
        "outputId": "97000577-6914-4f05-89f8-d2bb8e4c5faa"
      },
      "execution_count": null,
      "outputs": [
        {
          "output_type": "execute_result",
          "data": {
            "text/plain": [
              "\"\\nX_train=df.drop(columns=['Twitter','Label','Twitter_tokens','Token_len'])\\nX_test=dft.drop(columns=['Twitter','Label','Twitter_tokens','Token_len'])\\ny_train=df['Label']\\ny_test=dft['Label']\\nX=X_train\\ny=y_train\\n\""
            ],
            "application/vnd.google.colaboratory.intrinsic+json": {
              "type": "string"
            }
          },
          "metadata": {},
          "execution_count": 41
        }
      ]
    },
    {
      "cell_type": "code",
      "source": [
        "X_train, X_test, y_train, y_test = train_test_split(\n",
        "Xc_selected, yc, test_size=0.2, random_state=42)\n",
        "mms = MinMaxScaler()\n",
        "X_train_norm = mms.fit_transform(X_train)\n",
        "X_test_norm = mms.transform(X_test)\n",
        "#very minor boost in performance since our features are already of similar scale, but did give a boost"
      ],
      "metadata": {
        "id": "hagr9i64S0Rc"
      },
      "execution_count": null,
      "outputs": []
    },
    {
      "cell_type": "code",
      "source": [
        "feature_number, lr, epochs = X_train.shape[1], .5, 1000000\n",
        "\n",
        "LogRegSent = LogRegression(feature_number, lr, epochs)\n",
        "\n",
        "losses = LogRegSent.fit(X_train_norm, y_train)"
      ],
      "metadata": {
        "id": "4nst7aSnSMh8",
        "colab": {
          "base_uri": "https://localhost:8080/"
        },
        "outputId": "510e17f0-1374-4d00-b2a6-3b6b93e9c38c"
      },
      "execution_count": null,
      "outputs": [
        {
          "output_type": "stream",
          "name": "stdout",
          "text": [
            "The iteration is 0 and the loss is 0.6931471805599453\n",
            "The iteration is 1000 and the loss is 0.5200311243215193\n",
            "The iteration is 2000 and the loss is 0.5147366437535069\n",
            "The iteration is 3000 and the loss is 0.5118344063779497\n",
            "The iteration is 4000 and the loss is 0.5097822238029467\n",
            "The iteration is 5000 and the loss is 0.5082863512480211\n",
            "The weight is \n",
            "[ 3.82739655  0.79955854 -0.07744657  1.41160887 -0.9209953   0.81062744\n",
            " -0.20679894  2.05837136  1.89220124  3.03677959 -4.67162514 -0.09132563\n",
            "  0.44075742  1.26288049  1.17038968]\n",
            "The intercept is \n",
            "-6.032237746989782\n"
          ]
        }
      ]
    },
    {
      "cell_type": "code",
      "source": [
        "plt.xlabel(\"Iterations\")\n",
        "plt.ylabel(\"Loss\")\n",
        "plt.title(\"Loss vs Iterations on Twitter Sentiment\")\n",
        "plt.plot(losses)\n",
        "plt.show\n"
      ],
      "metadata": {
        "id": "AdozPFsDSOTV",
        "colab": {
          "base_uri": "https://localhost:8080/",
          "height": 312
        },
        "outputId": "80d57902-2c5b-4d09-8685-4cbf7306fb77"
      },
      "execution_count": null,
      "outputs": [
        {
          "output_type": "execute_result",
          "data": {
            "text/plain": [
              "<function matplotlib.pyplot.show(*args, **kw)>"
            ]
          },
          "metadata": {},
          "execution_count": 44
        },
        {
          "output_type": "display_data",
          "data": {
            "text/plain": [
              "<Figure size 432x288 with 1 Axes>"
            ],
            "image/png": "[encoded data removed]"
          },
          "metadata": {
            "needs_background": "light"
          }
        }
      ]
    },
    {
      "cell_type": "code",
      "source": [
        "y_pred = LogRegSent.predict(X_test_norm)"
      ],
      "metadata": {
        "id": "DMlfHTH1HD4S"
      },
      "execution_count": null,
      "outputs": []
    },
    {
      "cell_type": "code",
      "source": [
        "cm = LogRegSent.metrics(y_pred, y_test)"
      ],
      "metadata": {
        "id": "LSddLO7DtkZ8",
        "colab": {
          "base_uri": "https://localhost:8080/"
        },
        "outputId": "42fe255b-017a-4c3f-9c4b-591700793363"
      },
      "execution_count": null,
      "outputs": [
        {
          "output_type": "stream",
          "name": "stdout",
          "text": [
            "The confusion matrix is: \n",
            "[1149, 1036]\n",
            "[519, 3554]\n",
            "The accuracy for the Twitter sentiment is 0.7515180568871844\n",
            "The precision for the Twitter sentiment is 0.7742919389978213\n",
            "The recall for the Twitter sentiment is 0.8725754971765284\n",
            "The F1 score for the Twitter sentiment is 0.8205009811843472\n"
          ]
        }
      ]
    },
    {
      "cell_type": "code",
      "source": [
        "cm"
      ],
      "metadata": {
        "colab": {
          "base_uri": "https://localhost:8080/"
        },
        "id": "vm-VvUPfuEip",
        "outputId": "e42945b9-cba2-49fb-f36d-7417d81ac1e5"
      },
      "execution_count": null,
      "outputs": [
        {
          "output_type": "execute_result",
          "data": {
            "text/plain": [
              "[[1166, 1019], [509, 3564]]"
            ]
          },
          "metadata": {},
          "execution_count": 48
        }
      ]
    },
    {
      "cell_type": "code",
      "source": [
        "X_train, X_test, y_train, y_test = train_test_split(\n",
        "Xc, yc, test_size=0.2, random_state=42)\n",
        "mms = MinMaxScaler()\n",
        "X_train_norm = mms.fit_transform(X_train)\n",
        "X_test_norm = mms.transform(X_test)\n",
        "feature_number, lr, epochs = X_train.shape[1], .5, 1000000\n",
        "LogRegSent = LogRegression(feature_number, lr, epochs)\n",
        "losses = LogRegSent.fit(X_train_norm, y_train)\n",
        "plt.xlabel(\"Iterations\")\n",
        "plt.ylabel(\"Loss\")\n",
        "plt.title(\"Loss vs Iterations on Twitter Sentiment\")\n",
        "plt.plot(losses)\n",
        "plt.show\n",
        "y_pred = LogRegSent.predict(X_test_norm)\n",
        "cm = LogRegSent.metrics(y_pred, y_test)"
      ],
      "metadata": {
        "colab": {
          "base_uri": "https://localhost:8080/",
          "height": 659
        },
        "id": "4HVZs-Q5tyTj",
        "outputId": "6e667f16-ddca-45c7-a105-a05cc8240697"
      },
      "execution_count": null,
      "outputs": [
        {
          "output_type": "stream",
          "name": "stdout",
          "text": [
            "The iteration is 0 and the loss is 0.6931471805599453\n",
            "The iteration is 1000 and the loss is 0.5163337648981696\n",
            "The iteration is 2000 and the loss is 0.5119824758821128\n",
            "The iteration is 3000 and the loss is 0.5096605563872266\n",
            "The iteration is 4000 and the loss is 0.5080362587179873\n",
            "The iteration is 5000 and the loss is 0.5068466849292902\n",
            "The weight is \n",
            "[ 3.78482296  0.95961696  0.08913285  1.41022504 -0.64968299  0.87404907\n",
            " -0.21844328  2.20870057  1.70453716 -0.84113012  0.38050787 -0.88064503\n",
            "  3.22044406 -4.44841141  0.90426279 -0.17841712 -0.89822205  0.05269887\n",
            " -1.09436821  0.67946859 -0.06685071  0.29464851  0.         -0.07085495\n",
            " -0.46595887  1.18808346  1.16645053 -0.0338025 ]\n",
            "The intercept is \n",
            "-3.9837679860651014\n",
            "The confusion matrix is: \n",
            "[1166, 1019]\n",
            "[509, 3564]\n",
            "The accuracy for the Twitter sentiment is 0.7558325343560243\n",
            "The precision for the Twitter sentiment is 0.7776565568404975\n",
            "The recall for the Twitter sentiment is 0.8750306899091579\n",
            "The F1 score for the Twitter sentiment is 0.8234750462107209\n"
          ]
        },
        {
          "output_type": "display_data",
          "data": {
            "text/plain": [
              "<Figure size 432x288 with 1 Axes>"
            ],
            "image/png": "[encoded data removed]"
          },
          "metadata": {
            "needs_background": "light"
          }
        }
      ]
    },
    {
      "cell_type": "markdown",
      "source": [
        "#Test 1 Additional Feature"
      ],
      "metadata": {
        "id": "75Bn-oE-r35D"
      }
    },
    {
      "cell_type": "code",
      "source": [
        "def try_add_feature(x,y,feat,target):\n",
        "  x_1=x\n",
        "  x_1.insert(1, feat.name, feat)\n",
        "  X_train, X_test, y_train, y_test = train_test_split(x_1, y, test_size=0.2, random_state=42)\n",
        "  mms = MinMaxScaler()\n",
        "  X_train_norm, X_test_norm = mms.fit_transform(X_train), mms.transform(X_test)\n",
        "  feature_number, lr, epochs = X_train.shape[1], .5, 1000000\n",
        "  LogRegSent = LogRegression(feature_number, lr, epochs)\n",
        "  losses = LogRegSent.fit(X_train_norm, y_train)\n",
        "  plt.xlabel(\"Iterations\")\n",
        "  plt.ylabel(\"Loss\")\n",
        "  plt.title(\"Loss vs Iterations on Twitter Sentiment\")\n",
        "  plt.plot(losses)\n",
        "  plt.show\n",
        "  y_pred = LogRegSent.predict(X_test_norm)\n",
        "  cm = LogRegSent.metrics(y_pred, y_test)\n",
        "  f1=(2*cm[1][1]/(cm[1][1]+cm[0][1]))*(cm[1][1]/(cm[1][1]+cm[1][0]))/((cm[1][1]/(cm[1][1]+cm[1][0]))+(cm[1][1]/(cm[1][1]+cm[0][1])))\n",
        "  print(\"The F1 with \" + str(feat.name) + \" is: \" + str(f1) + \" but the target was: \" +str(target))\n",
        "  diff=target-f1\n",
        "  print(\"The difference in F1 score with \" + str(feat.name) + \" is: \" + str(diff))\n",
        "  return diff\n",
        "\n"
      ],
      "metadata": {
        "id": "uy359nLBr7j0"
      },
      "execution_count": null,
      "outputs": []
    },
    {
      "cell_type": "code",
      "source": [
        "  features_selected = Xc_selected.columns\n",
        "  all_features=Xc.columns\n",
        "  removed_features_names=[]\n",
        "  removed_features=[]\n",
        "  for i in range(0,len(all_features)):\n",
        "    good=0\n",
        "    for j in range(0,len(features_selected)):\n",
        "      if all_features[i] == features_selected[j]:\n",
        "        good-=1\n",
        "    if good==0:\n",
        "      removed_features_names.append(Xc.columns[i])\n",
        "\n",
        "  for k in range(0,len(removed_features_names)):\n",
        "    removed_features.append(Xc[removed_features_names[k]])\n",
        "    print(\"Adding \" + str(removed_features_names[k]) + \" to the removed features list\")\n",
        "\n",
        "\n"
      ],
      "metadata": {
        "colab": {
          "base_uri": "https://localhost:8080/"
        },
        "id": "V1MVe_-sdpBw",
        "outputId": "9167cd12-de7c-46a0-8999-517e002976cf"
      },
      "execution_count": null,
      "outputs": [
        {
          "output_type": "stream",
          "name": "stdout",
          "text": [
            "Adding feature10 to the removed features list\n",
            "Adding feature11 to the removed features list\n",
            "Adding feature12 to the removed features list\n",
            "Adding Feature 15 to the removed features list\n",
            "Adding Feature 16 to the removed features list\n",
            "Adding Feature 17 to the removed features list\n",
            "Adding Feature 18 to the removed features list\n",
            "Adding Feature 19 to the removed features list\n",
            "Adding Feature 20 to the removed features list\n",
            "Adding Feature 23 to the removed features list\n",
            "Adding Feature 24 to the removed features list\n",
            "Adding Feature 25 to the removed features list\n",
            "Adding Feature 28 to the removed features list\n"
          ]
        }
      ]
    },
    {
      "cell_type": "code",
      "source": [
        "f1_diff_add=[]\n",
        "f1_selected = 0.8205009811843472 #this should be the F1 score of the Xc_selected features from SelectFromModel\n",
        "for i in range(0,len(removed_features)):\n",
        "  new=removed_features[i]\n",
        "  Xc_OG=Xc_selected\n",
        "  difference=try_add_feature(Xc_OG,yc,new,f1_selected)\n",
        "  f1_diff_add.append(difference)\n",
        "  print(\"---------------\")\n",
        "for i in range(0,len(removed_features)):\n",
        "  print(\"To remove \" + str(removed_features[i]) + \" there was a loss of \" + str(f1_diff_add[i]) + \" in F1\")"
      ],
      "metadata": {
        "colab": {
          "base_uri": "https://localhost:8080/",
          "height": 1000
        },
        "id": "CUfsYfJc_-RJ",
        "outputId": "e7ddb61c-8ee5-409a-e367-149412fa935c"
      },
      "execution_count": null,
      "outputs": [
        {
          "output_type": "stream",
          "name": "stdout",
          "text": [
            "The iteration is 0 and the loss is 0.6931471805599453\n",
            "The iteration is 1000 and the loss is 0.5196841967540914\n",
            "The iteration is 2000 and the loss is 0.5145978646120509\n",
            "The iteration is 3000 and the loss is 0.5118385447677866\n",
            "The iteration is 4000 and the loss is 0.509888629198091\n",
            "The iteration is 5000 and the loss is 0.5084590254924924\n",
            "The weight is \n",
            "[ 3.8223213  -0.75786424  0.82309067 -0.0750922   1.40115552 -0.87981623\n",
            "  0.80076578 -0.230857    2.04982421  1.87357789  3.45359581 -4.33846946\n",
            " -0.07914294  0.46647226  1.27038873  1.16765758]\n",
            "The intercept is \n",
            "-5.704076502193648\n",
            "The confusion matrix is: \n",
            "[1159, 1026]\n",
            "[515, 3558]\n",
            "The accuracy for the Twitter sentiment is 0.7537551933525087\n",
            "The precision for the Twitter sentiment is 0.7761780104712042\n",
            "The recall for the Twitter sentiment is 0.8735575742695801\n",
            "The F1 score for the Twitter sentiment is 0.8219937622733048\n",
            "The F1 with feature10 is: 0.8219937622733048 but the target was: 0.8205009811843472\n",
            "The difference in F1 score with feature10 is: -0.0014927810889575621\n",
            "---------------\n",
            "The iteration is 0 and the loss is 0.6931471805599453\n",
            "The iteration is 1000 and the loss is 0.5194694458899329\n",
            "The iteration is 2000 and the loss is 0.514576244746091\n",
            "The iteration is 3000 and the loss is 0.5118908181947253\n",
            "The iteration is 4000 and the loss is 0.5099686769033143\n",
            "The iteration is 5000 and the loss is 0.5085443986595233\n",
            "The weight is \n",
            "[ 3.82991733 -0.4071495  -0.631022    0.82176122 -0.06922012  1.39216457\n",
            " -0.86244433  0.82128413 -0.23869557  2.04482861  1.86125851  3.36663902\n",
            " -4.38938815 -0.07312536  0.47260823  1.25514039  1.16852765]\n",
            "The intercept is \n",
            "-5.611284396571579\n",
            "The confusion matrix is: \n",
            "[1159, 1026]\n",
            "[507, 3566]\n",
            "The accuracy for the Twitter sentiment is 0.7550335570469798\n",
            "The precision for the Twitter sentiment is 0.7765679442508711\n",
            "The recall for the Twitter sentiment is 0.8755217284556838\n",
            "The F1 score for the Twitter sentiment is 0.8230813618003462\n",
            "The F1 with feature11 is: 0.8230813618003462 but the target was: 0.8205009811843472\n",
            "The difference in F1 score with feature11 is: -0.0025803806159989673\n",
            "---------------\n",
            "The iteration is 0 and the loss is 0.6931471805599453\n",
            "The iteration is 1000 and the loss is 0.5186740503506613\n",
            "The iteration is 2000 and the loss is 0.5139333533679343\n",
            "The iteration is 3000 and the loss is 0.5113062272271282\n",
            "The iteration is 4000 and the loss is 0.509411279036311\n",
            "The iteration is 5000 and the loss is 0.5079981378585743\n",
            "The weight is \n",
            "[ 3.83985146 -1.05948986 -0.05194998  0.08680563  0.79233891 -0.06364326\n",
            "  1.34591772 -0.85626958  0.80139454 -0.27962459  2.09338397  1.75372477\n",
            "  3.41156826 -4.34061709 -0.07911667  0.3771169   1.22993801  1.14023598]\n",
            "The intercept is \n",
            "-5.444815264021072\n",
            "The confusion matrix is: \n",
            "[1166, 1019]\n",
            "[514, 3559]\n",
            "The accuracy for the Twitter sentiment is 0.7550335570469798\n",
            "The precision for the Twitter sentiment is 0.7774137177806902\n",
            "The recall for the Twitter sentiment is 0.8738030935428431\n",
            "The F1 score for the Twitter sentiment is 0.8227950525950757\n",
            "The F1 with feature12 is: 0.8227950525950757 but the target was: 0.8205009811843472\n",
            "The difference in F1 score with feature12 is: -0.00229407141072846\n",
            "---------------\n",
            "The iteration is 0 and the loss is 0.6931471805599453\n",
            "The iteration is 1000 and the loss is 0.5186707863248343\n",
            "The iteration is 2000 and the loss is 0.5139456363728896\n",
            "The iteration is 3000 and the loss is 0.5113107956694324\n",
            "The iteration is 4000 and the loss is 0.5094077766129109\n",
            "The iteration is 5000 and the loss is 0.5079869908205968\n",
            "The weight is \n",
            "[ 3.84735178 -0.10353643 -1.03800625 -0.0470582   0.11659175  0.795592\n",
            " -0.06146674  1.34644357 -0.85840456  0.80250618 -0.28523418  2.10074331\n",
            "  1.75372581  3.43208597 -4.32945437 -0.07908636  0.38101814  1.22849196\n",
            "  1.1400917 ]\n",
            "The intercept is \n",
            "-5.463324074256741\n",
            "The confusion matrix is: \n",
            "[1166, 1019]\n",
            "[512, 3561]\n",
            "The accuracy for the Twitter sentiment is 0.7553531479705976\n",
            "The precision for the Twitter sentiment is 0.7775109170305677\n",
            "The recall for the Twitter sentiment is 0.874294132089369\n",
            "The F1 score for the Twitter sentiment is 0.8230671443430025\n",
            "The F1 with Feature 15 is: 0.8230671443430025 but the target was: 0.8205009811843472\n",
            "The difference in F1 score with Feature 15 is: -0.0025661631586553213\n",
            "---------------\n",
            "The iteration is 0 and the loss is 0.6931471805599453\n",
            "The iteration is 1000 and the loss is 0.5185826705945769\n",
            "The iteration is 2000 and the loss is 0.5138899025580396\n",
            "The iteration is 3000 and the loss is 0.5112749426877095\n",
            "The iteration is 4000 and the loss is 0.5093865019873559\n",
            "The iteration is 5000 and the loss is 0.5079771827215407\n",
            "The weight is \n",
            "[ 3.84285131e+00  2.43311728e-01 -1.97605962e-02 -1.08551373e+00\n",
            " -4.55784595e-02  1.46582852e-03  8.13330800e-01 -8.03916154e-02\n",
            "  1.36653327e+00 -8.62062105e-01  7.99056451e-01 -2.79551552e-01\n",
            "  2.08992111e+00  1.76361662e+00  3.39874921e+00 -4.33570010e+00\n",
            " -8.32884660e-02  3.53098876e-01  1.22251134e+00  1.14269697e+00]\n",
            "The intercept is \n",
            "-5.415094920383976\n",
            "The confusion matrix is: \n",
            "[1163, 1022]\n",
            "[513, 3560]\n",
            "The accuracy for the Twitter sentiment is 0.7547139661233621\n",
            "The precision for the Twitter sentiment is 0.7769532955041467\n",
            "The recall for the Twitter sentiment is 0.874048612816106\n",
            "The F1 score for the Twitter sentiment is 0.8226458694396304\n",
            "The F1 with Feature 16 is: 0.8226458694396304 but the target was: 0.8205009811843472\n",
            "The difference in F1 score with Feature 16 is: -0.0021448882552831394\n",
            "---------------\n",
            "The iteration is 0 and the loss is 0.6931471805599453\n",
            "The iteration is 1000 and the loss is 0.5171320805574434\n",
            "The iteration is 2000 and the loss is 0.5129746366158947\n",
            "The iteration is 3000 and the loss is 0.5107315601790019\n",
            "The iteration is 4000 and the loss is 0.5091229385419612\n",
            "The iteration is 5000 and the loss is 0.5079174666581198\n",
            "The weight is \n",
            "[ 3.76584485 -1.0833011   0.08707314 -0.18194917 -1.04789441  0.08407574\n",
            " -0.28263836  0.88588098 -0.02698666  1.36532341 -0.72887417  0.81225233\n",
            " -0.20711711  2.09509387  1.72010806  3.59110513 -4.17814798 -0.07421176\n",
            "  0.28260355  1.23651223  1.13923229]\n",
            "The intercept is \n",
            "-4.355968910071053\n",
            "The confusion matrix is: \n",
            "[1166, 1019]\n",
            "[520, 3553]\n",
            "The accuracy for the Twitter sentiment is 0.7540747842761265\n",
            "The precision for the Twitter sentiment is 0.7771216097987752\n",
            "The recall for the Twitter sentiment is 0.8723299779032654\n",
            "The F1 score for the Twitter sentiment is 0.8219780219780219\n",
            "The F1 with Feature 17 is: 0.8219780219780219 but the target was: 0.8205009811843472\n",
            "The difference in F1 score with Feature 17 is: -0.001477040793674722\n",
            "---------------\n",
            "The iteration is 0 and the loss is 0.6931471805599453\n",
            "The iteration is 1000 and the loss is 0.5171318952169977\n",
            "The iteration is 2000 and the loss is 0.512973776706933\n",
            "The iteration is 3000 and the loss is 0.5107300911927491\n",
            "The iteration is 4000 and the loss is 0.5091209217870248\n",
            "The iteration is 5000 and the loss is 0.5079149515721152\n",
            "The weight is \n",
            "[ 3.76649303  0.07527997 -1.08334732  0.08736547 -0.18174524 -1.04739078\n",
            "  0.08420952 -0.28296291  0.8863943  -0.02707386  1.36568666 -0.72897817\n",
            "  0.81225403 -0.20745102  2.09516839  1.72050918  3.59070289 -4.17848953\n",
            " -0.07424602  0.28280644  1.23667751  1.13912495]\n",
            "The intercept is \n",
            "-4.357100038513733\n",
            "The confusion matrix is: \n",
            "[1166, 1019]\n",
            "[520, 3553]\n",
            "The accuracy for the Twitter sentiment is 0.7540747842761265\n",
            "The precision for the Twitter sentiment is 0.7771216097987752\n",
            "The recall for the Twitter sentiment is 0.8723299779032654\n",
            "The F1 score for the Twitter sentiment is 0.8219780219780219\n",
            "The F1 with Feature 18 is: 0.8219780219780219 but the target was: 0.8205009811843472\n",
            "The difference in F1 score with Feature 18 is: -0.001477040793674722\n",
            "---------------\n",
            "The iteration is 0 and the loss is 0.6931471805599453\n",
            "The iteration is 1000 and the loss is 0.5163713108414439\n",
            "The iteration is 2000 and the loss is 0.5120760152364388\n",
            "The iteration is 3000 and the loss is 0.5098103986817497\n",
            "The iteration is 4000 and the loss is 0.5082159940802923\n",
            "The iteration is 5000 and the loss is 0.5070432375968591\n",
            "The weight is \n",
            "[ 3.76842503 -1.12649724  0.05836342 -0.92208599 -0.17655947  0.96786677\n",
            " -1.1078544   0.11025678 -0.72519964  0.96449287  0.08540655  1.40958586\n",
            " -0.65417553  0.86327368 -0.21556197  2.20441704  1.7143757   3.29142349\n",
            " -4.40503241 -0.06689027  0.30665048  1.18867661  1.1630998 ]\n",
            "The intercept is \n",
            "-3.9921714236306096\n",
            "The confusion matrix is: \n",
            "[1165, 1020]\n",
            "[514, 3559]\n",
            "The accuracy for the Twitter sentiment is 0.7548737615851709\n",
            "The precision for the Twitter sentiment is 0.7772439397248307\n",
            "The recall for the Twitter sentiment is 0.8738030935428431\n",
            "The F1 score for the Twitter sentiment is 0.8226999537679149\n",
            "The F1 with Feature 19 is: 0.8226999537679149 but the target was: 0.8205009811843472\n",
            "The difference in F1 score with Feature 19 is: -0.0021989725835677154\n",
            "---------------\n",
            "The iteration is 0 and the loss is 0.6931471805599453\n",
            "The iteration is 1000 and the loss is 0.516297378543645\n",
            "The iteration is 2000 and the loss is 0.5119581587419764\n",
            "The iteration is 3000 and the loss is 0.5096624735516548\n",
            "The iteration is 4000 and the loss is 0.5080473304640782\n",
            "The iteration is 5000 and the loss is 0.5068602193021096\n",
            "The weight is \n",
            "[ 3.78395715  0.68503245 -1.13723866  0.05649267 -0.91995628 -0.17506608\n",
            "  0.96458924 -1.10236248  0.11499152 -0.73012516  0.96931328  0.0844054\n",
            "  1.41738506 -0.65487014  0.86279408 -0.22102169  2.20757069  1.7133027\n",
            "  3.28618052 -4.40388946 -0.06758834  0.30600041  1.19365486  1.16525005]\n",
            "The intercept is \n",
            "-4.010985548676466\n",
            "The confusion matrix is: \n",
            "[1165, 1020]\n",
            "[516, 3557]\n",
            "The accuracy for the Twitter sentiment is 0.7545541706615532\n",
            "The precision for the Twitter sentiment is 0.777146602578108\n",
            "The recall for the Twitter sentiment is 0.8733120549963173\n",
            "The F1 score for the Twitter sentiment is 0.8224277456647401\n",
            "The F1 with Feature 20 is: 0.8224277456647401 but the target was: 0.8205009811843472\n",
            "The difference in F1 score with Feature 20 is: -0.0019267644803928619\n",
            "---------------\n",
            "The iteration is 0 and the loss is 0.6931471805599453\n",
            "The iteration is 1000 and the loss is 0.516297378543645\n",
            "The iteration is 2000 and the loss is 0.5119581587419764\n",
            "The iteration is 3000 and the loss is 0.5096624735516548\n",
            "The iteration is 4000 and the loss is 0.5080473304640782\n",
            "The iteration is 5000 and the loss is 0.5068602193021096\n",
            "The weight is \n",
            "[ 3.78395715  0.          0.68503245 -1.13723866  0.05649267 -0.91995628\n",
            " -0.17506608  0.96458924 -1.10236248  0.11499152 -0.73012516  0.96931328\n",
            "  0.0844054   1.41738506 -0.65487014  0.86279408 -0.22102169  2.20757069\n",
            "  1.7133027   3.28618052 -4.40388946 -0.06758834  0.30600041  1.19365486\n",
            "  1.16525005]\n",
            "The intercept is \n",
            "-4.010985548676467\n",
            "The confusion matrix is: \n",
            "[1165, 1020]\n",
            "[516, 3557]\n",
            "The accuracy for the Twitter sentiment is 0.7545541706615532\n",
            "The precision for the Twitter sentiment is 0.777146602578108\n",
            "The recall for the Twitter sentiment is 0.8733120549963173\n",
            "The F1 score for the Twitter sentiment is 0.8224277456647401\n",
            "The F1 with Feature 23 is: 0.8224277456647401 but the target was: 0.8205009811843472\n",
            "The difference in F1 score with Feature 23 is: -0.0019267644803928619\n",
            "---------------\n",
            "The iteration is 0 and the loss is 0.6931471805599453\n",
            "The iteration is 1000 and the loss is 0.5163026064917753\n",
            "The iteration is 2000 and the loss is 0.5119691299602518\n",
            "The iteration is 3000 and the loss is 0.5096641920196481\n",
            "The iteration is 4000 and the loss is 0.5080439074002698\n",
            "The iteration is 5000 and the loss is 0.5068543742542371\n",
            "The weight is \n",
            "[ 3.78480456 -0.29544986  0.          0.68343078 -1.12430927  0.05534441\n",
            " -0.91327481 -0.17562844  0.94735206 -1.03272072  0.20941981 -0.77011622\n",
            "  0.96511437  0.08623474  1.41405643 -0.65399245  0.86627806 -0.22124061\n",
            "  2.20797863  1.71032035  3.26291505 -4.41974744 -0.06653172  0.30344778\n",
            "  1.19077671  1.16626071]\n",
            "The intercept is \n",
            "-4.010638121469006\n",
            "The confusion matrix is: \n",
            "[1168, 1017]\n",
            "[514, 3559]\n",
            "The accuracy for the Twitter sentiment is 0.7553531479705976\n",
            "The precision for the Twitter sentiment is 0.7777534965034965\n",
            "The recall for the Twitter sentiment is 0.8738030935428431\n",
            "The F1 score for the Twitter sentiment is 0.8229853162215286\n",
            "The F1 with Feature 24 is: 0.8229853162215286 but the target was: 0.8205009811843472\n",
            "The difference in F1 score with Feature 24 is: -0.0024843350371813733\n",
            "---------------\n",
            "The iteration is 0 and the loss is 0.6931471805599453\n",
            "The iteration is 1000 and the loss is 0.5163340101158802\n",
            "The iteration is 2000 and the loss is 0.5119826742128999\n",
            "The iteration is 3000 and the loss is 0.5096607024933104\n",
            "The iteration is 4000 and the loss is 0.5080363389529559\n",
            "The iteration is 5000 and the loss is 0.5068466938846996\n",
            "The weight is \n",
            "[ 3.78526948 -0.46631567 -0.07116529  0.          0.67958241 -1.09467171\n",
            "  0.05272546 -0.89812695 -0.17856745  0.90448278 -0.88024835  0.38015263\n",
            " -0.84083245  0.95972919  0.08911563  1.41047171 -0.64989921  0.87396593\n",
            " -0.21848957  2.20887995  1.70449108  3.22045152 -4.44841924 -0.06693897\n",
            "  0.29484725  1.18808411  1.16632075]\n",
            "The intercept is \n",
            "-3.9843846104322767\n",
            "The confusion matrix is: \n",
            "[1167, 1018]\n",
            "[509, 3564]\n",
            "The accuracy for the Twitter sentiment is 0.7559923298178332\n",
            "The precision for the Twitter sentiment is 0.7778262767350502\n",
            "The recall for the Twitter sentiment is 0.8750306899091579\n",
            "The F1 score for the Twitter sentiment is 0.8235701906412478\n",
            "The F1 with Feature 25 is: 0.8235701906412478 but the target was: 0.8205009811843472\n",
            "The difference in F1 score with Feature 25 is: -0.00306920945690059\n",
            "---------------\n",
            "The iteration is 0 and the loss is 0.6931471805599453\n",
            "The iteration is 1000 and the loss is 0.5163337648981696\n",
            "The iteration is 2000 and the loss is 0.5119824758821128\n",
            "The iteration is 3000 and the loss is 0.5096605563872266\n",
            "The iteration is 4000 and the loss is 0.5080362587179873\n",
            "The iteration is 5000 and the loss is 0.5068466849292902\n",
            "The weight is \n",
            "[ 3.78482296 -0.0338025  -0.46595887 -0.07085495  0.          0.67946859\n",
            " -1.09436821  0.05269887 -0.89822205 -0.17841712  0.90426279 -0.88064503\n",
            "  0.38050787 -0.84113012  0.95961696  0.08913285  1.41022504 -0.64968299\n",
            "  0.87404907 -0.21844328  2.20870057  1.70453716  3.22044406 -4.44841141\n",
            " -0.06685071  0.29464851  1.18808346  1.16645053]\n",
            "The intercept is \n",
            "-3.983767986065105\n",
            "The confusion matrix is: \n",
            "[1166, 1019]\n",
            "[509, 3564]\n",
            "The accuracy for the Twitter sentiment is 0.7558325343560243\n",
            "The precision for the Twitter sentiment is 0.7776565568404975\n",
            "The recall for the Twitter sentiment is 0.8750306899091579\n",
            "The F1 score for the Twitter sentiment is 0.8234750462107209\n",
            "The F1 with Feature 28 is: 0.8234750462107209 but the target was: 0.8205009811843472\n",
            "The difference in F1 score with Feature 28 is: -0.0029740650263736512\n",
            "---------------\n",
            "To remove 0        1.041393\n",
            "1        1.113943\n",
            "2        1.079181\n",
            "3        1.322219\n",
            "4        1.000000\n",
            "           ...   \n",
            "31284    0.954243\n",
            "31285    1.041393\n",
            "31286    0.845098\n",
            "31287    0.954243\n",
            "31288    0.778151\n",
            "Name: feature10, Length: 31289, dtype: float64 there was a loss of -0.0014927810889575621 in F1\n",
            "To remove 0        1.361728\n",
            "1        0.845098\n",
            "2        1.000000\n",
            "3        0.954243\n",
            "4        1.079181\n",
            "           ...   \n",
            "31284    0.845098\n",
            "31285    1.000000\n",
            "31286    0.845098\n",
            "31287    1.113943\n",
            "31288    0.954243\n",
            "Name: feature11, Length: 31289, dtype: float64 there was a loss of -0.0025803806159989673 in F1\n",
            "To remove 0        0.954243\n",
            "1        1.000000\n",
            "2        0.903090\n",
            "3        1.041393\n",
            "4        0.602060\n",
            "           ...   \n",
            "31284    0.845098\n",
            "31285    0.602060\n",
            "31286    0.845098\n",
            "31287    0.903090\n",
            "31288    0.698970\n",
            "Name: feature12, Length: 31289, dtype: float64 there was a loss of -0.00229407141072846 in F1\n",
            "To remove 0         7.0\n",
            "1         5.0\n",
            "2         7.0\n",
            "3        11.0\n",
            "4         5.0\n",
            "         ... \n",
            "31284     4.0\n",
            "31285     5.0\n",
            "31286     3.0\n",
            "31287     5.0\n",
            "31288     5.0\n",
            "Name: Feature 15, Length: 31289, dtype: float64 there was a loss of -0.0025661631586553213 in F1\n",
            "To remove 0        2.0\n",
            "1        1.0\n",
            "2        1.0\n",
            "3        4.0\n",
            "4        2.0\n",
            "        ... \n",
            "31284    2.0\n",
            "31285    2.0\n",
            "31286    2.0\n",
            "31287    0.0\n",
            "31288    1.0\n",
            "Name: Feature 16, Length: 31289, dtype: float64 there was a loss of -0.0021448882552831394 in F1\n",
            "To remove 0        1.000000\n",
            "1        1.000000\n",
            "2        0.916667\n",
            "3        1.000000\n",
            "4        1.000000\n",
            "           ...   \n",
            "31284    1.000000\n",
            "31285    1.000000\n",
            "31286    0.714286\n",
            "31287    1.000000\n",
            "31288    1.000000\n",
            "Name: Feature 17, Length: 31289, dtype: float64 there was a loss of -0.001477040793674722 in F1\n",
            "To remove 0        0.0\n",
            "1        0.0\n",
            "2        0.0\n",
            "3        0.0\n",
            "4        0.0\n",
            "        ... \n",
            "31284    0.0\n",
            "31285    0.0\n",
            "31286    0.0\n",
            "31287    0.0\n",
            "31288    0.0\n",
            "Name: Feature 18, Length: 31289, dtype: float64 there was a loss of -0.001477040793674722 in F1\n",
            "To remove 0        0.636364\n",
            "1        0.384615\n",
            "2        0.583333\n",
            "3        0.523810\n",
            "4        0.500000\n",
            "           ...   \n",
            "31284    0.444444\n",
            "31285    0.454545\n",
            "31286    0.428571\n",
            "31287    0.555556\n",
            "31288    0.833333\n",
            "Name: Feature 19, Length: 31289, dtype: float64 there was a loss of -0.0021989725835677154 in F1\n",
            "To remove 0        0.0\n",
            "1        0.0\n",
            "2        0.0\n",
            "3        0.0\n",
            "4        0.0\n",
            "        ... \n",
            "31284    0.0\n",
            "31285    0.0\n",
            "31286    0.0\n",
            "31287    0.0\n",
            "31288    0.0\n",
            "Name: Feature 20, Length: 31289, dtype: float64 there was a loss of -0.0019267644803928619 in F1\n",
            "To remove 0        0.0\n",
            "1        0.0\n",
            "2        0.0\n",
            "3        0.0\n",
            "4        0.0\n",
            "        ... \n",
            "31284    0.0\n",
            "31285    0.0\n",
            "31286    0.0\n",
            "31287    0.0\n",
            "31288    0.0\n",
            "Name: Feature 23, Length: 31289, dtype: float64 there was a loss of -0.0019267644803928619 in F1\n",
            "To remove 0        7.000000\n",
            "1        5.230769\n",
            "2        5.416667\n",
            "3        4.428571\n",
            "4        5.300000\n",
            "           ...   \n",
            "31284    5.000000\n",
            "31285    5.090909\n",
            "31286    5.714286\n",
            "31287    7.777778\n",
            "31288    5.833333\n",
            "Name: Feature 24, Length: 31289, dtype: float64 there was a loss of -0.0024843350371813733 in F1\n",
            "To remove 0        1.945910\n",
            "1        1.654558\n",
            "2        1.689481\n",
            "3        1.488077\n",
            "4        1.667707\n",
            "           ...   \n",
            "31284    1.609438\n",
            "31285    1.627456\n",
            "31286    1.742969\n",
            "31287    2.051271\n",
            "31288    1.763589\n",
            "Name: Feature 25, Length: 31289, dtype: float64 there was a loss of -0.00306920945690059 in F1\n",
            "To remove 0        0.0\n",
            "1        0.0\n",
            "2        0.0\n",
            "3        0.0\n",
            "4        0.0\n",
            "        ... \n",
            "31284    0.0\n",
            "31285    0.0\n",
            "31286    0.0\n",
            "31287    0.0\n",
            "31288    0.0\n",
            "Name: Feature 28, Length: 31289, dtype: float64 there was a loss of -0.0029740650263736512 in F1\n"
          ]
        },
        {
          "output_type": "display_data",
          "data": {
            "text/plain": [
              "<Figure size 432x288 with 1 Axes>"
            ],
            "image/png": "[encoded data removed]"
          },
          "metadata": {
            "needs_background": "light"
          }
        }
      ]
    },
    {
      "cell_type": "code",
      "source": [
        "for i in range(0,len(removed_features)):\n",
        "  print(\"To remove \" + str(removed_features[i].name) + \" there was a loss of \" + str(f1_diff_add[i]) + \" in F1\")"
      ],
      "metadata": {
        "id": "rsK5cb3dC-6c",
        "colab": {
          "base_uri": "https://localhost:8080/"
        },
        "outputId": "f253aaf1-c738-493d-b7cb-eb3c63f1c11c"
      },
      "execution_count": null,
      "outputs": [
        {
          "output_type": "stream",
          "name": "stdout",
          "text": [
            "To remove feature10 there was a loss of -0.0014927810889575621 in F1\n",
            "To remove feature11 there was a loss of -0.0025803806159989673 in F1\n",
            "To remove feature12 there was a loss of -0.00229407141072846 in F1\n",
            "To remove Feature 15 there was a loss of -0.0025661631586553213 in F1\n",
            "To remove Feature 16 there was a loss of -0.0021448882552831394 in F1\n",
            "To remove Feature 17 there was a loss of -0.001477040793674722 in F1\n",
            "To remove Feature 18 there was a loss of -0.001477040793674722 in F1\n",
            "To remove Feature 19 there was a loss of -0.0021989725835677154 in F1\n",
            "To remove Feature 20 there was a loss of -0.0019267644803928619 in F1\n",
            "To remove Feature 23 there was a loss of -0.0019267644803928619 in F1\n",
            "To remove Feature 24 there was a loss of -0.0024843350371813733 in F1\n",
            "To remove Feature 25 there was a loss of -0.00306920945690059 in F1\n",
            "To remove Feature 28 there was a loss of -0.0029740650263736512 in F1\n"
          ]
        }
      ]
    },
    {
      "cell_type": "code",
      "source": [
        "f1_diffs_add_percent = []\n",
        "maxnum=(min(f1_diff_add))\n",
        "for i in range (0,len(f1_diff_add)):\n",
        "  num=f1_diff_add[i]\n",
        "  val = 100 * (num/maxnum)\n",
        "  f1_diffs_add_percent.append(val)\n",
        "  print(\"The feature \" + str(removed_features[i].name) + \" has a relative importance percentage \" + str(f1_diffs_add_percent[i]))"
      ],
      "metadata": {
        "colab": {
          "base_uri": "https://localhost:8080/"
        },
        "id": "sKd4VsnNobLY",
        "outputId": "9716b21b-a246-4030-bd0d-30aef335b7f6"
      },
      "execution_count": null,
      "outputs": [
        {
          "output_type": "stream",
          "name": "stdout",
          "text": [
            "The feature feature10 has a relative importance percentage 48.63731556675939\n",
            "The feature feature11 has a relative importance percentage 84.0731351911296\n",
            "The feature feature12 has a relative importance percentage 74.74470031918592\n",
            "The feature Feature 15 has a relative importance percentage 83.60990654729493\n",
            "The feature Feature 16 has a relative importance percentage 69.8840625054353\n",
            "The feature Feature 17 has a relative importance percentage 48.12447030468545\n",
            "The feature Feature 18 has a relative importance percentage 48.12447030468545\n",
            "The feature Feature 19 has a relative importance percentage 71.64622077596246\n",
            "The feature Feature 20 has a relative importance percentage 62.777223498411395\n",
            "The feature Feature 23 has a relative importance percentage 62.777223498411395\n",
            "The feature Feature 24 has a relative importance percentage 80.9438088884997\n",
            "The feature Feature 25 has a relative importance percentage 100.0\n",
            "The feature Feature 28 has a relative importance percentage 96.90003462249788\n"
          ]
        }
      ]
    },
    {
      "cell_type": "markdown",
      "source": [
        "#Try 1 Remove Feature"
      ],
      "metadata": {
        "id": "-5A_vwhaWKCT"
      }
    },
    {
      "cell_type": "code",
      "source": [
        "def try_remove_feature(x,y,feat,target):\n",
        "  x_1=x\n",
        "  x_1=x_1.drop(columns=feat)\n",
        "  X_train, X_test, y_train, y_test = train_test_split(x_1, y, test_size=0.2, random_state=42)\n",
        "  X_train_norm, X_test_norm = mms.fit_transform(X_train), mms.transform(X_test)\n",
        "  feature_number, lr, epochs = X_train.shape[1], .5, 1000000\n",
        "  LogRegSent = LogRegression(feature_number, lr, epochs)\n",
        "  losses = LogRegSent.fit(X_train_norm, y_train)\n",
        "  plt.xlabel(\"Iterations\")\n",
        "  plt.ylabel(\"Loss\")\n",
        "  plt.title(\"Loss vs Iterations on Twitter Sentiment\")\n",
        "  plt.plot(losses)\n",
        "  plt.show\n",
        "  y_pred = LogRegSent.predict(X_test_norm)\n",
        "  cm = LogRegSent.metrics(y_pred, y_test)\n",
        "  f1=(2*cm[1][1]/(cm[1][1]+cm[0][1]))*(cm[1][1]/(cm[1][1]+cm[1][0]))/((cm[1][1]/(cm[1][1]+cm[1][0]))+(cm[1][1]/(cm[1][1]+cm[0][1])))\n",
        "  print(\"The F1 with \" + str(feat) + \" is: \" + str(f1) + \" but the target was: \" +str(target))\n",
        "  diff=target-f1\n",
        "  print(\"The difference in F1 score without \" + str(feat) + \" is: \" + str(diff))\n",
        "  return diff\n",
        "\n"
      ],
      "metadata": {
        "id": "b8_3fAeyWJm8"
      },
      "execution_count": null,
      "outputs": []
    },
    {
      "cell_type": "code",
      "source": [
        "all_features=Xc.columns\n",
        "f1_diff_rem=[]\n",
        "f1_selected = 0.8234750462107209 #this should be F1 score for logreg of all_features\n",
        "for i in range(0,len(all_features)):\n",
        "  new=all_features[i]\n",
        "  difference=try_remove_feature(Xc,yc,new,f1_selected)\n",
        "  f1_diff_rem.append(difference)\n",
        "  print(\"---------------\")\n",
        "for i in range(0,len(all_features)):\n",
        "  print(\"To remove \" + str(all_features[i]) + \" there was a loss of \" + str(f1_diff_rem[i]) + \" in F1\")"
      ],
      "metadata": {
        "colab": {
          "base_uri": "https://localhost:8080/",
          "height": 1000
        },
        "id": "24OBixYSW3O2",
        "outputId": "ecd29d53-085c-491d-a986-5a8a0afd9114"
      },
      "execution_count": null,
      "outputs": [
        {
          "output_type": "stream",
          "name": "stdout",
          "text": [
            "The iteration is 0 and the loss is 0.6931471805599453\n",
            "The iteration is 1000 and the loss is 0.5195213987717158\n",
            "The iteration is 2000 and the loss is 0.5166309665940962\n",
            "The iteration is 3000 and the loss is 0.5153100848352188\n",
            "The weight is \n",
            "[ 1.02005837  0.32852883  1.43025142 -0.29719017  0.97358146  0.03328336\n",
            "  2.10723821  1.84029904 -0.52350885  0.23170659 -0.83332889  3.41715996\n",
            " -4.57456459  0.53160169 -0.12898674 -0.84950064  0.03416039 -0.84136759\n",
            "  0.50317461 -0.05637017  0.3023505   0.         -0.13368123 -0.44904497\n",
            "  1.16918284  1.31932973 -0.03435339]\n",
            "The intercept is \n",
            "-2.444708083765628\n",
            "The confusion matrix is: \n",
            "[1141, 1044]\n",
            "[512, 3561]\n",
            "The accuracy for the Twitter sentiment is 0.7513582614253755\n",
            "The precision for the Twitter sentiment is 0.7732899022801303\n",
            "The recall for the Twitter sentiment is 0.874294132089369\n",
            "The F1 score for the Twitter sentiment is 0.8206960129061994\n",
            "The F1 with feature1 is: 0.8206960129061994 but the target was: 0.8234750462107209\n",
            "The difference in F1 score without feature1 is: 0.00277903330452145\n",
            "---------------\n",
            "The iteration is 0 and the loss is 0.6931471805599453\n",
            "The iteration is 1000 and the loss is 0.5165487178581781\n",
            "The iteration is 2000 and the loss is 0.5122603904629086\n",
            "The iteration is 3000 and the loss is 0.5100129920597501\n",
            "The iteration is 4000 and the loss is 0.5084616943809923\n",
            "The weight is \n",
            "[ 3.76911226  0.17313584  1.43804774 -0.59722374  0.898866   -0.15906064\n",
            "  2.25927493  1.75836519 -0.76370726  0.36875003 -0.88190562  3.25577487\n",
            " -4.49877835  0.84765532 -0.18933086 -0.87562886  0.04238482 -1.04096292\n",
            "  0.65920838 -0.06603425  0.28428391  0.         -0.08785819 -0.46995984\n",
            "  1.19360727  1.18126645 -0.03412836]\n",
            "The intercept is \n",
            "-3.689293005974128\n",
            "The confusion matrix is: \n",
            "[1167, 1018]\n",
            "[511, 3562]\n",
            "The accuracy for the Twitter sentiment is 0.7556727388942154\n",
            "The precision for the Twitter sentiment is 0.7777292576419214\n",
            "The recall for the Twitter sentiment is 0.874539651362632\n",
            "The F1 score for the Twitter sentiment is 0.8232982780538541\n",
            "The F1 with feature2 is: 0.8232982780538541 but the target was: 0.8234750462107209\n",
            "The difference in F1 score without feature2 is: 0.00017676815686673564\n",
            "---------------\n",
            "The iteration is 0 and the loss is 0.6931471805599453\n",
            "The iteration is 1000 and the loss is 0.5162291185353058\n",
            "The iteration is 2000 and the loss is 0.5119042712846574\n",
            "The iteration is 3000 and the loss is 0.5096168232441695\n",
            "The iteration is 4000 and the loss is 0.5080108479818278\n",
            "The iteration is 5000 and the loss is 0.5068312659924786\n",
            "The weight is \n",
            "[ 3.77524462  0.97695608  1.39925328 -0.63572955  0.88931795 -0.20801044\n",
            "  2.22002616  1.71226622 -0.84442942  0.3776242  -0.88454076  3.21833846\n",
            " -4.4546621   0.90431846 -0.16949163 -0.90514403  0.05272524 -1.0879854\n",
            "  0.67627063 -0.06722797  0.29377992  0.         -0.0695262  -0.46466867\n",
            "  1.20335406  1.16541956 -0.03480756]\n",
            "The intercept is \n",
            "-3.9739327241543063\n",
            "The confusion matrix is: \n",
            "[1168, 1017]\n",
            "[508, 3565]\n",
            "The accuracy for the Twitter sentiment is 0.7563119207414509\n",
            "The precision for the Twitter sentiment is 0.7780445220427761\n",
            "The recall for the Twitter sentiment is 0.8752762091824208\n",
            "The F1 score for the Twitter sentiment is 0.8238012709416522\n",
            "The F1 with feature3 is: 0.8238012709416522 but the target was: 0.8234750462107209\n",
            "The difference in F1 score without feature3 is: -0.00032622473093135707\n",
            "---------------\n",
            "The iteration is 0 and the loss is 0.6931471805599453\n",
            "The iteration is 1000 and the loss is 0.5167307564756243\n",
            "The iteration is 2000 and the loss is 0.5126517798683055\n",
            "The iteration is 3000 and the loss is 0.5105536425743515\n",
            "The iteration is 4000 and the loss is 0.5091192879688591\n",
            "The weight is \n",
            "[ 3.77775747  1.02570607  0.14481131 -0.48330832  0.89704421 -0.10157749\n",
            "  2.22482468  1.75448449 -0.69607343  0.34985948 -0.87548765  3.24086618\n",
            " -4.45245507  0.75549182 -0.20393851 -0.85822625  0.04554551 -1.00940169\n",
            "  0.63407464 -0.06151007  0.31128991  0.         -0.09792459 -0.46009048\n",
            "  1.23160224  1.21352466 -0.0364428 ]\n",
            "The intercept is \n",
            "-3.378002370931309\n",
            "The confusion matrix is: \n",
            "[1152, 1033]\n",
            "[509, 3564]\n",
            "The accuracy for the Twitter sentiment is 0.7535953978907\n",
            "The precision for the Twitter sentiment is 0.7752882314552969\n",
            "The recall for the Twitter sentiment is 0.8750306899091579\n",
            "The F1 score for the Twitter sentiment is 0.8221453287197231\n",
            "The F1 with feature4 is: 0.8221453287197231 but the target was: 0.8234750462107209\n",
            "The difference in F1 score without feature4 is: 0.0013297174909977505\n",
            "---------------\n",
            "The iteration is 0 and the loss is 0.6931471805599453\n",
            "The iteration is 1000 and the loss is 0.5164008917750614\n",
            "The iteration is 2000 and the loss is 0.5121043913363532\n",
            "The iteration is 3000 and the loss is 0.5097996478924581\n",
            "The iteration is 4000 and the loss is 0.5081716352127175\n",
            "The iteration is 5000 and the loss is 0.5069679984961221\n",
            "The weight is \n",
            "[ 3.76986376  0.9391937   0.05465401  1.3675349   0.83201807 -0.24187063\n",
            "  2.18341574  1.68260447 -0.87531321  0.3773849  -0.88161023  3.22887632\n",
            " -4.44630066  0.92652998 -0.18877138 -0.91686576  0.05332009 -1.11430481\n",
            "  0.6860669  -0.06896016  0.28300022  0.         -0.07095387 -0.47509862\n",
            "  1.15439915  1.15756659 -0.03723842]\n",
            "The intercept is \n",
            "-4.105808317449171\n",
            "The confusion matrix is: \n",
            "[1165, 1020]\n",
            "[507, 3566]\n",
            "The accuracy for the Twitter sentiment is 0.7559923298178332\n",
            "The precision for the Twitter sentiment is 0.7775839511556912\n",
            "The recall for the Twitter sentiment is 0.8755217284556838\n",
            "The F1 score for the Twitter sentiment is 0.8236516918812796\n",
            "The F1 with feature5 is: 0.8236516918812796 but the target was: 0.8234750462107209\n",
            "The difference in F1 score without feature5 is: -0.00017664567055875047\n",
            "---------------\n",
            "The iteration is 0 and the loss is 0.6931471805599453\n",
            "The iteration is 1000 and the loss is 0.5165899374276323\n",
            "The iteration is 2000 and the loss is 0.5122336109968231\n",
            "The iteration is 3000 and the loss is 0.5099343164316346\n",
            "The iteration is 4000 and the loss is 0.5083323630908719\n",
            "The iteration is 5000 and the loss is 0.5071627215178734\n",
            "The weight is \n",
            "[ 3.80563554  0.98626931  0.16931808  1.41160656 -0.56365155 -0.16975201\n",
            "  2.23991907  1.84403851 -0.81854183  0.39067414 -0.89748669  3.25238154\n",
            " -4.47780988  0.88303829 -0.16785205 -0.89552545  0.054169   -1.06847921\n",
            "  0.67835464 -0.06337817  0.31695564  0.         -0.06480023 -0.44548829\n",
            "  1.25127777  1.17351515 -0.0280716 ]\n",
            "The intercept is \n",
            "-3.868005717305011\n",
            "The confusion matrix is: \n",
            "[1167, 1018]\n",
            "[509, 3564]\n",
            "The accuracy for the Twitter sentiment is 0.7559923298178332\n",
            "The precision for the Twitter sentiment is 0.7778262767350502\n",
            "The recall for the Twitter sentiment is 0.8750306899091579\n",
            "The F1 score for the Twitter sentiment is 0.8235701906412478\n",
            "The F1 with feature6 is: 0.8235701906412478 but the target was: 0.8234750462107209\n",
            "The difference in F1 score without feature6 is: -9.514443052693888e-05\n",
            "---------------\n",
            "The iteration is 0 and the loss is 0.6931471805599453\n",
            "The iteration is 1000 and the loss is 0.5162922857419026\n",
            "The iteration is 2000 and the loss is 0.5119874014117304\n",
            "The iteration is 3000 and the loss is 0.5096854485759964\n",
            "The iteration is 4000 and the loss is 0.5080645385561624\n",
            "The iteration is 5000 and the loss is 0.506871039575112\n",
            "The weight is \n",
            "[ 3.78013992  0.94842527  0.07726522  1.39764205 -0.66085366  0.86346018\n",
            "  2.20125158  1.69187872 -0.84986294  0.3808189  -0.88017958  3.21648528\n",
            " -4.44661895  0.91512671 -0.178597   -0.90789692  0.05242305 -1.0949139\n",
            "  0.68053641 -0.06698666  0.29258813  0.         -0.06986406 -0.4671721\n",
            "  1.17091625  1.1573569  -0.03396218]\n",
            "The intercept is \n",
            "-4.01655539505734\n",
            "The confusion matrix is: \n",
            "[1172, 1013]\n",
            "[510, 3563]\n",
            "The accuracy for the Twitter sentiment is 0.7566315116650687\n",
            "The precision for the Twitter sentiment is 0.7786276223776224\n",
            "The recall for the Twitter sentiment is 0.8747851706358949\n",
            "The F1 score for the Twitter sentiment is 0.8239102786449299\n",
            "The F1 with feature7 is: 0.8239102786449299 but the target was: 0.8234750462107209\n",
            "The difference in F1 score without feature7 is: -0.0004352324342090652\n",
            "---------------\n",
            "The iteration is 0 and the loss is 0.6931471805599453\n",
            "The iteration is 1000 and the loss is 0.5186688370629529\n",
            "The iteration is 2000 and the loss is 0.5144703622951858\n",
            "The iteration is 3000 and the loss is 0.5122879699157094\n",
            "The iteration is 4000 and the loss is 0.5107537501649791\n",
            "The weight is \n",
            "[ 3.7841223   1.20698919  0.3466767   1.5035583  -0.46135373  0.99949596\n",
            " -0.08073885  1.76169386 -0.83681884  0.31161416 -0.84130263  3.41022639\n",
            " -4.6861884   0.86961049 -0.0929812  -0.87551054  0.05836383 -0.91100545\n",
            "  0.66300343 -0.05601817  0.2647262   0.         -0.07649265 -0.44682151\n",
            "  1.22009083  1.16717946 -0.0487961 ]\n",
            "The intercept is \n",
            "-3.750878168582745\n",
            "The confusion matrix is: \n",
            "[1141, 1044]\n",
            "[510, 3563]\n",
            "The accuracy for the Twitter sentiment is 0.7516778523489933\n",
            "The precision for the Twitter sentiment is 0.7733883221185153\n",
            "The recall for the Twitter sentiment is 0.8747851706358949\n",
            "The F1 score for the Twitter sentiment is 0.8209677419354839\n",
            "The F1 with feature8 is: 0.8209677419354839 but the target was: 0.8234750462107209\n",
            "The difference in F1 score without feature8 is: 0.0025073042752369323\n",
            "---------------\n",
            "The iteration is 0 and the loss is 0.6931471805599453\n",
            "The iteration is 1000 and the loss is 0.5173502178051473\n",
            "The iteration is 2000 and the loss is 0.5129981042541006\n",
            "The iteration is 3000 and the loss is 0.5106911385577955\n",
            "The iteration is 4000 and the loss is 0.5090781874993889\n",
            "The iteration is 5000 and the loss is 0.5078981542471842\n",
            "The weight is \n",
            "[ 3.98833943  1.1057632   0.20045709  1.50334178 -0.56517742  1.14641711\n",
            " -0.09537777  2.23738806 -0.75751743  0.40125034 -0.94058792  3.31444417\n",
            " -4.50822918  0.85773363 -0.20933182 -0.89322705  0.03756975 -1.08789461\n",
            "  0.69206534 -0.06366295  0.31375778  0.         -0.09159134 -0.49104259\n",
            "  1.30572577  1.21499581 -0.02389291]\n",
            "The intercept is \n",
            "-3.78507348174478\n",
            "The confusion matrix is: \n",
            "[1156, 1029]\n",
            "[503, 3570]\n",
            "The accuracy for the Twitter sentiment is 0.7551933525087887\n",
            "The precision for the Twitter sentiment is 0.776255707762557\n",
            "The recall for the Twitter sentiment is 0.8765038055487355\n",
            "The F1 score for the Twitter sentiment is 0.8233394833948339\n",
            "The F1 with feature9 is: 0.8233394833948339 but the target was: 0.8234750462107209\n",
            "The difference in F1 score without feature9 is: 0.00013556281588700259\n",
            "---------------\n",
            "The iteration is 0 and the loss is 0.6931471805599453\n",
            "The iteration is 1000 and the loss is 0.5165109189903094\n",
            "The iteration is 2000 and the loss is 0.5121643083422734\n",
            "The iteration is 3000 and the loss is 0.5098313865552073\n",
            "The iteration is 4000 and the loss is 0.5081832183732117\n",
            "The iteration is 5000 and the loss is 0.5069631365381184\n",
            "The weight is \n",
            "[ 3.77849962  0.91610973  0.08674332  1.37032883 -0.69728134  0.86398661\n",
            " -0.24349461  2.21856307  1.68104268  0.29414856 -1.10794952  3.05132807\n",
            " -4.6114512   0.63867182 -0.24429202 -0.86312746  0.04692659 -0.9538984\n",
            "  0.68535813 -0.0711213   0.28302728  0.          0.0114025  -0.35647396\n",
            "  1.17160643  1.15863881 -0.02097116]\n",
            "The intercept is \n",
            "-4.246407603916145\n",
            "The confusion matrix is: \n",
            "[1165, 1020]\n",
            "[510, 3563]\n",
            "The accuracy for the Twitter sentiment is 0.7555129434324065\n",
            "The precision for the Twitter sentiment is 0.777438359153393\n",
            "The recall for the Twitter sentiment is 0.8747851706358949\n",
            "The F1 score for the Twitter sentiment is 0.8232439926062847\n",
            "The F1 with feature10 is: 0.8232439926062847 but the target was: 0.8234750462107209\n",
            "The difference in F1 score without feature10 is: 0.00023105360443620437\n",
            "---------------\n",
            "The iteration is 0 and the loss is 0.6931471805599453\n",
            "The iteration is 1000 and the loss is 0.5162226668241097\n",
            "The iteration is 2000 and the loss is 0.5119957873157093\n",
            "The iteration is 3000 and the loss is 0.5097292938661668\n",
            "The iteration is 4000 and the loss is 0.5081259774539734\n",
            "The iteration is 5000 and the loss is 0.5069434649071514\n",
            "The weight is \n",
            "[ 3.78544811  0.9623188   0.09189124  1.41256133 -0.64218766  0.88100851\n",
            " -0.2161511   2.20408915  1.70742369 -0.82030358 -0.84370856  3.19989054\n",
            " -4.45604043  0.90990749 -0.17256946 -0.88391882  0.05277747 -1.09116011\n",
            "  0.67815546 -0.06576117  0.30504742  0.         -0.00495658 -0.35889674\n",
            "  1.185204    1.17095357 -0.0295049 ]\n",
            "The intercept is \n",
            "-3.9592951220087804\n",
            "The confusion matrix is: \n",
            "[1171, 1014]\n",
            "[509, 3564]\n",
            "The accuracy for the Twitter sentiment is 0.7566315116650687\n",
            "The precision for the Twitter sentiment is 0.7785058977719528\n",
            "The recall for the Twitter sentiment is 0.8750306899091579\n",
            "The F1 score for the Twitter sentiment is 0.8239509883250491\n",
            "The F1 with feature11 is: 0.8239509883250491 but the target was: 0.8234750462107209\n",
            "The difference in F1 score without feature11 is: -0.00047594211432822053\n",
            "---------------\n",
            "The iteration is 0 and the loss is 0.6931471805599453\n",
            "The iteration is 1000 and the loss is 0.516684013986328\n",
            "The iteration is 2000 and the loss is 0.5122622352185372\n",
            "The iteration is 3000 and the loss is 0.5098924601904079\n",
            "The iteration is 4000 and the loss is 0.5082268135584687\n",
            "The iteration is 5000 and the loss is 0.5070079801442307\n",
            "The weight is \n",
            "[ 3.8061775   0.9749259   0.10451551  1.43323458 -0.64773809  0.90278096\n",
            " -0.20453943  2.19810647  1.75762723 -1.28597776  0.45050944  3.1352479\n",
            " -4.5076201   0.71311188 -0.2583997  -0.88002398  0.06998947 -1.01287645\n",
            "  0.69665985 -0.05947513  0.36010402  0.         -0.31392571 -1.00128857\n",
            "  1.19016004  1.19003606 -0.00559188]\n",
            "The intercept is \n",
            "-4.096294505203684\n",
            "The confusion matrix is: \n",
            "[1169, 1016]\n",
            "[509, 3564]\n",
            "The accuracy for the Twitter sentiment is 0.7563119207414509\n",
            "The precision for the Twitter sentiment is 0.7781659388646288\n",
            "The recall for the Twitter sentiment is 0.8750306899091579\n",
            "The F1 score for the Twitter sentiment is 0.8237605454755575\n",
            "The F1 with feature12 is: 0.8237605454755575 but the target was: 0.8234750462107209\n",
            "The difference in F1 score without feature12 is: -0.000285499264836675\n",
            "---------------\n",
            "The iteration is 0 and the loss is 0.6931471805599453\n",
            "The iteration is 1000 and the loss is 0.5253999487171973\n",
            "The iteration is 2000 and the loss is 0.5173407537207191\n",
            "The iteration is 3000 and the loss is 0.5138592708939221\n",
            "The iteration is 4000 and the loss is 0.5116783263402548\n",
            "The iteration is 5000 and the loss is 0.5101710256487334\n",
            "The weight is \n",
            "[ 4.21906993  1.15944273  0.0479628   1.46024199 -0.86849992  1.08085925\n",
            " -0.14734293  2.57200354  2.07217971  0.71830355  0.2298555  -0.49054624\n",
            " -5.99002316  2.49778572 -0.03933227 -0.21227136  0.10238721 -2.04321644\n",
            "  0.73911104 -0.13439552  0.00695133  0.         -0.54732116 -1.43560725\n",
            "  1.58796776  1.02309541 -0.05546115]\n",
            "The intercept is \n",
            "-5.15983233666992\n",
            "The confusion matrix is: \n",
            "[1157, 1028]\n",
            "[509, 3564]\n",
            "The accuracy for the Twitter sentiment is 0.7543943751997443\n",
            "The precision for the Twitter sentiment is 0.7761324041811847\n",
            "The recall for the Twitter sentiment is 0.8750306899091579\n",
            "The F1 score for the Twitter sentiment is 0.8226197345643393\n",
            "The F1 with Feature 13 is: 0.8226197345643393 but the target was: 0.8234750462107209\n",
            "The difference in F1 score without Feature 13 is: 0.0008553116463815291\n",
            "---------------\n",
            "The iteration is 0 and the loss is 0.6931471805599453\n",
            "The iteration is 1000 and the loss is 0.5374232101911014\n",
            "The iteration is 2000 and the loss is 0.5267613655614026\n",
            "The iteration is 3000 and the loss is 0.5228365046707918\n",
            "The iteration is 4000 and the loss is 0.5207429475362578\n",
            "The iteration is 5000 and the loss is 0.5194098095954299\n",
            "The weight is \n",
            "[ 4.18670807  1.61456616  0.68262151  1.40356952 -0.63020293  1.22513211\n",
            " -0.20528632  2.99001772  2.09666931 -3.77497439  0.63674116 -1.51558043\n",
            "  5.89876216 -0.58187877 -0.07188127 -1.86282896 -0.05106997 -0.04713331\n",
            "  0.71570781 -0.05045065  0.7984676   0.          0.56667653  0.54102709\n",
            "  1.02651874  1.77454918 -0.04252105]\n",
            "The intercept is \n",
            "-4.829068201907448\n",
            "The confusion matrix is: \n",
            "[1145, 1040]\n",
            "[520, 3553]\n",
            "The accuracy for the Twitter sentiment is 0.75071907957814\n",
            "The precision for the Twitter sentiment is 0.7735684737644242\n",
            "The recall for the Twitter sentiment is 0.8723299779032654\n",
            "The F1 score for the Twitter sentiment is 0.8199861527809832\n",
            "The F1 with Feature 14 is: 0.8199861527809832 but the target was: 0.8234750462107209\n",
            "The difference in F1 score without Feature 14 is: 0.003488893429737683\n",
            "---------------\n",
            "The iteration is 0 and the loss is 0.6931471805599453\n",
            "The iteration is 1000 and the loss is 0.5164560195077258\n",
            "The iteration is 2000 and the loss is 0.5122557008864609\n",
            "The iteration is 3000 and the loss is 0.510035777783161\n",
            "The iteration is 4000 and the loss is 0.5084711242995784\n",
            "The iteration is 5000 and the loss is 0.5073089941057035\n",
            "The weight is \n",
            "[ 3.72899557  0.92799558  0.10047839  1.34453595 -0.6714131   0.85968343\n",
            " -0.25836699  2.20357562  1.67912905 -0.50900821  0.41666502 -0.72623163\n",
            "  3.43247304 -4.32681731 -0.18335887 -1.02840618  0.05122942 -0.60870376\n",
            "  0.69050047 -0.06144359  0.31008605  0.         -0.11143833 -0.54892583\n",
            "  1.18666202  1.15815256 -0.03836932]\n",
            "The intercept is \n",
            "-4.061843344885439\n",
            "The confusion matrix is: \n",
            "[1171, 1014]\n",
            "[512, 3561]\n",
            "The accuracy for the Twitter sentiment is 0.756152125279642\n",
            "The precision for the Twitter sentiment is 0.778360655737705\n",
            "The recall for the Twitter sentiment is 0.874294132089369\n",
            "The F1 score for the Twitter sentiment is 0.8235430157261795\n",
            "The F1 with Feature 15 is: 0.8235430157261795 but the target was: 0.8234750462107209\n",
            "The difference in F1 score without Feature 15 is: -6.796951545862129e-05\n",
            "---------------\n",
            "The iteration is 0 and the loss is 0.6931471805599453\n",
            "The iteration is 1000 and the loss is 0.5163135388240562\n",
            "The iteration is 2000 and the loss is 0.5120012727037455\n",
            "The iteration is 3000 and the loss is 0.5096898209784274\n",
            "The iteration is 4000 and the loss is 0.5080597681345819\n",
            "The iteration is 5000 and the loss is 0.5068623722415878\n",
            "The weight is \n",
            "[ 3.79217235  0.9644625   0.07678083  1.41959969 -0.65682463  0.8708165\n",
            " -0.21900315  2.20229383  1.70921405 -0.87717486  0.37796045 -0.90924343\n",
            "  3.20155255 -4.45003372  0.90911104 -0.88064752  0.05500735 -1.0524744\n",
            "  0.68246877 -0.06843193  0.2829048   0.         -0.06971818 -0.46478716\n",
            "  1.18406439  1.16816585 -0.03474408]\n",
            "The intercept is \n",
            "-4.0024499357743855\n",
            "The confusion matrix is: \n",
            "[1167, 1018]\n",
            "[506, 3567]\n",
            "The accuracy for the Twitter sentiment is 0.7564717162032598\n",
            "The precision for the Twitter sentiment is 0.7779716466739367\n",
            "The recall for the Twitter sentiment is 0.8757672477289468\n",
            "The F1 score for the Twitter sentiment is 0.8239778239778239\n",
            "The F1 with Feature 16 is: 0.8239778239778239 but the target was: 0.8234750462107209\n",
            "The difference in F1 score without Feature 16 is: -0.0005027777671030575\n",
            "---------------\n",
            "The iteration is 0 and the loss is 0.6931471805599453\n",
            "The iteration is 1000 and the loss is 0.5174106917213711\n",
            "The iteration is 2000 and the loss is 0.5125270261322871\n",
            "The iteration is 3000 and the loss is 0.5098666039676442\n",
            "The iteration is 4000 and the loss is 0.5080252130877784\n",
            "The iteration is 5000 and the loss is 0.5067046351733576\n",
            "The weight is \n",
            "[ 3.80758887  0.89939273  0.07423442  1.3986525  -0.73686178  0.87229966\n",
            " -0.27646868  2.21693961  1.73046593 -0.76547619  0.34706429 -0.85918567\n",
            "  2.99219032 -4.63529168  1.26170792 -0.08834317  0.04152879 -1.28665208\n",
            "  0.6926471  -0.07161079  0.34812839  0.         -0.10416735 -0.60765496\n",
            "  1.16784701  1.173496   -0.03245874]\n",
            "The intercept is \n",
            "-4.680064596778289\n",
            "The confusion matrix is: \n",
            "[1165, 1020]\n",
            "[500, 3573]\n",
            "The accuracy for the Twitter sentiment is 0.7571108980504954\n",
            "The precision for the Twitter sentiment is 0.7779229261920314\n",
            "The recall for the Twitter sentiment is 0.8772403633685244\n",
            "The F1 score for the Twitter sentiment is 0.8246018924532655\n",
            "The F1 with Feature 17 is: 0.8246018924532655 but the target was: 0.8234750462107209\n",
            "The difference in F1 score without Feature 17 is: -0.0011268462425446657\n",
            "---------------\n",
            "The iteration is 0 and the loss is 0.6931471805599453\n",
            "The iteration is 1000 and the loss is 0.5163337829793266\n",
            "The iteration is 2000 and the loss is 0.5119828576603734\n",
            "The iteration is 3000 and the loss is 0.5096613042396567\n",
            "The iteration is 4000 and the loss is 0.5080373576379372\n",
            "The iteration is 5000 and the loss is 0.5068481247755345\n",
            "The weight is \n",
            "[ 3.78450815  0.95932462  0.08918869  1.41003952 -0.64961888  0.8740646\n",
            " -0.21823453  2.20868635  1.70429743 -0.84086121  0.38052317 -0.88090191\n",
            "  3.22064947 -4.4481951   0.90410438 -0.17866807 -0.89814241 -1.09446466\n",
            "  0.67948953 -0.06683023  0.29453278  0.         -0.07096595 -0.46612755\n",
            "  1.18796663  1.16654026 -0.03381557]\n",
            "The intercept is \n",
            "-3.9831990579145873\n",
            "The confusion matrix is: \n",
            "[1166, 1019]\n",
            "[509, 3564]\n",
            "The accuracy for the Twitter sentiment is 0.7558325343560243\n",
            "The precision for the Twitter sentiment is 0.7776565568404975\n",
            "The recall for the Twitter sentiment is 0.8750306899091579\n",
            "The F1 score for the Twitter sentiment is 0.8234750462107209\n",
            "The F1 with Feature 18 is: 0.8234750462107209 but the target was: 0.8234750462107209\n",
            "The difference in F1 score without Feature 18 is: 0.0\n",
            "---------------\n",
            "The iteration is 0 and the loss is 0.6931471805599453\n",
            "The iteration is 1000 and the loss is 0.5170015322839425\n",
            "The iteration is 2000 and the loss is 0.5128141727407733\n",
            "The iteration is 3000 and the loss is 0.5105242659224636\n",
            "The iteration is 4000 and the loss is 0.5088907985674728\n",
            "The iteration is 5000 and the loss is 0.5076733864044587\n",
            "The weight is \n",
            "[ 3.77869019  0.88222674 -0.01545751  1.36537173 -0.71675965  0.82880717\n",
            " -0.20884098  2.10394969  1.7065216  -0.45070075  0.4372576  -0.75425845\n",
            "  3.47773307 -4.24902868 -0.20952206  0.07421134 -1.04110575  0.06733056\n",
            "  0.6565917  -0.07338013  0.26808104  0.         -0.14780393 -0.63571723\n",
            "  1.22905676  1.14519918 -0.0572732 ]\n",
            "The intercept is \n",
            "-4.310621905191113\n",
            "The confusion matrix is: \n",
            "[1169, 1016]\n",
            "[521, 3552]\n",
            "The accuracy for the Twitter sentiment is 0.7543943751997443\n",
            "The precision for the Twitter sentiment is 0.7775831873905429\n",
            "The recall for the Twitter sentiment is 0.8720844586300025\n",
            "The F1 score for the Twitter sentiment is 0.8221270686263163\n",
            "The F1 with Feature 19 is: 0.8221270686263163 but the target was: 0.8234750462107209\n",
            "The difference in F1 score without Feature 19 is: 0.001347977584404525\n",
            "---------------\n",
            "The iteration is 0 and the loss is 0.6931471805599453\n",
            "The iteration is 1000 and the loss is 0.5164055061610511\n",
            "The iteration is 2000 and the loss is 0.5120980094635442\n",
            "The iteration is 3000 and the loss is 0.5098063596762872\n",
            "The iteration is 4000 and the loss is 0.5082029966540516\n",
            "The iteration is 5000 and the loss is 0.5070279388389032\n",
            "The weight is \n",
            "[ 3.76969582  0.95489325  0.09015308  1.40258138 -0.64892186  0.87463161\n",
            " -0.21309518  2.20561937  1.70549673 -0.83657347  0.37812766 -0.88415704\n",
            "  3.22437362 -4.45030982  0.90712331 -0.17988834 -0.89981094  0.05447857\n",
            " -1.08334822 -0.06615552  0.29520137  0.         -0.07441153 -0.47038835\n",
            "  1.18294498  1.16437046 -0.03437668]\n",
            "The intercept is \n",
            "-3.965116414636958\n",
            "The confusion matrix is: \n",
            "[1163, 1022]\n",
            "[508, 3565]\n",
            "The accuracy for the Twitter sentiment is 0.7555129434324065\n",
            "The precision for the Twitter sentiment is 0.7771964246784391\n",
            "The recall for the Twitter sentiment is 0.8752762091824208\n",
            "The F1 score for the Twitter sentiment is 0.8233256351039261\n",
            "The F1 with Feature 20 is: 0.8233256351039261 but the target was: 0.8234750462107209\n",
            "The difference in F1 score without Feature 20 is: 0.00014941110679478342\n",
            "---------------\n",
            "The iteration is 0 and the loss is 0.6931471805599453\n",
            "The iteration is 1000 and the loss is 0.516334368148961\n",
            "The iteration is 2000 and the loss is 0.5119832453916955\n",
            "The iteration is 3000 and the loss is 0.5096614597626334\n",
            "The iteration is 4000 and the loss is 0.5080372757319845\n",
            "The iteration is 5000 and the loss is 0.5068478007246485\n",
            "The weight is \n",
            "[ 3.78496195  0.95966278  0.08917167  1.41019979 -0.64980365  0.87395061\n",
            " -0.21840575  2.20859202  1.70448053 -0.84127238  0.38032852 -0.88046159\n",
            "  3.22069571 -4.4483443   0.9040367  -0.17865579 -0.89825535  0.05267689\n",
            " -1.09445135  0.67944176  0.29409941  0.         -0.07099057 -0.46594151\n",
            "  1.18822589  1.16650705 -0.03392863]\n",
            "The intercept is \n",
            "-3.9838921986312616\n",
            "The confusion matrix is: \n",
            "[1166, 1019]\n",
            "[509, 3564]\n",
            "The accuracy for the Twitter sentiment is 0.7558325343560243\n",
            "The precision for the Twitter sentiment is 0.7776565568404975\n",
            "The recall for the Twitter sentiment is 0.8750306899091579\n",
            "The F1 score for the Twitter sentiment is 0.8234750462107209\n",
            "The F1 with Feature 21 is: 0.8234750462107209 but the target was: 0.8234750462107209\n",
            "The difference in F1 score without Feature 21 is: 0.0\n",
            "---------------\n",
            "The iteration is 0 and the loss is 0.6931471805599453\n",
            "The iteration is 1000 and the loss is 0.5163683730000074\n",
            "The iteration is 2000 and the loss is 0.5120294367028562\n",
            "The iteration is 3000 and the loss is 0.5097187724774409\n",
            "The iteration is 4000 and the loss is 0.5081044684433768\n",
            "The iteration is 5000 and the loss is 0.5069237816203785\n",
            "The weight is \n",
            "[ 3.78165185  0.9550098   0.09588072  1.41421252 -0.63720295  0.88490454\n",
            " -0.21380488  2.2036663   1.70834132 -0.83140409  0.393172   -0.90194758\n",
            "  3.20149139 -4.46704154  0.90902733 -0.16104761 -0.90843148  0.05078768\n",
            " -1.08547174  0.67842751 -0.06001552  0.         -0.07303889 -0.47318108\n",
            "  1.18589472  1.16931586 -0.03708229]\n",
            "The intercept is \n",
            "-3.9420777645912994\n",
            "The confusion matrix is: \n",
            "[1170, 1015]\n",
            "[511, 3562]\n",
            "The accuracy for the Twitter sentiment is 0.756152125279642\n",
            "The precision for the Twitter sentiment is 0.7782390211929211\n",
            "The recall for the Twitter sentiment is 0.874539651362632\n",
            "The F1 score for the Twitter sentiment is 0.8235838150289018\n",
            "The F1 with Feature 22 is: 0.8235838150289018 but the target was: 0.8234750462107209\n",
            "The difference in F1 score without Feature 22 is: -0.00010876881818089323\n",
            "---------------\n",
            "The iteration is 0 and the loss is 0.6931471805599453\n",
            "The iteration is 1000 and the loss is 0.5163337648981696\n",
            "The iteration is 2000 and the loss is 0.5119824758821128\n",
            "The iteration is 3000 and the loss is 0.5096605563872266\n",
            "The iteration is 4000 and the loss is 0.5080362587179873\n",
            "The iteration is 5000 and the loss is 0.5068466849292902\n",
            "The weight is \n",
            "[ 3.78482296  0.95961696  0.08913285  1.41022504 -0.64968299  0.87404907\n",
            " -0.21844328  2.20870057  1.70453716 -0.84113012  0.38050787 -0.88064503\n",
            "  3.22044406 -4.44841141  0.90426279 -0.17841712 -0.89822205  0.05269887\n",
            " -1.09436821  0.67946859 -0.06685071  0.29464851 -0.07085495 -0.46595887\n",
            "  1.18808346  1.16645053 -0.0338025 ]\n",
            "The intercept is \n",
            "-3.983767986065102\n",
            "The confusion matrix is: \n",
            "[1166, 1019]\n",
            "[509, 3564]\n",
            "The accuracy for the Twitter sentiment is 0.7558325343560243\n",
            "The precision for the Twitter sentiment is 0.7776565568404975\n",
            "The recall for the Twitter sentiment is 0.8750306899091579\n",
            "The F1 score for the Twitter sentiment is 0.8234750462107209\n",
            "The F1 with Feature 23 is: 0.8234750462107209 but the target was: 0.8234750462107209\n",
            "The difference in F1 score without Feature 23 is: 0.0\n",
            "---------------\n",
            "The iteration is 0 and the loss is 0.6931471805599453\n",
            "The iteration is 1000 and the loss is 0.5162950343465595\n",
            "The iteration is 2000 and the loss is 0.5119692432807816\n",
            "The iteration is 3000 and the loss is 0.5096571191573145\n",
            "The iteration is 4000 and the loss is 0.5080359666300651\n",
            "The iteration is 5000 and the loss is 0.5068475385388082\n",
            "The weight is \n",
            "[ 3.78480773  0.96093271  0.08878585  1.41129583 -0.64916824  0.87362442\n",
            " -0.21829935  2.20872708  1.70436098 -0.83143786  0.36701403 -0.8872876\n",
            "  3.21894071 -4.44853588  0.90538044 -0.17850132 -0.89681755  0.05280491\n",
            " -1.09443525  0.67962676 -0.06737118  0.29473733  0.         -0.50733746\n",
            "  1.18709301  1.16667708 -0.03531442]\n",
            "The intercept is \n",
            "-3.979752069393171\n",
            "The confusion matrix is: \n",
            "[1167, 1018]\n",
            "[510, 3563]\n",
            "The accuracy for the Twitter sentiment is 0.7558325343560243\n",
            "The precision for the Twitter sentiment is 0.7777777777777778\n",
            "The recall for the Twitter sentiment is 0.8747851706358949\n",
            "The F1 score for the Twitter sentiment is 0.8234342500577768\n",
            "The F1 with Feature 24 is: 0.8234342500577768 but the target was: 0.8234750462107209\n",
            "The difference in F1 score without Feature 24 is: 4.079615294405592e-05\n",
            "---------------\n",
            "The iteration is 0 and the loss is 0.6931471805599453\n",
            "The iteration is 1000 and the loss is 0.5163022017535969\n",
            "The iteration is 2000 and the loss is 0.5119688364501297\n",
            "The iteration is 3000 and the loss is 0.5096639823240071\n",
            "The iteration is 4000 and the loss is 0.5080437892689443\n",
            "The iteration is 5000 and the loss is 0.506854351482768\n",
            "The weight is \n",
            "[ 3.78434623  0.96499663  0.0862449   1.41379228 -0.65373207  0.86639325\n",
            " -0.22118725  2.20777486  1.71038885 -0.77054858  0.21001086 -1.03309065\n",
            "  3.26284638 -4.41975375  0.94707839 -0.17544266 -0.91335307  0.05531217\n",
            " -1.12392406  0.68330652 -0.06642522  0.30320002  0.         -0.29489478\n",
            "  1.19077556  1.16642496 -0.04175809]\n",
            "The intercept is \n",
            "-4.009967430596498\n",
            "The confusion matrix is: \n",
            "[1167, 1018]\n",
            "[514, 3559]\n",
            "The accuracy for the Twitter sentiment is 0.7551933525087887\n",
            "The precision for the Twitter sentiment is 0.7775835700240332\n",
            "The recall for the Twitter sentiment is 0.8738030935428431\n",
            "The F1 score for the Twitter sentiment is 0.8228901734104046\n",
            "The F1 with Feature 25 is: 0.8228901734104046 but the target was: 0.8234750462107209\n",
            "The difference in F1 score without Feature 25 is: 0.0005848728003162718\n",
            "---------------\n",
            "The iteration is 0 and the loss is 0.6931471805599453\n",
            "The iteration is 1000 and the loss is 0.517362598157925\n",
            "The iteration is 2000 and the loss is 0.5130398587075309\n",
            "The iteration is 3000 and the loss is 0.5107820035133137\n",
            "The iteration is 4000 and the loss is 0.509198501547346\n",
            "The iteration is 5000 and the loss is 0.5080341300780242\n",
            "The weight is \n",
            "[ 3.74010805e+00  9.85818353e-01  3.61560771e-01  1.49222466e+00\n",
            " -4.72555488e-01  1.05946310e+00 -7.88718452e-04  2.23248895e+00\n",
            "  1.87738141e+00 -7.44062076e-01  3.71546352e-01 -8.75486024e-01\n",
            "  3.40783058e+00 -4.41662746e+00  8.92402588e-01 -1.56456365e-01\n",
            " -8.57112792e-01  4.17924204e-02 -1.13323050e+00  6.51902766e-01\n",
            " -7.69884377e-02  2.82763670e-01  0.00000000e+00 -1.16743415e-01\n",
            " -5.18059182e-01  1.16554857e+00 -3.09431823e-02]\n",
            "The intercept is \n",
            "-3.890301512902841\n",
            "The confusion matrix is: \n",
            "[1154, 1031]\n",
            "[505, 3568]\n",
            "The accuracy for the Twitter sentiment is 0.7545541706615532\n",
            "The precision for the Twitter sentiment is 0.7758208306153511\n",
            "The recall for the Twitter sentiment is 0.8760127670022096\n",
            "The F1 score for the Twitter sentiment is 0.8228782287822878\n",
            "The F1 with Feature 26 is: 0.8228782287822878 but the target was: 0.8234750462107209\n",
            "The difference in F1 score without Feature 26 is: 0.000596817428433094\n",
            "---------------\n",
            "The iteration is 0 and the loss is 0.6931471805599453\n",
            "The iteration is 1000 and the loss is 0.5178484422158528\n",
            "The iteration is 2000 and the loss is 0.5134253128699\n",
            "The iteration is 3000 and the loss is 0.5111100235295732\n",
            "The iteration is 4000 and the loss is 0.5095005520164334\n",
            "The iteration is 5000 and the loss is 0.5083260163947392\n",
            "The weight is \n",
            "[ 3.94155793  1.02496666  0.15683745  1.50651338 -0.59121998  0.91118527\n",
            " -0.08652423  2.20988226  1.8065302  -0.80391738  0.39931037 -0.95214701\n",
            "  3.13899575 -4.65866705  0.88039272 -0.19291468 -0.89078219  0.0643987\n",
            " -1.0540626   0.66246727 -0.07247669  0.31372292  0.         -0.0468264\n",
            " -0.43277531  1.18714253 -0.00989523]\n",
            "The intercept is \n",
            "-3.762767522501097\n",
            "The confusion matrix is: \n",
            "[1157, 1028]\n",
            "[514, 3559]\n",
            "The accuracy for the Twitter sentiment is 0.7535953978907\n",
            "The precision for the Twitter sentiment is 0.775888380204927\n",
            "The recall for the Twitter sentiment is 0.8738030935428431\n",
            "The F1 score for the Twitter sentiment is 0.8219399538106236\n",
            "The F1 with Feature 27 is: 0.8219399538106236 but the target was: 0.8234750462107209\n",
            "The difference in F1 score without Feature 27 is: 0.0015350924000973043\n",
            "---------------\n",
            "The iteration is 0 and the loss is 0.6931471805599453\n",
            "The iteration is 1000 and the loss is 0.5163340101158802\n",
            "The iteration is 2000 and the loss is 0.5119826742128999\n",
            "The iteration is 3000 and the loss is 0.5096607024933104\n",
            "The iteration is 4000 and the loss is 0.5080363389529559\n",
            "The iteration is 5000 and the loss is 0.5068466938846996\n",
            "The weight is \n",
            "[ 3.78526948  0.95972919  0.08911563  1.41047171 -0.64989921  0.87396593\n",
            " -0.21848957  2.20887995  1.70449108 -0.84083245  0.38015263 -0.88024835\n",
            "  3.22045152 -4.44841924  0.90448278 -0.17856745 -0.89812695  0.05272546\n",
            " -1.09467171  0.67958241 -0.06693897  0.29484725  0.         -0.07116529\n",
            " -0.46631567  1.18808411  1.16632075]\n",
            "The intercept is \n",
            "-3.9843846104322744\n",
            "The confusion matrix is: \n",
            "[1167, 1018]\n",
            "[509, 3564]\n",
            "The accuracy for the Twitter sentiment is 0.7559923298178332\n",
            "The precision for the Twitter sentiment is 0.7778262767350502\n",
            "The recall for the Twitter sentiment is 0.8750306899091579\n",
            "The F1 score for the Twitter sentiment is 0.8235701906412478\n",
            "The F1 with Feature 28 is: 0.8235701906412478 but the target was: 0.8234750462107209\n",
            "The difference in F1 score without Feature 28 is: -9.514443052693888e-05\n",
            "---------------\n"
          ]
        },
        {
          "output_type": "error",
          "ename": "AttributeError",
          "evalue": "ignored",
          "traceback": [
            "\u001b[0;31m---------------------------------------------------------------------------\u001b[0m",
            "\u001b[0;31mAttributeError\u001b[0m                            Traceback (most recent call last)",
            "\u001b[0;32m<ipython-input-55-7908cde1aeaa>\u001b[0m in \u001b[0;36m<module>\u001b[0;34m\u001b[0m\n\u001b[1;32m      8\u001b[0m   \u001b[0mprint\u001b[0m\u001b[0;34m(\u001b[0m\u001b[0;34m\"---------------\"\u001b[0m\u001b[0;34m)\u001b[0m\u001b[0;34m\u001b[0m\u001b[0;34m\u001b[0m\u001b[0m\n\u001b[1;32m      9\u001b[0m \u001b[0;32mfor\u001b[0m \u001b[0mi\u001b[0m \u001b[0;32min\u001b[0m \u001b[0mrange\u001b[0m\u001b[0;34m(\u001b[0m\u001b[0;36m0\u001b[0m\u001b[0;34m,\u001b[0m\u001b[0mlen\u001b[0m\u001b[0;34m(\u001b[0m\u001b[0mall_features\u001b[0m\u001b[0;34m)\u001b[0m\u001b[0;34m)\u001b[0m\u001b[0;34m:\u001b[0m\u001b[0;34m\u001b[0m\u001b[0;34m\u001b[0m\u001b[0m\n\u001b[0;32m---> 10\u001b[0;31m   \u001b[0mprint\u001b[0m\u001b[0;34m(\u001b[0m\u001b[0;34m\"To remove \"\u001b[0m \u001b[0;34m+\u001b[0m \u001b[0mstr\u001b[0m\u001b[0;34m(\u001b[0m\u001b[0mall_features\u001b[0m\u001b[0;34m[\u001b[0m\u001b[0mi\u001b[0m\u001b[0;34m]\u001b[0m\u001b[0;34m.\u001b[0m\u001b[0mname\u001b[0m\u001b[0;34m)\u001b[0m \u001b[0;34m+\u001b[0m \u001b[0;34m\" there was a loss of \"\u001b[0m \u001b[0;34m+\u001b[0m \u001b[0mstr\u001b[0m\u001b[0;34m(\u001b[0m\u001b[0mf1_diff_rem\u001b[0m\u001b[0;34m[\u001b[0m\u001b[0mi\u001b[0m\u001b[0;34m]\u001b[0m\u001b[0;34m)\u001b[0m \u001b[0;34m+\u001b[0m \u001b[0;34m\" in F1\"\u001b[0m\u001b[0;34m)\u001b[0m\u001b[0;34m\u001b[0m\u001b[0;34m\u001b[0m\u001b[0m\n\u001b[0m",
            "\u001b[0;31mAttributeError\u001b[0m: 'str' object has no attribute 'name'"
          ]
        },
        {
          "output_type": "display_data",
          "data": {
            "text/plain": [
              "<Figure size 432x288 with 1 Axes>"
            ],
            "image/png": "[encoded data removed]"
          },
          "metadata": {
            "needs_background": "light"
          }
        }
      ]
    },
    {
      "cell_type": "code",
      "source": [
        "for i in range(0,len(all_features)):\n",
        "  print(\"To remove \" + str(all_features[i]) + \" there was a loss of \" + str(f1_diff_rem[i]) + \" in F1\")"
      ],
      "metadata": {
        "colab": {
          "base_uri": "https://localhost:8080/"
        },
        "id": "SvV0U87jSz1h",
        "outputId": "c82a37a2-d9ca-4a8d-de2a-def87d139ff5"
      },
      "execution_count": null,
      "outputs": [
        {
          "output_type": "stream",
          "name": "stdout",
          "text": [
            "To remove feature1 there was a loss of 0.00277903330452145 in F1\n",
            "To remove feature2 there was a loss of 0.00017676815686673564 in F1\n",
            "To remove feature3 there was a loss of -0.00032622473093135707 in F1\n",
            "To remove feature4 there was a loss of 0.0013297174909977505 in F1\n",
            "To remove feature5 there was a loss of -0.00017664567055875047 in F1\n",
            "To remove feature6 there was a loss of -9.514443052693888e-05 in F1\n",
            "To remove feature7 there was a loss of -0.0004352324342090652 in F1\n",
            "To remove feature8 there was a loss of 0.0025073042752369323 in F1\n",
            "To remove feature9 there was a loss of 0.00013556281588700259 in F1\n",
            "To remove feature10 there was a loss of 0.00023105360443620437 in F1\n",
            "To remove feature11 there was a loss of -0.00047594211432822053 in F1\n",
            "To remove feature12 there was a loss of -0.000285499264836675 in F1\n",
            "To remove Feature 13 there was a loss of 0.0008553116463815291 in F1\n",
            "To remove Feature 14 there was a loss of 0.003488893429737683 in F1\n",
            "To remove Feature 15 there was a loss of -6.796951545862129e-05 in F1\n",
            "To remove Feature 16 there was a loss of -0.0005027777671030575 in F1\n",
            "To remove Feature 17 there was a loss of -0.0011268462425446657 in F1\n",
            "To remove Feature 18 there was a loss of 0.0 in F1\n",
            "To remove Feature 19 there was a loss of 0.001347977584404525 in F1\n",
            "To remove Feature 20 there was a loss of 0.00014941110679478342 in F1\n",
            "To remove Feature 21 there was a loss of 0.0 in F1\n",
            "To remove Feature 22 there was a loss of -0.00010876881818089323 in F1\n",
            "To remove Feature 23 there was a loss of 0.0 in F1\n",
            "To remove Feature 24 there was a loss of 4.079615294405592e-05 in F1\n",
            "To remove Feature 25 there was a loss of 0.0005848728003162718 in F1\n",
            "To remove Feature 26 there was a loss of 0.000596817428433094 in F1\n",
            "To remove Feature 27 there was a loss of 0.0015350924000973043 in F1\n",
            "To remove Feature 28 there was a loss of -9.514443052693888e-05 in F1\n"
          ]
        }
      ]
    },
    {
      "cell_type": "code",
      "source": [
        "f1_diffs_rem_percent = []\n",
        "maxnum=(max(f1_diff_rem))\n",
        "for i in range (0,len(f1_diff_rem)):\n",
        "  num=f1_diff_rem[i]\n",
        "  val = 100 * (num/maxnum)\n",
        "  f1_diffs_rem_percent.append(val)\n",
        "  print(\"The \" + str(all_features[i]) + \" has a relative importance percentage \" + str(f1_diffs_rem_percent[i]))"
      ],
      "metadata": {
        "colab": {
          "base_uri": "https://localhost:8080/"
        },
        "id": "exMp_DZMum0K",
        "outputId": "14a15fac-03b9-4b54-9fdb-dfc898abb713"
      },
      "execution_count": null,
      "outputs": [
        {
          "output_type": "stream",
          "name": "stdout",
          "text": [
            "The feature1 has a relative importance percentage 79.65371715955209\n",
            "The feature2 has a relative importance percentage 5.066596628032465\n",
            "The feature3 has a relative importance percentage -9.350378207335634\n",
            "The feature4 has a relative importance percentage 38.11287211193857\n",
            "The feature5 has a relative importance percentage -5.063085878551235\n",
            "The feature6 has a relative importance percentage -2.727066115461499\n",
            "The feature7 has a relative importance percentage -12.474798757088685\n",
            "The feature8 has a relative importance percentage 71.86531562889978\n",
            "The feature9 has a relative importance percentage 3.8855533600289727\n",
            "The feature10 has a relative importance percentage 6.622546921806564\n",
            "The feature11 has a relative importance percentage -13.641635203629734\n",
            "The feature12 has a relative importance percentage -8.183089297116783\n",
            "The Feature 13 has a relative importance percentage 24.515270059304644\n",
            "The Feature 14 has a relative importance percentage 100.0\n",
            "The Feature 15 has a relative importance percentage -1.9481682896726273\n",
            "The Feature 16 has a relative importance percentage -14.410808963599086\n",
            "The Feature 17 has a relative importance percentage -32.29809867334896\n",
            "The Feature 18 has a relative importance percentage 0.0\n",
            "The Feature 19 has a relative importance percentage 38.63624990419597\n",
            "The Feature 20 has a relative importance percentage 4.282478378997581\n",
            "The Feature 21 has a relative importance percentage 0.0\n",
            "The Feature 22 has a relative importance percentage -3.117573533596616\n",
            "The Feature 23 has a relative importance percentage 0.0\n",
            "The Feature 24 has a relative importance percentage 1.1693149637741511\n",
            "The Feature 25 has a relative importance percentage 16.763848254323037\n",
            "The Feature 26 has a relative importance percentage 17.106209761126657\n",
            "The Feature 27 has a relative importance percentage 43.999406431073545\n",
            "The Feature 28 has a relative importance percentage -2.727066115461499\n"
          ]
        }
      ]
    },
    {
      "cell_type": "markdown",
      "source": [
        "#Visualizations"
      ],
      "metadata": {
        "id": "4abZieyLZrX6"
      }
    },
    {
      "cell_type": "code",
      "source": [
        "\"\"\"\n",
        "some visualization of how much the F1 difference is for each feature\n",
        "order the features from best to worst with a label of each feature\n",
        "that way we can try to describe why the best measured better\n",
        "and why the worst measured worse\n",
        "\"\"\""
      ],
      "metadata": {
        "id": "qZ_zO2MWZuYE"
      },
      "execution_count": null,
      "outputs": []
    },
    {
      "cell_type": "code",
      "source": [
        "\"\"\"\n",
        "try remove one\n",
        "f1_diffs_rem_percent\n",
        "The feature1 has a relative importance percentage 79.65371715955209\n",
        "The feature2 has a relative importance percentage 5.066596628032465\n",
        "The feature3 has a relative importance percentage -9.350378207335634\n",
        "The feature4 has a relative importance percentage 38.11287211193857\n",
        "The feature5 has a relative importance percentage -5.063085878551235\n",
        "The feature6 has a relative importance percentage -2.727066115461499\n",
        "The feature7 has a relative importance percentage -12.474798757088685\n",
        "The feature8 has a relative importance percentage 71.86531562889978\n",
        "The feature9 has a relative importance percentage 3.8855533600289727\n",
        "The feature10 has a relative importance percentage 6.622546921806564\n",
        "The feature11 has a relative importance percentage -13.641635203629734\n",
        "The feature12 has a relative importance percentage -8.183089297116783\n",
        "The Feature 13 has a relative importance percentage 24.515270059304644\n",
        "The Feature 14 has a relative importance percentage 100.0\n",
        "The Feature 15 has a relative importance percentage -1.9481682896726273\n",
        "The Feature 16 has a relative importance percentage -14.410808963599086\n",
        "The Feature 17 has a relative importance percentage -32.29809867334896\n",
        "The Feature 18 has a relative importance percentage 0.0\n",
        "The Feature 19 has a relative importance percentage 38.63624990419597\n",
        "The Feature 20 has a relative importance percentage 4.282478378997581\n",
        "The Feature 21 has a relative importance percentage 0.0\n",
        "The Feature 22 has a relative importance percentage -3.117573533596616\n",
        "The Feature 23 has a relative importance percentage 0.0\n",
        "The Feature 24 has a relative importance percentage 1.1693149637741511\n",
        "The Feature 25 has a relative importance percentage 16.763848254323037\n",
        "The Feature 26 has a relative importance percentage 17.106209761126657\n",
        "The Feature 27 has a relative importance percentage 43.999406431073545\n",
        "The Feature 28 has a relative importance percentage -2.727066115461499\n",
        "\"\"\""
      ],
      "metadata": {
        "id": "ub0mg5yBediE"
      },
      "execution_count": null,
      "outputs": []
    },
    {
      "cell_type": "code",
      "source": [
        "\"\"\"\n",
        "try add one\n",
        "f1_diffs_add_percent\n",
        "The feature feature10 has a relative importance percentage 48.63731556675939\n",
        "The feature feature11 has a relative importance percentage 84.0731351911296\n",
        "The feature feature12 has a relative importance percentage 74.74470031918592\n",
        "The feature Feature 15 has a relative importance percentage 83.60990654729493\n",
        "The feature Feature 16 has a relative importance percentage 69.8840625054353\n",
        "The feature Feature 17 has a relative importance percentage 48.12447030468545\n",
        "The feature Feature 18 has a relative importance percentage 48.12447030468545\n",
        "The feature Feature 19 has a relative importance percentage 71.64622077596246\n",
        "The feature Feature 20 has a relative importance percentage 62.777223498411395\n",
        "The feature Feature 23 has a relative importance percentage 62.777223498411395\n",
        "The feature Feature 24 has a relative importance percentage 80.9438088884997\n",
        "The feature Feature 25 has a relative importance percentage 100.0\n",
        "The feature Feature 28 has a relative importance percentage 96.90003462249788\n",
        "\"\"\""
      ],
      "metadata": {
        "id": "GgDVS-uYei_J"
      },
      "execution_count": null,
      "outputs": []
    },
    {
      "cell_type": "code",
      "source": [
        "f1_diffs_add_percent_padded=['0','0','0','0','0','0','0','0','0','48.63731556675939','84.0731351911296','74.74470031918592','0','0','83.60990654729493','69.8840625054353','48.12447030468545','48.12447030468545','71.64622077596246','62.777223498411395', '0', '0', '62.777223498411395','80.9438088884997','100.0','0','0','96.90003462249788']"
      ],
      "metadata": {
        "id": "IjByfJ7H3b4x"
      },
      "execution_count": null,
      "outputs": []
    },
    {
      "cell_type": "code",
      "source": [
        "\"\"\"\n",
        "sklearn importance weights\n",
        "The feature feature1 has a relative importance percentage 86.40163468408473\n",
        "The feature feature2 has a relative importance percentage 58.47034172861291\n",
        "The feature feature3 has a relative importance percentage 52.35136295591531\n",
        "The feature feature4 has a relative importance percentage 54.667298886312345\n",
        "The feature feature5 has a relative importance percentage 43.16589301930024\n",
        "The feature feature6 has a relative importance percentage 51.793820864920214\n",
        "The feature feature7 has a relative importance percentage 45.87124158175938\n",
        "The feature feature8 has a relative importance percentage 69.95017570784626\n",
        "The feature feature9 has a relative importance percentage 66.18688252818464\n",
        "The feature feature10 has a relative importance percentage 27.100568860890473\n",
        "The feature feature11 has a relative importance percentage 23.76248645309518\n",
        "The feature feature12 has a relative importance percentage 26.34323571407327\n",
        "The feature Feature 13 has a relative importance percentage 63.77158217368765\n",
        "The feature Feature 14 has a relative importance percentage 100.0\n",
        "The feature Feature 15 has a relative importance percentage 19.93415218412927\n",
        "The feature Feature 16 has a relative importance percentage 18.48951650067179\n",
        "The feature Feature 17 has a relative importance percentage 12.124680833676008\n",
        "The feature Feature 18 has a relative importance percentage 0.29558592654752436\n",
        "The feature Feature 19 has a relative importance percentage 33.31950900754798\n",
        "The feature Feature 20 has a relative importance percentage 1.7483491926022832\n",
        "The feature Feature 21 has a relative importance percentage 60.640364548123436\n",
        "The feature Feature 22 has a relative importance percentage 43.51677324033304\n",
        "The feature Feature 23 has a relative importance percentage 0.0\n",
        "The feature Feature 24 has a relative importance percentage 37.105133477101845\n",
        "The feature Feature 25 has a relative importance percentage 38.83102787782608\n",
        "The feature Feature 26 has a relative importance percentage 56.08875958164439\n",
        "The feature Feature 27 has a relative importance percentage 55.08022606346591\n",
        "The feature Feature 28 has a relative importance percentage 1.0450935757526747\n",
        "\"\"\""
      ],
      "metadata": {
        "id": "2tLNpOWrg0SX"
      },
      "execution_count": null,
      "outputs": []
    },
    {
      "cell_type": "code",
      "source": [
        "sklearn_imp=['86.40163468408473','58.47034172861291','52.35136295591531','54.667298886312345','43.16589301930024','51.793820864920214','45.87124158175938','69.95017570784626','66.18688252818464','27.100568860890473','23.76248645309518','26.34323571407327','63.77158217368765','100.0','19.93415218412927','18.48951650067179','12.124680833676008','0.29558592654752436','33.31950900754798','1.7483491926022832','60.640364548123436','43.51677324033304','0.0','37.105133477101845','38.83102787782608','56.08875958164439','55.08022606346591','1.0450935757526747']"
      ],
      "metadata": {
        "id": "Ked3yQ_I5FGs"
      },
      "execution_count": null,
      "outputs": []
    },
    {
      "cell_type": "code",
      "source": [
        "label=list(all_features)\n",
        "\n",
        "fig = go.Figure(data=[\n",
        "    go.Bar(name='Remove One from All List', x=label, y=f1_diffs_rem_percent),\n",
        "    go.Bar(name='SKLearn', x=label, y=sklearn_imp),\n",
        "    go.Bar(name='Add One to Best List', x=label, y=f1_diffs_add_percent_padded)\n",
        "])\n",
        "# Change the bar mode\n",
        "fig.update_layout(barmode='group', xaxis={'categoryorder':'category ascending'})\n",
        "fig.show()"
      ],
      "metadata": {
        "colab": {
          "base_uri": "https://localhost:8080/",
          "height": 542
        },
        "id": "TaLft4bR6rgz",
        "outputId": "bf23e862-b1e5-41c0-f72f-803f60eb3d59"
      },
      "execution_count": null,
      "outputs": [
        {
          "output_type": "display_data",
          "data": {
            "text/html": [
              "<html>\n",
              "<head><meta charset=\"utf-8\" /></head>\n",
              "<body>\n",
              "    <div>            <script src=\"https://cdnjs.cloudflare.com/ajax/libs/mathjax/2.7.5/MathJax.js?config=TeX-AMS-MML_SVG\"></script><script type=\"text/javascript\">if (window.MathJax) {MathJax.Hub.Config({SVG: {font: \"STIX-Web\"}});}</script>                <script type=\"text/javascript\">window.PlotlyConfig = {MathJaxConfig: 'local'};</script>\n",
              "        <script src=\"https://cdn.plot.ly/plotly-2.8.3.min.js\"></script>                <div id=\"e6284cda-2c12-43fa-8fa8-fc9ba2c94dd0\" class=\"plotly-graph-div\" style=\"height:525px; width:100%;\"></div>            <script type=\"text/javascript\">                                    window.PLOTLYENV=window.PLOTLYENV || {};                                    if (document.getElementById(\"e6284cda-2c12-43fa-8fa8-fc9ba2c94dd0\")) {                    Plotly.newPlot(                        \"e6284cda-2c12-43fa-8fa8-fc9ba2c94dd0\",                        [{\"name\":\"Remove One from All List\",\"x\":[\"feature1\",\"feature2\",\"feature3\",\"feature4\",\"feature5\",\"feature6\",\"feature7\",\"feature8\",\"feature9\",\"feature10\",\"feature11\",\"feature12\",\"Feature 13\",\"Feature 14\",\"Feature 15\",\"Feature 16\",\"Feature 17\",\"Feature 18\",\"Feature 19\",\"Feature 20\",\"Feature 21\",\"Feature 22\",\"Feature 23\",\"Feature 24\",\"Feature 25\",\"Feature 26\",\"Feature 27\",\"Feature 28\"],\"y\":[79.65371715955209,5.066596628032465,-9.350378207335634,38.11287211193857,-5.063085878551235,-2.727066115461499,-12.474798757088685,71.86531562889978,3.8855533600289727,6.622546921806564,-13.641635203629734,-8.183089297116783,24.515270059304644,100.0,-1.9481682896726273,-14.410808963599086,-32.29809867334896,0.0,38.63624990419597,4.282478378997581,0.0,-3.117573533596616,0.0,1.1693149637741511,16.763848254323037,17.106209761126657,43.999406431073545,-2.727066115461499],\"type\":\"bar\"},{\"name\":\"SKLearn\",\"x\":[\"feature1\",\"feature2\",\"feature3\",\"feature4\",\"feature5\",\"feature6\",\"feature7\",\"feature8\",\"feature9\",\"feature10\",\"feature11\",\"feature12\",\"Feature 13\",\"Feature 14\",\"Feature 15\",\"Feature 16\",\"Feature 17\",\"Feature 18\",\"Feature 19\",\"Feature 20\",\"Feature 21\",\"Feature 22\",\"Feature 23\",\"Feature 24\",\"Feature 25\",\"Feature 26\",\"Feature 27\",\"Feature 28\"],\"y\":[\"86.40163468408473\",\"58.47034172861291\",\"52.35136295591531\",\"54.667298886312345\",\"43.16589301930024\",\"51.793820864920214\",\"45.87124158175938\",\"69.95017570784626\",\"66.18688252818464\",\"27.100568860890473\",\"23.76248645309518\",\"26.34323571407327\",\"63.77158217368765\",\"100.0\",\"19.93415218412927\",\"18.48951650067179\",\"12.124680833676008\",\"0.29558592654752436\",\"33.31950900754798\",\"1.7483491926022832\",\"60.640364548123436\",\"43.51677324033304\",\"0.0\",\"37.105133477101845\",\"38.83102787782608\",\"56.08875958164439\",\"55.08022606346591\",\"1.0450935757526747\"],\"type\":\"bar\"},{\"name\":\"Add One to Best List\",\"x\":[\"feature1\",\"feature2\",\"feature3\",\"feature4\",\"feature5\",\"feature6\",\"feature7\",\"feature8\",\"feature9\",\"feature10\",\"feature11\",\"feature12\",\"Feature 13\",\"Feature 14\",\"Feature 15\",\"Feature 16\",\"Feature 17\",\"Feature 18\",\"Feature 19\",\"Feature 20\",\"Feature 21\",\"Feature 22\",\"Feature 23\",\"Feature 24\",\"Feature 25\",\"Feature 26\",\"Feature 27\",\"Feature 28\"],\"y\":[\"0\",\"0\",\"0\",\"0\",\"0\",\"0\",\"0\",\"0\",\"0\",\"48.63731556675939\",\"84.0731351911296\",\"74.74470031918592\",\"0\",\"0\",\"83.60990654729493\",\"69.8840625054353\",\"48.12447030468545\",\"48.12447030468545\",\"71.64622077596246\",\"62.777223498411395\",\"0\",\"0\",\"62.777223498411395\",\"80.9438088884997\",\"100.0\",\"0\",\"0\",\"96.90003462249788\"],\"type\":\"bar\"}],                        {\"template\":{\"data\":{\"bar\":[{\"error_x\":{\"color\":\"#2a3f5f\"},\"error_y\":{\"color\":\"#2a3f5f\"},\"marker\":{\"line\":{\"color\":\"#E5ECF6\",\"width\":0.5},\"pattern\":{\"fillmode\":\"overlay\",\"size\":10,\"solidity\":0.2}},\"type\":\"bar\"}],\"barpolar\":[{\"marker\":{\"line\":{\"color\":\"#E5ECF6\",\"width\":0.5},\"pattern\":{\"fillmode\":\"overlay\",\"size\":10,\"solidity\":0.2}},\"type\":\"barpolar\"}],\"carpet\":[{\"aaxis\":{\"endlinecolor\":\"#2a3f5f\",\"gridcolor\":\"white\",\"linecolor\":\"white\",\"minorgridcolor\":\"white\",\"startlinecolor\":\"#2a3f5f\"},\"baxis\":{\"endlinecolor\":\"#2a3f5f\",\"gridcolor\":\"white\",\"linecolor\":\"white\",\"minorgridcolor\":\"white\",\"startlinecolor\":\"#2a3f5f\"},\"type\":\"carpet\"}],\"choropleth\":[{\"colorbar\":{\"outlinewidth\":0,\"ticks\":\"\"},\"type\":\"choropleth\"}],\"contour\":[{\"colorbar\":{\"outlinewidth\":0,\"ticks\":\"\"},\"colorscale\":[[0.0,\"#0d0887\"],[0.1111111111111111,\"#46039f\"],[0.2222222222222222,\"#7201a8\"],[0.3333333333333333,\"#9c179e\"],[0.4444444444444444,\"#bd3786\"],[0.5555555555555556,\"#d8576b\"],[0.6666666666666666,\"#ed7953\"],[0.7777777777777778,\"#fb9f3a\"],[0.8888888888888888,\"#fdca26\"],[1.0,\"#f0f921\"]],\"type\":\"contour\"}],\"contourcarpet\":[{\"colorbar\":{\"outlinewidth\":0,\"ticks\":\"\"},\"type\":\"contourcarpet\"}],\"heatmap\":[{\"colorbar\":{\"outlinewidth\":0,\"ticks\":\"\"},\"colorscale\":[[0.0,\"#0d0887\"],[0.1111111111111111,\"#46039f\"],[0.2222222222222222,\"#7201a8\"],[0.3333333333333333,\"#9c179e\"],[0.4444444444444444,\"#bd3786\"],[0.5555555555555556,\"#d8576b\"],[0.6666666666666666,\"#ed7953\"],[0.7777777777777778,\"#fb9f3a\"],[0.8888888888888888,\"#fdca26\"],[1.0,\"#f0f921\"]],\"type\":\"heatmap\"}],\"heatmapgl\":[{\"colorbar\":{\"outlinewidth\":0,\"ticks\":\"\"},\"colorscale\":[[0.0,\"#0d0887\"],[0.1111111111111111,\"#46039f\"],[0.2222222222222222,\"#7201a8\"],[0.3333333333333333,\"#9c179e\"],[0.4444444444444444,\"#bd3786\"],[0.5555555555555556,\"#d8576b\"],[0.6666666666666666,\"#ed7953\"],[0.7777777777777778,\"#fb9f3a\"],[0.8888888888888888,\"#fdca26\"],[1.0,\"#f0f921\"]],\"type\":\"heatmapgl\"}],\"histogram\":[{\"marker\":{\"pattern\":{\"fillmode\":\"overlay\",\"size\":10,\"solidity\":0.2}},\"type\":\"histogram\"}],\"histogram2d\":[{\"colorbar\":{\"outlinewidth\":0,\"ticks\":\"\"},\"colorscale\":[[0.0,\"#0d0887\"],[0.1111111111111111,\"#46039f\"],[0.2222222222222222,\"#7201a8\"],[0.3333333333333333,\"#9c179e\"],[0.4444444444444444,\"#bd3786\"],[0.5555555555555556,\"#d8576b\"],[0.6666666666666666,\"#ed7953\"],[0.7777777777777778,\"#fb9f3a\"],[0.8888888888888888,\"#fdca26\"],[1.0,\"#f0f921\"]],\"type\":\"histogram2d\"}],\"histogram2dcontour\":[{\"colorbar\":{\"outlinewidth\":0,\"ticks\":\"\"},\"colorscale\":[[0.0,\"#0d0887\"],[0.1111111111111111,\"#46039f\"],[0.2222222222222222,\"#7201a8\"],[0.3333333333333333,\"#9c179e\"],[0.4444444444444444,\"#bd3786\"],[0.5555555555555556,\"#d8576b\"],[0.6666666666666666,\"#ed7953\"],[0.7777777777777778,\"#fb9f3a\"],[0.8888888888888888,\"#fdca26\"],[1.0,\"#f0f921\"]],\"type\":\"histogram2dcontour\"}],\"mesh3d\":[{\"colorbar\":{\"outlinewidth\":0,\"ticks\":\"\"},\"type\":\"mesh3d\"}],\"parcoords\":[{\"line\":{\"colorbar\":{\"outlinewidth\":0,\"ticks\":\"\"}},\"type\":\"parcoords\"}],\"pie\":[{\"automargin\":true,\"type\":\"pie\"}],\"scatter\":[{\"marker\":{\"colorbar\":{\"outlinewidth\":0,\"ticks\":\"\"}},\"type\":\"scatter\"}],\"scatter3d\":[{\"line\":{\"colorbar\":{\"outlinewidth\":0,\"ticks\":\"\"}},\"marker\":{\"colorbar\":{\"outlinewidth\":0,\"ticks\":\"\"}},\"type\":\"scatter3d\"}],\"scattercarpet\":[{\"marker\":{\"colorbar\":{\"outlinewidth\":0,\"ticks\":\"\"}},\"type\":\"scattercarpet\"}],\"scattergeo\":[{\"marker\":{\"colorbar\":{\"outlinewidth\":0,\"ticks\":\"\"}},\"type\":\"scattergeo\"}],\"scattergl\":[{\"marker\":{\"colorbar\":{\"outlinewidth\":0,\"ticks\":\"\"}},\"type\":\"scattergl\"}],\"scattermapbox\":[{\"marker\":{\"colorbar\":{\"outlinewidth\":0,\"ticks\":\"\"}},\"type\":\"scattermapbox\"}],\"scatterpolar\":[{\"marker\":{\"colorbar\":{\"outlinewidth\":0,\"ticks\":\"\"}},\"type\":\"scatterpolar\"}],\"scatterpolargl\":[{\"marker\":{\"colorbar\":{\"outlinewidth\":0,\"ticks\":\"\"}},\"type\":\"scatterpolargl\"}],\"scatterternary\":[{\"marker\":{\"colorbar\":{\"outlinewidth\":0,\"ticks\":\"\"}},\"type\":\"scatterternary\"}],\"surface\":[{\"colorbar\":{\"outlinewidth\":0,\"ticks\":\"\"},\"colorscale\":[[0.0,\"#0d0887\"],[0.1111111111111111,\"#46039f\"],[0.2222222222222222,\"#7201a8\"],[0.3333333333333333,\"#9c179e\"],[0.4444444444444444,\"#bd3786\"],[0.5555555555555556,\"#d8576b\"],[0.6666666666666666,\"#ed7953\"],[0.7777777777777778,\"#fb9f3a\"],[0.8888888888888888,\"#fdca26\"],[1.0,\"#f0f921\"]],\"type\":\"surface\"}],\"table\":[{\"cells\":{\"fill\":{\"color\":\"#EBF0F8\"},\"line\":{\"color\":\"white\"}},\"header\":{\"fill\":{\"color\":\"#C8D4E3\"},\"line\":{\"color\":\"white\"}},\"type\":\"table\"}]},\"layout\":{\"annotationdefaults\":{\"arrowcolor\":\"#2a3f5f\",\"arrowhead\":0,\"arrowwidth\":1},\"autotypenumbers\":\"strict\",\"coloraxis\":{\"colorbar\":{\"outlinewidth\":0,\"ticks\":\"\"}},\"colorscale\":{\"diverging\":[[0,\"#8e0152\"],[0.1,\"#c51b7d\"],[0.2,\"#de77ae\"],[0.3,\"#f1b6da\"],[0.4,\"#fde0ef\"],[0.5,\"#f7f7f7\"],[0.6,\"#e6f5d0\"],[0.7,\"#b8e186\"],[0.8,\"#7fbc41\"],[0.9,\"#4d9221\"],[1,\"#276419\"]],\"sequential\":[[0.0,\"#0d0887\"],[0.1111111111111111,\"#46039f\"],[0.2222222222222222,\"#7201a8\"],[0.3333333333333333,\"#9c179e\"],[0.4444444444444444,\"#bd3786\"],[0.5555555555555556,\"#d8576b\"],[0.6666666666666666,\"#ed7953\"],[0.7777777777777778,\"#fb9f3a\"],[0.8888888888888888,\"#fdca26\"],[1.0,\"#f0f921\"]],\"sequentialminus\":[[0.0,\"#0d0887\"],[0.1111111111111111,\"#46039f\"],[0.2222222222222222,\"#7201a8\"],[0.3333333333333333,\"#9c179e\"],[0.4444444444444444,\"#bd3786\"],[0.5555555555555556,\"#d8576b\"],[0.6666666666666666,\"#ed7953\"],[0.7777777777777778,\"#fb9f3a\"],[0.8888888888888888,\"#fdca26\"],[1.0,\"#f0f921\"]]},\"colorway\":[\"#636efa\",\"#EF553B\",\"#00cc96\",\"#ab63fa\",\"#FFA15A\",\"#19d3f3\",\"#FF6692\",\"#B6E880\",\"#FF97FF\",\"#FECB52\"],\"font\":{\"color\":\"#2a3f5f\"},\"geo\":{\"bgcolor\":\"white\",\"lakecolor\":\"white\",\"landcolor\":\"#E5ECF6\",\"showlakes\":true,\"showland\":true,\"subunitcolor\":\"white\"},\"hoverlabel\":{\"align\":\"left\"},\"hovermode\":\"closest\",\"mapbox\":{\"style\":\"light\"},\"paper_bgcolor\":\"white\",\"plot_bgcolor\":\"#E5ECF6\",\"polar\":{\"angularaxis\":{\"gridcolor\":\"white\",\"linecolor\":\"white\",\"ticks\":\"\"},\"bgcolor\":\"#E5ECF6\",\"radialaxis\":{\"gridcolor\":\"white\",\"linecolor\":\"white\",\"ticks\":\"\"}},\"scene\":{\"xaxis\":{\"backgroundcolor\":\"#E5ECF6\",\"gridcolor\":\"white\",\"gridwidth\":2,\"linecolor\":\"white\",\"showbackground\":true,\"ticks\":\"\",\"zerolinecolor\":\"white\"},\"yaxis\":{\"backgroundcolor\":\"#E5ECF6\",\"gridcolor\":\"white\",\"gridwidth\":2,\"linecolor\":\"white\",\"showbackground\":true,\"ticks\":\"\",\"zerolinecolor\":\"white\"},\"zaxis\":{\"backgroundcolor\":\"#E5ECF6\",\"gridcolor\":\"white\",\"gridwidth\":2,\"linecolor\":\"white\",\"showbackground\":true,\"ticks\":\"\",\"zerolinecolor\":\"white\"}},\"shapedefaults\":{\"line\":{\"color\":\"#2a3f5f\"}},\"ternary\":{\"aaxis\":{\"gridcolor\":\"white\",\"linecolor\":\"white\",\"ticks\":\"\"},\"baxis\":{\"gridcolor\":\"white\",\"linecolor\":\"white\",\"ticks\":\"\"},\"bgcolor\":\"#E5ECF6\",\"caxis\":{\"gridcolor\":\"white\",\"linecolor\":\"white\",\"ticks\":\"\"}},\"title\":{\"x\":0.05},\"xaxis\":{\"automargin\":true,\"gridcolor\":\"white\",\"linecolor\":\"white\",\"ticks\":\"\",\"title\":{\"standoff\":15},\"zerolinecolor\":\"white\",\"zerolinewidth\":2},\"yaxis\":{\"automargin\":true,\"gridcolor\":\"white\",\"linecolor\":\"white\",\"ticks\":\"\",\"title\":{\"standoff\":15},\"zerolinecolor\":\"white\",\"zerolinewidth\":2}}},\"xaxis\":{\"categoryorder\":\"category ascending\"},\"barmode\":\"group\"},                        {\"responsive\": true}                    ).then(function(){\n",
              "                            \n",
              "var gd = document.getElementById('e6284cda-2c12-43fa-8fa8-fc9ba2c94dd0');\n",
              "var x = new MutationObserver(function (mutations, observer) {{\n",
              "        var display = window.getComputedStyle(gd).display;\n",
              "        if (!display || display === 'none') {{\n",
              "            console.log([gd, 'removed!']);\n",
              "            Plotly.purge(gd);\n",
              "            observer.disconnect();\n",
              "        }}\n",
              "}});\n",
              "\n",
              "// Listen for the removal of the full notebook cells\n",
              "var notebookContainer = gd.closest('#notebook-container');\n",
              "if (notebookContainer) {{\n",
              "    x.observe(notebookContainer, {childList: true});\n",
              "}}\n",
              "\n",
              "// Listen for the clearing of the current output cell\n",
              "var outputEl = gd.closest('.output');\n",
              "if (outputEl) {{\n",
              "    x.observe(outputEl, {childList: true});\n",
              "}}\n",
              "\n",
              "                        })                };                            </script>        </div>\n",
              "</body>\n",
              "</html>"
            ]
          },
          "metadata": {}
        }
      ]
    },
    {
      "cell_type": "markdown",
      "source": [
        "#Verify our LogReg against sklearn"
      ],
      "metadata": {
        "id": "KjL4vj0yvd5R"
      }
    },
    {
      "cell_type": "code",
      "source": [
        "#calling sklearn to compare. checks out my math above is correct!\n",
        "from sklearn.metrics import confusion_matrix, ConfusionMatrixDisplay\n",
        "confusion_matrix_twitter = confusion_matrix(y_test, y_pred)\n",
        "print(\"The confusion matrix for Twitter sentinment:\")\n",
        "print(confusion_matrix_twitter)\n",
        "disp = ConfusionMatrixDisplay(confusion_matrix=confusion_matrix_twitter)\n",
        "disp.plot()\n",
        "plt.show()"
      ],
      "metadata": {
        "id": "JNWDZ8A8Sbyo",
        "colab": {
          "base_uri": "https://localhost:8080/",
          "height": 331
        },
        "outputId": "af979f44-4fdc-41fc-9400-f7120b2e5901"
      },
      "execution_count": null,
      "outputs": [
        {
          "output_type": "stream",
          "name": "stdout",
          "text": [
            "The confusion matrix for Twitter sentinment:\n",
            "[[1166 1019]\n",
            " [ 509 3564]]\n"
          ]
        },
        {
          "output_type": "display_data",
          "data": {
            "text/plain": [
              "<Figure size 432x288 with 2 Axes>"
            ],
            "image/png": "[encoded data removed]"
          },
          "metadata": {
            "needs_background": "light"
          }
        }
      ]
    },
    {
      "cell_type": "code",
      "source": [
        "from sklearn import metrics \n",
        "print(\"The confusion matrix for Twitter sentiment:\")\n",
        "print(confusion_matrix_twitter)\n",
        "print(\"Accuracy:\", metrics.accuracy_score(y_test, y_pred))\n",
        "print(\"Precision:\", metrics.precision_score(y_test, y_pred))\n",
        "print(\"Recall:\", metrics.recall_score(y_test, y_pred))\n",
        "print(\"F1 Score:\", metrics.f1_score(y_test, y_pred))"
      ],
      "metadata": {
        "id": "dy9yad9Bs3Q1",
        "colab": {
          "base_uri": "https://localhost:8080/"
        },
        "outputId": "f48390c7-292f-4828-b097-1cd768bd618a"
      },
      "execution_count": null,
      "outputs": [
        {
          "output_type": "stream",
          "name": "stdout",
          "text": [
            "The confusion matrix for Twitter sentiment:\n",
            "[[1166 1019]\n",
            " [ 509 3564]]\n",
            "Accuracy: 0.7558325343560243\n",
            "Precision: 0.7776565568404975\n",
            "Recall: 0.8750306899091579\n",
            "F1 Score: 0.8234750462107209\n"
          ]
        }
      ]
    },
    {
      "cell_type": "code",
      "source": [
        "y_pred"
      ],
      "metadata": {
        "id": "E_I7rz3jSeDE",
        "colab": {
          "base_uri": "https://localhost:8080/"
        },
        "outputId": "0c1fe231-bd06-450e-8e2c-391f6b048be1"
      },
      "execution_count": null,
      "outputs": [
        {
          "output_type": "execute_result",
          "data": {
            "text/plain": [
              "array([1., 1., 1., ..., 0., 1., 1.])"
            ]
          },
          "metadata": {},
          "execution_count": 86
        }
      ]
    },
    {
      "cell_type": "code",
      "source": [
        "y_test"
      ],
      "metadata": {
        "id": "POPn5VzdWvnP",
        "colab": {
          "base_uri": "https://localhost:8080/"
        },
        "outputId": "5c2cbd4f-47fd-4b81-ddc3-81ced4289228"
      },
      "execution_count": null,
      "outputs": [
        {
          "output_type": "execute_result",
          "data": {
            "text/plain": [
              "25651    1\n",
              "5405     1\n",
              "4034     1\n",
              "21857    0\n",
              "27040    0\n",
              "        ..\n",
              "6528     1\n",
              "18615    1\n",
              "1397     1\n",
              "5312     1\n",
              "30506    1\n",
              "Name: Label, Length: 6258, dtype: int64"
            ]
          },
          "metadata": {},
          "execution_count": 87
        }
      ]
    },
    {
      "cell_type": "code",
      "source": [
        "#I implemented it from scratch above, just using this as a benchmark to test my code. \n",
        "#My code's metrics are really really close so I consider that a win\n",
        "from sklearn import metrics  \n",
        "from sklearn.linear_model import LogisticRegression\n",
        "from sklearn.model_selection import train_test_split\n",
        "from sklearn.metrics import confusion_matrix\n",
        "#X=np.concatenate((X_train_norm, X_test_norm))\n",
        "#y=np.concatenate((y_train, y_test))\n",
        "#y.loc[y.Label == 2, 'Label'] = 1\n",
        "X_train2, X_test2, y_train2, y_test2 = train_test_split(\n",
        "Xc_selected, yc, test_size=0.33, random_state=55)\n",
        "X_train2, X_test2, y_train2, y_test2 = X_train_norm, X_test_norm, y_train, y_test\n",
        "goodmodel = LogisticRegression(max_iter=100000)\n",
        "goodmodel.fit(X_train, y_train)\n",
        "y_pred2 = pd.Series(goodmodel.predict(X_test2))\n",
        "confusion_matrix_twitter2 = confusion_matrix(y_test2, y_pred2)\n",
        "print(\"The confusion matrix for Twitter sentiment:\")\n",
        "print(confusion_matrix_twitter2)\n",
        "disp = ConfusionMatrixDisplay(confusion_matrix=confusion_matrix_twitter2)\n",
        "disp.plot()\n",
        "plt.show()\n",
        "print(\"Accuracy:\", metrics.accuracy_score(y_test2, y_pred2))\n",
        "print(\"Precision:\", metrics.precision_score(y_test2, y_pred2))\n",
        "print(\"Recall:\", metrics.recall_score(y_test2, y_pred2))\n",
        "print(\"F1:\"), metrics.f1_score(y_test2, y_pred2)"
      ],
      "metadata": {
        "id": "glUnTXt8om5M",
        "colab": {
          "base_uri": "https://localhost:8080/",
          "height": 488
        },
        "outputId": "42e966f8-aa3a-4896-d676-345fca2f3f90"
      },
      "execution_count": null,
      "outputs": [
        {
          "output_type": "stream",
          "name": "stdout",
          "text": [
            "The confusion matrix for Twitter sentiment:\n",
            "[[   7 2178]\n",
            " [   4 4069]]\n"
          ]
        },
        {
          "output_type": "stream",
          "name": "stderr",
          "text": [
            "/usr/local/lib/python3.7/dist-packages/sklearn/base.py:451: UserWarning:\n",
            "\n",
            "X does not have valid feature names, but LogisticRegression was fitted with feature names\n",
            "\n"
          ]
        },
        {
          "output_type": "display_data",
          "data": {
            "text/plain": [
              "<Figure size 432x288 with 2 Axes>"
            ],
            "image/png": "[encoded data removed]"
          },
          "metadata": {
            "needs_background": "light"
          }
        },
        {
          "output_type": "stream",
          "name": "stdout",
          "text": [
            "Accuracy: 0.6513263023330137\n",
            "Precision: 0.6513526492716504\n",
            "Recall: 0.9990179229069482\n",
            "F1:\n"
          ]
        },
        {
          "output_type": "execute_result",
          "data": {
            "text/plain": [
              "(None, 0.7885658914728682)"
            ]
          },
          "metadata": {},
          "execution_count": 100
        }
      ]
    },
    {
      "cell_type": "code",
      "source": [
        "y_test2"
      ],
      "metadata": {
        "id": "YMFkOfozo6in",
        "colab": {
          "base_uri": "https://localhost:8080/"
        },
        "outputId": "0cc83005-aa9b-4046-8678-196af0866aa2"
      },
      "execution_count": null,
      "outputs": [
        {
          "output_type": "execute_result",
          "data": {
            "text/plain": [
              "25651    1\n",
              "5405     1\n",
              "4034     1\n",
              "21857    0\n",
              "27040    0\n",
              "        ..\n",
              "6528     1\n",
              "18615    1\n",
              "1397     1\n",
              "5312     1\n",
              "30506    1\n",
              "Name: Label, Length: 6258, dtype: int64"
            ]
          },
          "metadata": {},
          "execution_count": 101
        }
      ]
    },
    {
      "cell_type": "code",
      "source": [
        "y_pred2"
      ],
      "metadata": {
        "id": "QOZLX2oio7Ta",
        "colab": {
          "base_uri": "https://localhost:8080/"
        },
        "outputId": "5dfe5e1a-6998-4d0a-d8d3-faf55ea1c0f9"
      },
      "execution_count": null,
      "outputs": [
        {
          "output_type": "execute_result",
          "data": {
            "text/plain": [
              "0       1\n",
              "1       1\n",
              "2       1\n",
              "3       1\n",
              "4       1\n",
              "       ..\n",
              "6253    1\n",
              "6254    1\n",
              "6255    1\n",
              "6256    1\n",
              "6257    1\n",
              "Length: 6258, dtype: int64"
            ]
          },
          "metadata": {},
          "execution_count": 102
        }
      ]
    },
    {
      "cell_type": "code",
      "source": [
        "print(\"Complete\")"
      ],
      "metadata": {
        "id": "xR1--HPQpTwH"
      },
      "execution_count": null,
      "outputs": []
    },
    {
      "cell_type": "code",
      "source": [
        "# Allow about 16min for runtime\n",
        "#Extract all features and put them in on data frame\n",
        "\n",
        "def feature_extraction(data_location, label_location):\n",
        "  df = pd.read_csv(data_location, header=None)\n",
        "  df.columns = ['TWEET']\n",
        "\n",
        "  df[\"Tweet Tokens\"] = np.nan\n",
        "  df[\"Count: Words in + Lexicon\"] = np.nan\n",
        "  df[\"Count: Words in - Lexicon\"] = np.nan\n",
        "  df[\"Contain The word NO? \"] = np.nan\n",
        "  df[\"Count: Nouns\"] = np.nan\n",
        "  df[\"Ratio: Unique Words-Total Words\"] = np.nan\n",
        "  df[\"Ratio: Stop Words-Total Words\"] = np.nan\n",
        "  df[\"Count: Adjectives in Tweet\"] = np.nan\n",
        "  df[\"Log: Tweet word count\"] = np.nan\n",
        "  df[\"Log: Length of Longest Word in Tweet\"] = np.nan\n",
        "  df[\"Log: Count of Words with 5+ Characters\"] = np.nan\n",
        "\n",
        "  # ADD LABELS COLUMN TO DF \n",
        "  labels = pd.read_csv(label_location, sep=\"\\n\", header=None)\n",
        "  df = pd.concat([df,labels], axis = 1)\n",
        "  df.rename(columns = {0:'Labels'}, inplace = True)\n",
        "\n",
        "  # DROP NEUTRAL LABELS FROM DF\n",
        "  df.drop(df.loc[df['Labels']==1].index, inplace=True)\n",
        "  df = df.reset_index(drop=True)\n",
        "\n",
        "  # CHANGE ALL 2 LABEL VALUES TO 1 \n",
        "  for i in range(0, len(df.index)):\n",
        "    if df['Labels'].values[i] == 2:\n",
        "      df.at[i,'Labels'] = 1\n",
        "\n",
        "  # CLEAN TWEETS\n",
        "  pattern_a = r'[^A-Za-z0-9]+'\n",
        "  pattern_b = r'\\b\\w{1,1}\\b'\n",
        "  emoji_pattern = re.compile(\"[\"\n",
        "        u\"\\U0001F600-\\U0001F64F\"  # emoticons\n",
        "        u\"\\U0001F300-\\U0001F5FF\"  # symbols & pictographs\n",
        "        u\"\\U0001F680-\\U0001F6FF\"  # transport & map symbols\n",
        "        u\"\\U0001F1E0-\\U0001F1FF\"  # flags (iOS)\n",
        "                            \"]+\", flags=re.UNICODE)\n",
        "\n",
        "  for i in range(0, len(df.index)):                       \n",
        "    df['TWEET'].values[i] = df['TWEET'].values[i].lower()\n",
        "    df['TWEET'].values[i] = df['TWEET'].values[i].replace('@user', '')\n",
        "    df['TWEET'].values[i] = re.sub(pattern_a, ' ', df['TWEET'].values[i])\n",
        "    df['TWEET'].values[i] = re.sub(pattern_b, '', df['TWEET'].values[i])\n",
        "    df['TWEET'].values[i] = re.sub(emoji_pattern, '', df['TWEET'].values[i])\n",
        "\n",
        "  #TOKENIZE TWEETS\n",
        "  df['Tweet Tokens'] = df['Tweet Tokens'].astype('object')\n",
        "  for i in range(0, len(df.index)):\n",
        "    \n",
        "    tokens = df['TWEET'].values[i].split()\n",
        "    df.at[i, 'Tweet Tokens'] = tokens\n",
        "\n",
        "  #Create Positive and Negative Lexicons\n",
        "  pos_lexicon = []\n",
        "  neg_lexicon = []\n",
        "\n",
        "  for i in range(0, len(subreddit_dataframes)):               \n",
        "    for j in range(0, len(subreddit_dataframes[i].index)):    \n",
        "\n",
        "      if subreddit_dataframes[i]['Sentiment Score'].values[j] >= 0:         \n",
        "        pos_lexicon.append(subreddit_dataframes[i]['Word'].values[j])        \n",
        "      \n",
        "      if subreddit_dataframes[i]['Sentiment Score'].values[j] < 0:         \n",
        "        neg_lexicon.append(subreddit_dataframes[i]['Word'].values[j])        \n",
        "\n",
        "\n",
        "  pos_lexicon = [*set(pos_lexicon)]   # Remove duplicate values from + lexicon\n",
        "  neg_lexicon = [*set(neg_lexicon)]   # Remove duplicate values from - lexicon\n",
        "\n",
        "\n",
        "  #Handle duplicate words in postitive and negative lexicon\n",
        "  same_wrds = set(pos_lexicon).intersection(neg_lexicon)      #get set of all words that appear in both psoitive and Negative Lexicon\n",
        "                                                              #https://stackoverflow.com/questions/1388818/how-can-i-compare-two-lists-in-python-and-return-matches\n",
        "\n",
        "  word_vals_dict = dict.fromkeys(same_wrds, 0)                # Create a dictionary to hold of all words found in positive and negative lexicons     \n",
        "  sentiment_vals2sum = []\n",
        "\n",
        "  for k in range(0, len(same_wrds)):    # In the set of words identified in positive and negative lexicon\n",
        "  \n",
        "    i = same_wrds.pop()                 # i will return one word from the set, then the following with each iteration\n",
        "    same_wrds.add(i)                    # https://stackoverflow.com/questions/59825/how-to-retrieve-an-element-from-a-set-without-removing-it\n",
        "\n",
        "    sentiment_vals2sum = []             # Will store the Sentiment Scores collected across data frames \n",
        "\n",
        "    for j in range(0, len(subreddit_dataframes)):                    # in range of dataframes(44)\n",
        "      is_wrd_there = i in subreddit_dataframes[j]['Word'].unique()   # Return true or false. True if desired word 'i' is in the data frame being checked false if not (ls_df_names[0], ls_df_names[1],...)\n",
        "      if is_wrd_there is True:                              # If true... \n",
        "\n",
        "        mask1 = subreddit_dataframes[j]['Word'].values == i                  # Get the sentiment value of the word from its dataframe \n",
        "                                                                    # https://stackoverflow.com/questions/17071871/how-do-i-select-rows-from-a-dataframe-based-on-column-values\n",
        "                                                      \n",
        "        sentiment_vals2sum.append(subreddit_dataframes[j][mask1].iat[0,1])   # append sentiment value to list where they are stored eg. sentiment_vals2sum \n",
        "        num_avg = mean(sentiment_vals2sum)                          # Take the mean of the sentiment scores collected in the list above(these are all sentiment scores for one word collected across dataframes where the word was found 'True')\n",
        "        word_vals_dict[i] = num_avg  \n",
        "\n",
        "  # Remove words that now have a clear positive or negative classification\n",
        "  for w in word_vals_dict.items():        # .items() returns a tuple of (word, score). See Cell above for all words: scores in dict\n",
        "    if w[1] >= 0:                         # if w[1] (the score) is greater than 0...\n",
        "      neg_lexicon.remove(w[0])            # remove it from the negative lexicon\n",
        "    if w[1] < 0:                          # If w[1] (the score) is less than 0...\n",
        "      pos_lexicon.remove(w[0])            # remove the word from the positive lexicon\n",
        "\n",
        "  # COUNT POSITIVE AND NEGATIVE WORDS\n",
        "  neg_lex_set = set(neg_lexicon)\n",
        "  pos_lex_set = set(pos_lexicon)\n",
        "\n",
        "  for i in range(0, len(df.index)):\n",
        "    x = set(df['Tweet Tokens'][i])\n",
        "    df['Count: Words in + Lexicon'].values[i] = len(x.intersection(pos_lex_set))\n",
        "    df['Count: Words in - Lexicon'].values[i] = len(x.intersection(neg_lex_set))\n",
        "\n",
        "  # DOES TWEET CONTAIN NO\n",
        "  for i in range(0, len(df.index)):                       # In the range 0 to length of the tweets dataframe         # Tokenize and lowercase tweets \n",
        "    if 'no' in df['Tweet Tokens'][i]:                                    # If no is in tweet dataframe value is 1 if not value is zero\n",
        "      df['Contain The word NO? '].values[i] = 1\n",
        "    else: \n",
        "      df['Contain The word NO? '].values[i] = 0\n",
        "\n",
        "  # COUNT NOUNS IN TWEET\n",
        "  for i in range(0, len(df.index)):\n",
        "    tokens = df['Tweet Tokens'][i]\n",
        "    tokens = [w for w in tokens if not w in stop_words]\n",
        "    tagged = nltk.pos_tag(tokens)\n",
        "\n",
        "    noun_definitions = ['NN', 'NNS', 'NNP', 'NNPS']\n",
        "    count = 0\n",
        "\n",
        "    for j in range(0, len(tagged)):\n",
        "      if tagged[j][1] in noun_definitions:\n",
        "        count += 1\n",
        "    \n",
        "    df['Count: Nouns'].values[i] = count    \n",
        "\n",
        "  # RATIO: UNIQUE TO TOTAL WORDS\n",
        "  for i in range(0, len(df.index)):                       \n",
        "    tokens = df['Tweet Tokens'][i]\n",
        "    x = np.array(tokens)\n",
        "    ratio = len(np.unique(x)) / len(tokens)\n",
        "    df['Ratio: Unique Words-Total Words'].values[i] = ratio    \n",
        "\n",
        "  # STOP WORDS TO TOTAL WORDS\n",
        "  for i in range(0, len(df.index)):                       \n",
        "    tokens = df['Tweet Tokens'][i]\n",
        "    x = np.array(tokens)\n",
        "    stop_wrds_count = [w for w in tokens if w in stop_words]\n",
        "    ratio = len(stop_wrds_count) / len(tokens)\n",
        "    df['Ratio: Stop Words-Total Words'].values[i] = ratio\n",
        "\n",
        "  #ADJECTIVES IN TWEET\n",
        "  for i in range(0, len(df.index)):\n",
        "    tokens = df['Tweet Tokens'][i]\n",
        "    tokens = [w for w in tokens if not w in stop_words]\n",
        "    tagged = nltk.pos_tag(tokens)\n",
        "\n",
        "    adj_definitions = ['JJ', 'JJR', 'JJS ']\n",
        "    count = 0\n",
        "\n",
        "    for j in range(0, len(tagged)):\n",
        "      if tagged[j][1] in adj_definitions:\n",
        "        count += 1\n",
        "    \n",
        "    df['Count: Adjectives in Tweet'].values[i] = count\n",
        "\n",
        "  # LOG OF TWEET WORD COUNT \n",
        "  for i in range(0, len(df.index)):           #In range: length of dataframe of tweets\n",
        "    tokens = df['Tweet Tokens'][i]       #tokenize tweets \n",
        "    log_val = math.log(len(tokens))\n",
        "    df['Log: Tweet word count'].values[i] = log_val\n",
        "\n",
        "\n",
        "  # LOG LENGTH OF LONGEST WORD IN TWEET\n",
        "  for i in range(0, len(df.index)):           #In range: length of dataframe of tweets\n",
        "    tokens = df['Tweet Tokens'][i]   #tokenize tweets \n",
        "    longest_wrd = max(tokens, key=len)\n",
        "    log_val =  math.log(len(longest_wrd))\n",
        "    df['Log: Length of Longest Word in Tweet'].values[i] = log_val\n",
        "\n",
        "  #LOG OF COUNT OF WORD WITH 5+ CHARACTERS\n",
        "  for i in range(0, len(df.index)):           #In range: length of dataframe of tweets\n",
        "    tokens = df['Tweet Tokens'][i]    #tokenize tweets\n",
        "    count = 0\n",
        "      \n",
        "    if any(len(i) >= 5 for i in tokens) is True:\n",
        "\n",
        "      for j in range(0, len(tokens)):\n",
        "        if len(tokens[j]) >= 5:\n",
        "          count = count +1\n",
        "\n",
        "      log_val = math.log(count)\n",
        "      df['Log: Count of Words with 5+ Characters'].values[i] = log_val\n",
        "      \n",
        "    else:\n",
        "      df['Log: Count of Words with 5+ Characters'].values[i] = 0\n",
        "\n",
        "\n",
        "  return(df)"
      ],
      "metadata": {
        "id": "92GOZSc0Nmps"
      },
      "execution_count": null,
      "outputs": []
    },
    {
      "cell_type": "code",
      "source": [
        "#How to run: \n",
        "# dataframe = feature_extraction(data_location, label_location)"
      ],
      "metadata": {
        "id": "p45NGKHsMeWf"
      },
      "execution_count": null,
      "outputs": []
    }
  ]
}